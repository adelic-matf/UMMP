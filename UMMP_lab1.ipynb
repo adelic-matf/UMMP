{
  "cells": [
    {
      "cell_type": "markdown",
      "metadata": {
        "id": "view-in-github",
        "colab_type": "text"
      },
      "source": [
        "<a href=\"https://colab.research.google.com/github/adelic-matf/UMMP/blob/main/UMMP_lab1.ipynb\" target=\"_parent\"><img src=\"https://colab.research.google.com/assets/colab-badge.svg\" alt=\"Open In Colab\"/></a>"
      ]
    },
    {
      "cell_type": "markdown",
      "id": "3f2263e9-5392-4fcf-b0fa-7273eca0a50a",
      "metadata": {
        "id": "3f2263e9-5392-4fcf-b0fa-7273eca0a50a"
      },
      "source": [
        "# **Uvod u Python (prvi deo)**"
      ]
    },
    {
      "cell_type": "markdown",
      "id": "9a1a27ba-bcd3-4b1c-8b18-582d7e93db04",
      "metadata": {
        "id": "9a1a27ba-bcd3-4b1c-8b18-582d7e93db04"
      },
      "source": [
        "Prva komanda sa kojom se obično upoznajemo u nekom programskom jeziku je komanda za štampu teksta:"
      ]
    },
    {
      "cell_type": "code",
      "execution_count": 1,
      "id": "97a3befc-ba0c-4dae-ad6d-f53e797af4d3",
      "metadata": {
        "id": "97a3befc-ba0c-4dae-ad6d-f53e797af4d3",
        "outputId": "ca960b35-b748-430a-806c-4451069e7bfb",
        "colab": {
          "base_uri": "https://localhost:8080/"
        }
      },
      "outputs": [
        {
          "output_type": "stream",
          "name": "stdout",
          "text": [
            "Zdravo\n"
          ]
        }
      ],
      "source": [
        "print('Zdravo')"
      ]
    },
    {
      "cell_type": "markdown",
      "id": "d4edc8bc-97f5-4541-802b-b09e9790ed29",
      "metadata": {
        "id": "d4edc8bc-97f5-4541-802b-b09e9790ed29"
      },
      "source": [
        "Koristićemo je često jer Python ne ispisuje automatski rezultat nakon dodeljivanja vrednosti promenljivoj ili sličnih operacija."
      ]
    },
    {
      "cell_type": "raw",
      "id": "b2abbe92-1571-4c80-a4b8-faf251138829",
      "metadata": {
        "id": "b2abbe92-1571-4c80-a4b8-faf251138829"
      },
      "source": [
        "Još jedna osnovna stvar je oznaka za komentar (#). U Jupyter sveskama je nećemo često koristit, jer one omogućavaju da pišemo beleške u posebnim ćelijama kao što je ova."
      ]
    },
    {
      "cell_type": "markdown",
      "id": "c1b5f3e7-018c-4c0d-89e0-f919c2e4fb33",
      "metadata": {
        "id": "c1b5f3e7-018c-4c0d-89e0-f919c2e4fb33"
      },
      "source": [
        "## **Osnovni tipovi podataka i inicijalizacija promenljivih**"
      ]
    },
    {
      "cell_type": "markdown",
      "id": "34a92f3d-1797-4149-a1a1-a6487bcd388c",
      "metadata": {
        "id": "34a92f3d-1797-4149-a1a1-a6487bcd388c"
      },
      "source": [
        "Tipovi podataka koji su nam dostupni u Python su\n",
        " - **numerički**:\n",
        "   - integer (celi brojevi)\n",
        "   - float (realni brojevi)\n",
        "   - kompleksni brojevi (koje nećemo koristiti)\n",
        " - **string** (tekstualni podaci)\n",
        " - **boolean** (logičke vrednosti: True i False)"
      ]
    },
    {
      "cell_type": "markdown",
      "id": "324a0433-42ab-43c0-a68d-040085246317",
      "metadata": {
        "id": "324a0433-42ab-43c0-a68d-040085246317"
      },
      "source": [
        "Python je dinamički tipiziran jezik, što znači da nije potrebno eksplicitno deklarisati tip promenljive. Dovoljno je samo dodeliti vrednost promenljivoj."
      ]
    },
    {
      "cell_type": "markdown",
      "source": [
        "**Primer: dodela celog broja promenljivoj**"
      ],
      "metadata": {
        "id": "PVSiJdIGmLsQ"
      },
      "id": "PVSiJdIGmLsQ"
    },
    {
      "cell_type": "code",
      "execution_count": 2,
      "id": "c58e3f58-3a6d-4fb3-adb8-ce777a3d3a07",
      "metadata": {
        "id": "c58e3f58-3a6d-4fb3-adb8-ce777a3d3a07"
      },
      "outputs": [],
      "source": [
        "a=5"
      ]
    },
    {
      "cell_type": "markdown",
      "id": "a52a4c7b-b387-45f4-9aa2-f8eee9d0ea6b",
      "metadata": {
        "id": "a52a4c7b-b387-45f4-9aa2-f8eee9d0ea6b"
      },
      "source": [
        "Python automatski prepoznaje da je a tipa int, što možemo proveriti komandom:"
      ]
    },
    {
      "cell_type": "code",
      "execution_count": 3,
      "id": "b8537541-b2d7-4444-8ca6-dc943adc8942",
      "metadata": {
        "id": "b8537541-b2d7-4444-8ca6-dc943adc8942",
        "outputId": "69c2034f-963e-4e8b-f01e-71f91d5d872d",
        "colab": {
          "base_uri": "https://localhost:8080/"
        }
      },
      "outputs": [
        {
          "output_type": "execute_result",
          "data": {
            "text/plain": [
              "int"
            ]
          },
          "metadata": {},
          "execution_count": 3
        }
      ],
      "source": [
        "type(a)"
      ]
    },
    {
      "cell_type": "markdown",
      "source": [
        "**Realni brojevi (float)**"
      ],
      "metadata": {
        "id": "PR6h8lXGnVRY"
      },
      "id": "PR6h8lXGnVRY"
    },
    {
      "cell_type": "markdown",
      "id": "f11bf51a-df55-4121-9a19-e8ca61b45c30",
      "metadata": {
        "id": "f11bf51a-df55-4121-9a19-e8ca61b45c30"
      },
      "source": [
        "Ako želimo da broj 5 bude tretiran kao realan broj (float), inicijalizacija se vrši na sledeći način:"
      ]
    },
    {
      "cell_type": "code",
      "execution_count": 4,
      "id": "23b3472f-50a9-4cc5-a4a5-1119b7779d70",
      "metadata": {
        "id": "23b3472f-50a9-4cc5-a4a5-1119b7779d70",
        "outputId": "1a134792-cb1b-4104-b057-76505c6ab2a8",
        "colab": {
          "base_uri": "https://localhost:8080/"
        }
      },
      "outputs": [
        {
          "output_type": "execute_result",
          "data": {
            "text/plain": [
              "float"
            ]
          },
          "metadata": {},
          "execution_count": 4
        }
      ],
      "source": [
        "b=5.0\n",
        "type(b)"
      ]
    },
    {
      "cell_type": "markdown",
      "id": "e906b0c0-93e6-4a4d-8d2a-9b1f603a0d12",
      "metadata": {
        "id": "e906b0c0-93e6-4a4d-8d2a-9b1f603a0d12"
      },
      "source": [
        "U Pythonu je float jedina klasa realnih brojeva i koristi 64-bitnu preciznost."
      ]
    },
    {
      "cell_type": "markdown",
      "source": [
        "**Ostali osnovni tipovi podataka:**"
      ],
      "metadata": {
        "id": "2fVmapP-nxRL"
      },
      "id": "2fVmapP-nxRL"
    },
    {
      "cell_type": "code",
      "execution_count": 5,
      "id": "c9b5a224-eee1-4d5b-8cdd-bc203749b732",
      "metadata": {
        "id": "c9b5a224-eee1-4d5b-8cdd-bc203749b732"
      },
      "outputs": [],
      "source": [
        "# string (tekst)\n",
        "s='Zdravo'\n",
        "# logicke vrednosti\n",
        "l=True"
      ]
    },
    {
      "cell_type": "markdown",
      "id": "692929df-00f0-436c-83f6-f2dabe8287ee",
      "metadata": {
        "id": "692929df-00f0-436c-83f6-f2dabe8287ee"
      },
      "source": [
        "## **Aritmetičke operacije**"
      ]
    },
    {
      "cell_type": "markdown",
      "id": "6dcc903c-fbe3-45ba-8f72-9bcd389046b7",
      "metadata": {
        "id": "6dcc903c-fbe3-45ba-8f72-9bcd389046b7"
      },
      "source": [
        "Python koristi iste aritmetičke operatore kao i drugi programski jezici, uz sledeće izuzetke:"
      ]
    },
    {
      "cell_type": "markdown",
      "source": [
        "**Celobrojno deljenje**\n",
        "\n",
        "Operator za celobrojno deljenje je //."
      ],
      "metadata": {
        "id": "8_JSQv_yqm2-"
      },
      "id": "8_JSQv_yqm2-"
    },
    {
      "cell_type": "code",
      "source": [
        "print(a//2)"
      ],
      "metadata": {
        "colab": {
          "base_uri": "https://localhost:8080/"
        },
        "id": "L80DjYuLqq_0",
        "outputId": "01ef1939-3819-47a3-86f3-2b0ceb27b63e"
      },
      "id": "L80DjYuLqq_0",
      "execution_count": 6,
      "outputs": [
        {
          "output_type": "stream",
          "name": "stdout",
          "text": [
            "2\n"
          ]
        }
      ]
    },
    {
      "cell_type": "markdown",
      "source": [
        "\n",
        "\n",
        "Operator za deljenje / uvek vraća broj tipa float, čak i kada su oba operanda celobrojna. U mnogim drugim jezicima (kao što su C, C++ i Java), operator / vrši celobrojno deljenje kada su oba operanda celobrojna, dok daje decimalni rezultat ako je bar jedan operand realan broj."
      ],
      "metadata": {
        "id": "86gMGJMloVoy"
      },
      "id": "86gMGJMloVoy"
    },
    {
      "cell_type": "code",
      "execution_count": 7,
      "id": "31007634-2c45-4ae9-973e-f2014446de2a",
      "metadata": {
        "id": "31007634-2c45-4ae9-973e-f2014446de2a",
        "outputId": "f2844a32-7c20-4164-f5e8-4e0782008d66",
        "colab": {
          "base_uri": "https://localhost:8080/"
        }
      },
      "outputs": [
        {
          "output_type": "execute_result",
          "data": {
            "text/plain": [
              "2.5"
            ]
          },
          "metadata": {},
          "execution_count": 7
        }
      ],
      "source": [
        "a / 2"
      ]
    },
    {
      "cell_type": "markdown",
      "source": [
        "Deljenje sa nulom izaziva grešku *ZeroDivisionError*."
      ],
      "metadata": {
        "id": "0wQVnrdhruaX"
      },
      "id": "0wQVnrdhruaX"
    },
    {
      "cell_type": "code",
      "source": [
        "a/0"
      ],
      "metadata": {
        "colab": {
          "base_uri": "https://localhost:8080/",
          "height": 141
        },
        "id": "zPamIi2arrT7",
        "outputId": "5cda7542-2ac0-4382-ebe5-e582ccac7b6e"
      },
      "id": "zPamIi2arrT7",
      "execution_count": 8,
      "outputs": [
        {
          "output_type": "error",
          "ename": "ZeroDivisionError",
          "evalue": "division by zero",
          "traceback": [
            "\u001b[0;31m---------------------------------------------------------------------------\u001b[0m",
            "\u001b[0;31mZeroDivisionError\u001b[0m                         Traceback (most recent call last)",
            "\u001b[0;32m<ipython-input-8-deacdc4ccabc>\u001b[0m in \u001b[0;36m<cell line: 0>\u001b[0;34m()\u001b[0m\n\u001b[0;32m----> 1\u001b[0;31m \u001b[0ma\u001b[0m\u001b[0;34m/\u001b[0m\u001b[0;36m0\u001b[0m\u001b[0;34m\u001b[0m\u001b[0;34m\u001b[0m\u001b[0m\n\u001b[0m",
            "\u001b[0;31mZeroDivisionError\u001b[0m: division by zero"
          ]
        }
      ]
    },
    {
      "cell_type": "markdown",
      "id": "39ed9cca-26c2-401d-9227-1ad8fd342dc3",
      "metadata": {
        "id": "39ed9cca-26c2-401d-9227-1ad8fd342dc3"
      },
      "source": [
        "**Deljenje sa ostatkom**\n",
        "\n",
        "U Pythonu se koristi operator % za vraćanje ostatka pri deljenju."
      ]
    },
    {
      "cell_type": "code",
      "source": [
        "a%2"
      ],
      "metadata": {
        "colab": {
          "base_uri": "https://localhost:8080/"
        },
        "id": "ksSwHQWkrVBs",
        "outputId": "b90e081b-f3da-4ac5-d737-8ca99ccaa314"
      },
      "id": "ksSwHQWkrVBs",
      "execution_count": 18,
      "outputs": [
        {
          "output_type": "execute_result",
          "data": {
            "text/plain": [
              "1"
            ]
          },
          "metadata": {},
          "execution_count": 18
        }
      ]
    },
    {
      "cell_type": "markdown",
      "source": [
        "**Stepenovanje**\n",
        "Operator za stepenovanje je **."
      ],
      "metadata": {
        "id": "2yu-aA81sEAJ"
      },
      "id": "2yu-aA81sEAJ"
    },
    {
      "cell_type": "code",
      "execution_count": 19,
      "id": "542b1ea6-be82-4369-8289-3faba366ef78",
      "metadata": {
        "id": "542b1ea6-be82-4369-8289-3faba366ef78",
        "outputId": "060719ee-c3a0-4558-c001-2e66bf468dd1",
        "colab": {
          "base_uri": "https://localhost:8080/"
        }
      },
      "outputs": [
        {
          "output_type": "stream",
          "name": "stdout",
          "text": [
            "125\n"
          ]
        }
      ],
      "source": [
        "print(a ** 3) # stepenovanje"
      ]
    },
    {
      "cell_type": "markdown",
      "id": "9982b312-eaac-4468-b82b-0026d8149bb5",
      "metadata": {
        "id": "9982b312-eaac-4468-b82b-0026d8149bb5"
      },
      "source": [
        "## **Strukture podataka**"
      ]
    },
    {
      "cell_type": "markdown",
      "id": "31a3c582-8ee9-49ad-a669-9a2cb392bb8f",
      "metadata": {
        "id": "31a3c582-8ee9-49ad-a669-9a2cb392bb8f"
      },
      "source": [
        "Ako želimo upisati neki skup podataka u jednu promenljivu, možemo koristiti sledeće strukture podataka:"
      ]
    },
    {
      "cell_type": "markdown",
      "id": "8b24f262-d203-476d-8e13-f53de99c7628",
      "metadata": {
        "id": "8b24f262-d203-476d-8e13-f53de99c7628"
      },
      "source": [
        "- Liste (lists)\n",
        "- Torke (tuple)\n",
        "- Skupovi (sets)\n",
        "- Rečnici (disctionaries)"
      ]
    },
    {
      "cell_type": "markdown",
      "id": "b2cbbc09-70b3-4b70-87ee-15041b101380",
      "metadata": {
        "id": "b2cbbc09-70b3-4b70-87ee-15041b101380"
      },
      "source": [
        "### **Liste** [   ]"
      ]
    },
    {
      "cell_type": "markdown",
      "id": "e3bc378f-893d-47d5-8985-38df161ec2c9",
      "metadata": {
        "id": "e3bc378f-893d-47d5-8985-38df161ec2c9"
      },
      "source": [
        "Liste su promenljivi (mutable) uređeni skupovi podataka. Kreiraju se pomoću uglastih zagrada, a njihovi elementi mogu biti različiti tipovi podataka. Na primer, možemo kreirati listu lista1 na sledeći način:"
      ]
    },
    {
      "cell_type": "code",
      "execution_count": 20,
      "id": "71e892bb-d0b0-40e9-888e-52486f73c214",
      "metadata": {
        "id": "71e892bb-d0b0-40e9-888e-52486f73c214"
      },
      "outputs": [],
      "source": [
        "lista1= [1,2,3,4,a,b,'zdravo',1,1.0,5]"
      ]
    },
    {
      "cell_type": "code",
      "execution_count": 21,
      "id": "22b000d9-76e3-4e19-bb2a-6f9c73be0d22",
      "metadata": {
        "id": "22b000d9-76e3-4e19-bb2a-6f9c73be0d22",
        "outputId": "a0f2e958-9d16-43bd-c8a8-bc3e23f04e50",
        "colab": {
          "base_uri": "https://localhost:8080/"
        }
      },
      "outputs": [
        {
          "output_type": "stream",
          "name": "stdout",
          "text": [
            "[1, 2, 3, 4, 5, 5.0, 'zdravo', 1, 1.0, 5]\n"
          ]
        }
      ],
      "source": [
        "print(lista1)"
      ]
    },
    {
      "cell_type": "markdown",
      "id": "b83dfa9e-9d04-4010-becf-8eef13033d37",
      "metadata": {
        "id": "b83dfa9e-9d04-4010-becf-8eef13033d37"
      },
      "source": [
        "Elementima liste, i ostalim sličnim strukturama podataka, pristupamo koristeći uglaste zagrade. Prvi element u listi ima indeks 0:"
      ]
    },
    {
      "cell_type": "code",
      "execution_count": 22,
      "id": "97b0200e-03db-46d4-9bd7-949666c41bf6",
      "metadata": {
        "id": "97b0200e-03db-46d4-9bd7-949666c41bf6",
        "outputId": "83c46802-9245-471b-8350-3fa2c8c4c30b",
        "colab": {
          "base_uri": "https://localhost:8080/"
        }
      },
      "outputs": [
        {
          "output_type": "execute_result",
          "data": {
            "text/plain": [
              "1"
            ]
          },
          "metadata": {},
          "execution_count": 22
        }
      ],
      "source": [
        "lista1[0]"
      ]
    },
    {
      "cell_type": "markdown",
      "id": "554c95de-b6e7-482b-9487-8b8e22a028f8",
      "metadata": {
        "id": "554c95de-b6e7-482b-9487-8b8e22a028f8"
      },
      "source": [
        "Takođe, možemo pristupiti elementima koristeći negativne indekse, gde indeks -1 označava poslednji element u listi:"
      ]
    },
    {
      "cell_type": "code",
      "execution_count": 23,
      "id": "b4b3ed9e-b939-4660-a2fc-084013bfca36",
      "metadata": {
        "id": "b4b3ed9e-b939-4660-a2fc-084013bfca36",
        "outputId": "a68d2808-a4ad-4252-d358-032714aeda42",
        "colab": {
          "base_uri": "https://localhost:8080/"
        }
      },
      "outputs": [
        {
          "output_type": "execute_result",
          "data": {
            "text/plain": [
              "5"
            ]
          },
          "metadata": {},
          "execution_count": 23
        }
      ],
      "source": [
        " lista1[-1]"
      ]
    },
    {
      "cell_type": "markdown",
      "id": "0886aad7-0e0d-4de2-a0e2-7c4bc03e01a6",
      "metadata": {
        "id": "0886aad7-0e0d-4de2-a0e2-7c4bc03e01a6"
      },
      "source": [
        "Strukture podataka imaju pridružene metode (funkcije) za rad sa njima. Pa tako, ako želimo dodati neki novi element u listu koristimo metod append gde kao argument navodimo vrednost koju dodajemo (na kraj) liste:"
      ]
    },
    {
      "cell_type": "code",
      "execution_count": 24,
      "id": "cc4eeae4-e49c-49ee-8ee7-42b11e4afbe1",
      "metadata": {
        "id": "cc4eeae4-e49c-49ee-8ee7-42b11e4afbe1",
        "outputId": "4e964036-2100-4a87-9cab-e4e03dff0ee2",
        "colab": {
          "base_uri": "https://localhost:8080/"
        }
      },
      "outputs": [
        {
          "output_type": "stream",
          "name": "stdout",
          "text": [
            "[1, 2, 3, 4, 5, 5.0, 'zdravo', 1, 1.0, 5, 2]\n"
          ]
        }
      ],
      "source": [
        "lista1.append(2)\n",
        "print(lista1)"
      ]
    },
    {
      "cell_type": "markdown",
      "id": "ea3b9723-0c39-41f7-bede-cb37d2790d00",
      "metadata": {
        "id": "ea3b9723-0c39-41f7-bede-cb37d2790d00"
      },
      "source": [
        "Ako želimo da dodamo element na određeno mesto u listi, koristimo metod insert() koji prima dva argumenta: prvi je pozicija u listi, a drugi vrednost koju dodajemo:"
      ]
    },
    {
      "cell_type": "code",
      "execution_count": 25,
      "id": "a5abfeec-88d3-4ffd-aa6f-8da1ea0cc569",
      "metadata": {
        "id": "a5abfeec-88d3-4ffd-aa6f-8da1ea0cc569",
        "outputId": "d76c9bfb-afcd-4501-ea4d-37888d5a84d5",
        "colab": {
          "base_uri": "https://localhost:8080/"
        }
      },
      "outputs": [
        {
          "output_type": "stream",
          "name": "stdout",
          "text": [
            "[1, 2, 3, 4, 5, [7, 6], 5.0, 'zdravo', 1, 1.0, 5, 2]\n"
          ]
        }
      ],
      "source": [
        "lista1.insert(5,[7,6])\n",
        "print(lista1)"
      ]
    },
    {
      "cell_type": "markdown",
      "id": "19cd597f-712b-44a0-8eb8-df6b61cedbae",
      "metadata": {
        "id": "19cd597f-712b-44a0-8eb8-df6b61cedbae"
      },
      "source": [
        "Metod remove() briše prvi element sa zadatom vrednošću:"
      ]
    },
    {
      "cell_type": "code",
      "execution_count": 26,
      "id": "317b72fa-534f-48b8-8b24-5fe9500bb884",
      "metadata": {
        "id": "317b72fa-534f-48b8-8b24-5fe9500bb884",
        "outputId": "ba06bfc9-cf5d-4173-ce51-7fd82ad875b0",
        "colab": {
          "base_uri": "https://localhost:8080/"
        }
      },
      "outputs": [
        {
          "output_type": "stream",
          "name": "stdout",
          "text": [
            "[1, 2, 3, 4, [7, 6], 5.0, 'zdravo', 1, 1.0, 5, 2]\n"
          ]
        }
      ],
      "source": [
        "lista1.remove(5) #brise element koji ima vrednost 1\n",
        "print(lista1)"
      ]
    },
    {
      "cell_type": "markdown",
      "id": "aeb3e9b8-ef7e-4807-b975-9c9497d42a87",
      "metadata": {
        "id": "aeb3e9b8-ef7e-4807-b975-9c9497d42a87"
      },
      "source": [
        "Za brisanje elementa sa određenim indeksom, koristimo metod pop(). Ako ne navedemo argument, ovaj metod briše poslednji element u listi:"
      ]
    },
    {
      "cell_type": "code",
      "execution_count": 27,
      "id": "f9e37f75-f379-4076-8ea4-d05c54f117ed",
      "metadata": {
        "id": "f9e37f75-f379-4076-8ea4-d05c54f117ed",
        "outputId": "fe33c0a5-61bc-4b9c-d032-e35347894d6d",
        "colab": {
          "base_uri": "https://localhost:8080/"
        }
      },
      "outputs": [
        {
          "output_type": "stream",
          "name": "stdout",
          "text": [
            "[2, 3, 4, [7, 6], 5.0, 'zdravo', 1, 1.0, 5, 2]\n",
            "[2, 3, 4, [7, 6], 5.0, 'zdravo', 1, 1.0, 5]\n"
          ]
        }
      ],
      "source": [
        "lista1.pop(0)\n",
        "print(lista1)\n",
        "lista1.pop() # iako su prazne zagrade, navesti ih obavezno\n",
        "print(lista1)"
      ]
    },
    {
      "cell_type": "markdown",
      "id": "4fdc1fc3-ab86-402b-ba24-fa6da8397a46",
      "metadata": {
        "id": "4fdc1fc3-ab86-402b-ba24-fa6da8397a46"
      },
      "source": [
        "Često ćemo želeti da kopiramo listu. Imajte na umu da naredba:"
      ]
    },
    {
      "cell_type": "code",
      "execution_count": 28,
      "id": "8cb9bd19-edf6-47a2-9406-de25c6687707",
      "metadata": {
        "id": "8cb9bd19-edf6-47a2-9406-de25c6687707"
      },
      "outputs": [],
      "source": [
        "lista2=lista1"
      ]
    },
    {
      "cell_type": "markdown",
      "id": "af3d8802-ea8d-4ddf-b996-a78a0725b2ed",
      "metadata": {
        "id": "af3d8802-ea8d-4ddf-b996-a78a0725b2ed"
      },
      "source": [
        "ne kopira sadržaj liste, već lista2 samo referencira na lista1. Sve izmene na jednom objektu utiču i na drugi. Na primer:"
      ]
    },
    {
      "cell_type": "code",
      "execution_count": 29,
      "id": "95a7f086-a8f0-4f79-a54d-d2291112aa44",
      "metadata": {
        "id": "95a7f086-a8f0-4f79-a54d-d2291112aa44",
        "outputId": "82b73594-0e19-4bec-f94d-13fa84e746a9",
        "colab": {
          "base_uri": "https://localhost:8080/"
        }
      },
      "outputs": [
        {
          "output_type": "stream",
          "name": "stdout",
          "text": [
            "['pera', 3, 4, [7, 6], 5.0, 'zdravo', 1, 1.0, 5]\n"
          ]
        }
      ],
      "source": [
        "lista2[0]='pera'\n",
        "print(lista1)"
      ]
    },
    {
      "cell_type": "markdown",
      "id": "0a26cb9c-d271-49bd-8d89-9d8970013321",
      "metadata": {
        "id": "0a26cb9c-d271-49bd-8d89-9d8970013321"
      },
      "source": [
        "izmenili smo i lista1"
      ]
    },
    {
      "cell_type": "code",
      "execution_count": 30,
      "id": "f3301957-4bdc-4419-aae5-1195dabfc8d3",
      "metadata": {
        "id": "f3301957-4bdc-4419-aae5-1195dabfc8d3",
        "outputId": "2b1e4cb4-1104-4885-a500-428b52530b10",
        "colab": {
          "base_uri": "https://localhost:8080/"
        }
      },
      "outputs": [
        {
          "output_type": "stream",
          "name": "stdout",
          "text": [
            "['pera', 3, 4, [7, 6], 5.0, 'zdravo', 1, 1.0, 5]\n"
          ]
        }
      ],
      "source": [
        "print(lista1)"
      ]
    },
    {
      "cell_type": "markdown",
      "id": "b40bf9a3-9930-406c-a360-6fa6b7da10a7",
      "metadata": {
        "id": "b40bf9a3-9930-406c-a360-6fa6b7da10a7"
      },
      "source": [
        "Da bismo napravili pravu kopiju liste, koristimo metod copy():"
      ]
    },
    {
      "cell_type": "code",
      "execution_count": 31,
      "id": "c3f420ac-da0f-422d-a8cd-01a338b7ffc7",
      "metadata": {
        "id": "c3f420ac-da0f-422d-a8cd-01a338b7ffc7",
        "outputId": "b23d98b4-0ac2-402b-f339-55df2847bb9b",
        "colab": {
          "base_uri": "https://localhost:8080/"
        }
      },
      "outputs": [
        {
          "output_type": "stream",
          "name": "stdout",
          "text": [
            "['pera', 3, 4, [7, 6], 5.0, 'zdravo', 1, 1.0, 5]\n"
          ]
        }
      ],
      "source": [
        "lista3=lista1.copy()\n",
        "print(lista3)"
      ]
    },
    {
      "cell_type": "markdown",
      "id": "e2b349ee-bb3c-4288-b276-f3469547dd6c",
      "metadata": {
        "id": "e2b349ee-bb3c-4288-b276-f3469547dd6c"
      },
      "source": [
        "Sada možemo slobodno manipulisati elementima lista3, a promene neće uticati na lista1:"
      ]
    },
    {
      "cell_type": "code",
      "execution_count": 32,
      "id": "35854303-b762-4130-b744-52be9ca757fe",
      "metadata": {
        "id": "35854303-b762-4130-b744-52be9ca757fe",
        "outputId": "776ef81b-769c-4ea9-9fde-fc2b208f800b",
        "colab": {
          "base_uri": "https://localhost:8080/"
        }
      },
      "outputs": [
        {
          "output_type": "stream",
          "name": "stdout",
          "text": [
            "[1, 3, 4, [7, 6], 5.0, 'zdravo', 1, 1.0, 5]\n",
            "['pera', 3, 4, [7, 6], 5.0, 'zdravo', 1, 1.0, 5]\n"
          ]
        }
      ],
      "source": [
        "lista3[0]=1\n",
        "print(lista3)\n",
        "print(lista1)"
      ]
    },
    {
      "cell_type": "markdown",
      "id": "4257219a-a94a-4879-9b2d-46d26782f030",
      "metadata": {
        "id": "4257219a-a94a-4879-9b2d-46d26782f030"
      },
      "source": [
        "Međutim, ako pristupamo vrednostima liste, onda možemo koristiti znak = da ih upišemo u novu promenljivu. Tako da kopiranje cele liste možemo uraditi i na sledeći način"
      ]
    },
    {
      "cell_type": "code",
      "execution_count": 33,
      "id": "c40222a2-a5ea-451d-ae09-e8f2b3549eb5",
      "metadata": {
        "id": "c40222a2-a5ea-451d-ae09-e8f2b3549eb5",
        "outputId": "f6aa35da-45f5-4b8e-f636-26be880952b1",
        "colab": {
          "base_uri": "https://localhost:8080/"
        }
      },
      "outputs": [
        {
          "output_type": "stream",
          "name": "stdout",
          "text": [
            "['pera', 3, 4, [7, 6], 5.0, 'zdravo', 1, 1.0, 5]\n",
            "['pera', 3, 4, [7, 6], 5.0, 'zdravo', 1, 1.0, 0.0]\n",
            "['pera', 3, 4, [7, 6], 5.0, 'zdravo', 1, 1.0, 5]\n"
          ]
        }
      ],
      "source": [
        "lista4=lista1[:]\n",
        "print(lista4)\n",
        "lista4[-1]= 0.0 # izmenimo poslednji element i nakon toga proverimo liste\n",
        "print(lista4)\n",
        "print(lista1)"
      ]
    },
    {
      "cell_type": "raw",
      "id": "688f4b98-417a-46ed-ad74-b72049f558dc",
      "metadata": {
        "id": "688f4b98-417a-46ed-ad74-b72049f558dc"
      },
      "source": [
        "Sa [ : ] pristupamo svim elementima liste lista1, od prvog do poslednjeg. U opštem slučaju, uzastopnim elementima liste pristupamo sa [indeks_pocetak: indeks_kraj+1]. Tako da, ako želimo uzeti prva tri elementa,naredba glasi"
      ]
    },
    {
      "cell_type": "code",
      "execution_count": 34,
      "id": "b3592e7a-94e7-43f6-a2ea-b971b465310e",
      "metadata": {
        "id": "b3592e7a-94e7-43f6-a2ea-b971b465310e",
        "outputId": "d37b375a-a4ad-48ad-d9ea-1ea7dac8695b",
        "colab": {
          "base_uri": "https://localhost:8080/"
        }
      },
      "outputs": [
        {
          "output_type": "stream",
          "name": "stdout",
          "text": [
            "['pera', 3, 4]\n"
          ]
        }
      ],
      "source": [
        "pom=lista1[0:3]\n",
        "print(pom)"
      ]
    },
    {
      "cell_type": "raw",
      "id": "11fe4518-1a6f-4824-846e-0e4b56549eeb",
      "metadata": {
        "id": "11fe4518-1a6f-4824-846e-0e4b56549eeb"
      },
      "source": [
        "Da bismo uzeli svaki drugi element, koristimo sledeći oblik [indeks_pocetak: indeks_kraj+1: korak]"
      ]
    },
    {
      "cell_type": "code",
      "execution_count": 35,
      "id": "cb0d0c6b-108d-4dfb-9b48-2f9446a47395",
      "metadata": {
        "id": "cb0d0c6b-108d-4dfb-9b48-2f9446a47395",
        "outputId": "f59e1d78-d8e5-43e4-e0a2-24332f98962d",
        "colab": {
          "base_uri": "https://localhost:8080/"
        }
      },
      "outputs": [
        {
          "output_type": "stream",
          "name": "stdout",
          "text": [
            "['pera', 3, 4, [7, 6], 5.0, 'zdravo', 1, 1.0, 5]\n"
          ]
        },
        {
          "output_type": "execute_result",
          "data": {
            "text/plain": [
              "['pera', 4, 5.0, 1, 5]"
            ]
          },
          "metadata": {},
          "execution_count": 35
        }
      ],
      "source": [
        "print(lista1)\n",
        "lista1[0::2]\n"
      ]
    },
    {
      "cell_type": "markdown",
      "id": "32bb9c70-1552-4119-bbe4-d5587453a501",
      "metadata": {
        "id": "32bb9c70-1552-4119-bbe4-d5587453a501"
      },
      "source": [
        "što je ekvivalentno sa"
      ]
    },
    {
      "cell_type": "code",
      "execution_count": 36,
      "id": "3b7a9f5a-4f20-4919-8c3e-276c13c45a0f",
      "metadata": {
        "id": "3b7a9f5a-4f20-4919-8c3e-276c13c45a0f",
        "outputId": "2f05d5e1-a02d-417d-ccf5-f3354623b78f",
        "colab": {
          "base_uri": "https://localhost:8080/"
        }
      },
      "outputs": [
        {
          "output_type": "execute_result",
          "data": {
            "text/plain": [
              "['pera', 4, 5.0, 1, 5]"
            ]
          },
          "metadata": {},
          "execution_count": 36
        }
      ],
      "source": [
        "lista1[::2]"
      ]
    },
    {
      "cell_type": "markdown",
      "id": "641ed6a3-1295-44c4-932f-b4900dfe6819",
      "metadata": {
        "id": "641ed6a3-1295-44c4-932f-b4900dfe6819"
      },
      "source": [
        "ali ne i sa"
      ]
    },
    {
      "cell_type": "code",
      "execution_count": 37,
      "id": "4cfd355f-3c81-4162-b371-4fd244a09dfa",
      "metadata": {
        "id": "4cfd355f-3c81-4162-b371-4fd244a09dfa",
        "outputId": "78e34613-a463-407d-faff-006884d4d095",
        "colab": {
          "base_uri": "https://localhost:8080/"
        }
      },
      "outputs": [
        {
          "output_type": "execute_result",
          "data": {
            "text/plain": [
              "['pera', 4, 5.0, 1]"
            ]
          },
          "metadata": {},
          "execution_count": 37
        }
      ],
      "source": [
        "lista1[0:-1:2]"
      ]
    },
    {
      "cell_type": "markdown",
      "source": [
        "jer indeks -1 označava poslednji element u listi."
      ],
      "metadata": {
        "id": "KMd067J8xYlP"
      },
      "id": "KMd067J8xYlP"
    },
    {
      "cell_type": "markdown",
      "id": "e6609edf-8217-40b9-84fd-76f9e96dad03",
      "metadata": {
        "id": "e6609edf-8217-40b9-84fd-76f9e96dad03"
      },
      "source": [
        "Dužinu liste možemo proveriti koristeći funkciju len():"
      ]
    },
    {
      "cell_type": "code",
      "execution_count": 38,
      "id": "03532dbf-b2ad-44f7-84dc-89749cfec9d4",
      "metadata": {
        "id": "03532dbf-b2ad-44f7-84dc-89749cfec9d4",
        "outputId": "f62c06e1-95c7-4f19-af28-3183a1a165eb",
        "colab": {
          "base_uri": "https://localhost:8080/"
        }
      },
      "outputs": [
        {
          "output_type": "execute_result",
          "data": {
            "text/plain": [
              "9"
            ]
          },
          "metadata": {},
          "execution_count": 38
        }
      ],
      "source": [
        "len(lista1)"
      ]
    },
    {
      "cell_type": "markdown",
      "id": "eea7a2da-0c95-4ae6-a12b-3a7c64c41fff",
      "metadata": {
        "id": "eea7a2da-0c95-4ae6-a12b-3a7c64c41fff"
      },
      "source": [
        "Za više informacija o metodama lista, možemo koristiti funkciju help(list)."
      ]
    },
    {
      "cell_type": "markdown",
      "id": "bc85d615-abad-48a9-aa91-d097830d8657",
      "metadata": {
        "id": "bc85d615-abad-48a9-aa91-d097830d8657"
      },
      "source": [
        "### **Torke (Tuples)**  (  )"
      ]
    },
    {
      "cell_type": "markdown",
      "id": "02b08771-97f3-48a3-9afe-b373dcb11139",
      "metadata": {
        "id": "02b08771-97f3-48a3-9afe-b373dcb11139"
      },
      "source": [
        "Za razliku od listi, torke su nepromenljivi (immutable) uređeni skupovi podataka. Definišu se pomoću malih zagrada. Na primer:"
      ]
    },
    {
      "cell_type": "code",
      "execution_count": 39,
      "id": "1581bb09-5232-47a4-8318-78e4e780c513",
      "metadata": {
        "id": "1581bb09-5232-47a4-8318-78e4e780c513"
      },
      "outputs": [],
      "source": [
        "torka1=(1,2,[1,2], 'zdravo')"
      ]
    },
    {
      "cell_type": "code",
      "execution_count": 40,
      "id": "cd040f23-0450-493f-b619-aaf44a0ec890",
      "metadata": {
        "id": "cd040f23-0450-493f-b619-aaf44a0ec890",
        "outputId": "0ed306a1-4f1a-4276-fce9-2413a4491895",
        "colab": {
          "base_uri": "https://localhost:8080/"
        }
      },
      "outputs": [
        {
          "output_type": "stream",
          "name": "stdout",
          "text": [
            "(1, 2, [1, 2], 'zdravo')\n"
          ]
        }
      ],
      "source": [
        "print(torka1)"
      ]
    },
    {
      "cell_type": "markdown",
      "source": [
        "Kada želimo da kreiramo torku sa samo jednim elementom, potrebno je da dodamo zarez nakon vrednosti da bi Python prepoznao da je to torka, a ne običan broj ili neki drugi tip podatka."
      ],
      "metadata": {
        "id": "9ZpRb3Ic3X2b"
      },
      "id": "9ZpRb3Ic3X2b"
    },
    {
      "cell_type": "code",
      "execution_count": 41,
      "id": "db009ac9-6047-4907-bac2-89829d9ab2bd",
      "metadata": {
        "id": "db009ac9-6047-4907-bac2-89829d9ab2bd",
        "colab": {
          "base_uri": "https://localhost:8080/"
        },
        "outputId": "de7975d4-cad7-4182-f4f7-b6cfdb46b596"
      },
      "outputs": [
        {
          "output_type": "stream",
          "name": "stdout",
          "text": [
            "(1,)\n",
            "<class 'tuple'>\n"
          ]
        }
      ],
      "source": [
        "torka2=(1,) # torka sa jednim elementom\n",
        "print(torka2)\n",
        "print(type(torka2))"
      ]
    },
    {
      "cell_type": "markdown",
      "id": "b80f6c77-2a1d-45c9-b74b-fec6345d41c0",
      "metadata": {
        "id": "b80f6c77-2a1d-45c9-b74b-fec6345d41c0"
      },
      "source": [
        "Pošto je torka nepromenljiv skup podataka, pokušaj izmene vrednosti u torki izaziva grešku:"
      ]
    },
    {
      "cell_type": "code",
      "execution_count": 43,
      "id": "e771f772-c0a9-4923-b31a-32bf0faee066",
      "metadata": {
        "id": "e771f772-c0a9-4923-b31a-32bf0faee066",
        "outputId": "312f3167-5095-4248-9779-29b80e3f5f21",
        "colab": {
          "base_uri": "https://localhost:8080/",
          "height": 159
        }
      },
      "outputs": [
        {
          "output_type": "error",
          "ename": "TypeError",
          "evalue": "'tuple' object does not support item assignment",
          "traceback": [
            "\u001b[0;31m---------------------------------------------------------------------------\u001b[0m",
            "\u001b[0;31mTypeError\u001b[0m                                 Traceback (most recent call last)",
            "\u001b[0;32m<ipython-input-43-c4fb70d00468>\u001b[0m in \u001b[0;36m<cell line: 0>\u001b[0;34m()\u001b[0m\n\u001b[0;32m----> 1\u001b[0;31m \u001b[0mtorka1\u001b[0m\u001b[0;34m[\u001b[0m\u001b[0;36m0\u001b[0m\u001b[0;34m]\u001b[0m\u001b[0;34m=\u001b[0m\u001b[0;36m10\u001b[0m\u001b[0;34m\u001b[0m\u001b[0;34m\u001b[0m\u001b[0m\n\u001b[0m\u001b[1;32m      2\u001b[0m \u001b[0mprint\u001b[0m\u001b[0;34m(\u001b[0m\u001b[0mtroka1\u001b[0m\u001b[0;34m)\u001b[0m\u001b[0;34m\u001b[0m\u001b[0;34m\u001b[0m\u001b[0m\n",
            "\u001b[0;31mTypeError\u001b[0m: 'tuple' object does not support item assignment"
          ]
        }
      ],
      "source": [
        "torka1[0]=10\n",
        "print(troka1)"
      ]
    },
    {
      "cell_type": "markdown",
      "id": "db2cc6af-0cd7-4c0a-9c14-8a8e1c3c19da",
      "metadata": {
        "id": "db2cc6af-0cd7-4c0a-9c14-8a8e1c3c19da"
      },
      "source": [
        "Torke se koriste kada želimo da obezbedimo da podaci ne budu menjani tokom izvršavanja programa. Torku možemo konvertovati u listu pomoću sledeće komande:"
      ]
    },
    {
      "cell_type": "code",
      "execution_count": 44,
      "id": "8f799ae5-56ab-44d9-b6dc-caf74a767440",
      "metadata": {
        "id": "8f799ae5-56ab-44d9-b6dc-caf74a767440",
        "colab": {
          "base_uri": "https://localhost:8080/"
        },
        "outputId": "c5b14d40-b752-4285-d16d-7188dd78ccda"
      },
      "outputs": [
        {
          "output_type": "stream",
          "name": "stdout",
          "text": [
            "(1, 2, [1, 2], 'zdravo')\n",
            "[1, 2, [1, 2], 'zdravo']\n"
          ]
        }
      ],
      "source": [
        "lista4=list(torka1)\n",
        "print(torka1)\n",
        "print(lista4)"
      ]
    },
    {
      "cell_type": "markdown",
      "id": "ac72cfc9-b82e-4dc6-b0ac-16bc613eba70",
      "metadata": {
        "id": "ac72cfc9-b82e-4dc6-b0ac-16bc613eba70"
      },
      "source": [
        "### **Skupovi  (Sets)** {  }"
      ]
    },
    {
      "cell_type": "markdown",
      "id": "325397c6-be09-4570-827b-dffc37c59a27",
      "metadata": {
        "id": "325397c6-be09-4570-827b-dffc37c59a27"
      },
      "source": [
        "Skupovi su kolekcije jedinstvenih elemenata koji nemaju uređen redosled. Skup se definiše pomoću vitičastih zagrada:"
      ]
    },
    {
      "cell_type": "code",
      "execution_count": 45,
      "id": "962720ab-0334-4f66-9153-1377e7e6926d",
      "metadata": {
        "id": "962720ab-0334-4f66-9153-1377e7e6926d",
        "colab": {
          "base_uri": "https://localhost:8080/"
        },
        "outputId": "9de04763-0ba0-4a8f-bb78-bad9e286fe46"
      },
      "outputs": [
        {
          "output_type": "stream",
          "name": "stdout",
          "text": [
            "{1, 2, 3, 'p', 'petar'}\n"
          ]
        }
      ],
      "source": [
        "set1={1,1,2,3,1,'p','petar'}\n",
        "print(set1)"
      ]
    },
    {
      "cell_type": "markdown",
      "source": [
        "Može se definisati i na drugi način, pomoću funckije set(), ako želimo da konvertujemo listu u skup."
      ],
      "metadata": {
        "id": "k6VTVCj-6m-i"
      },
      "id": "k6VTVCj-6m-i"
    },
    {
      "cell_type": "code",
      "source": [
        "set2 = set([1, 2, 2, 'p','p'])\n",
        "print(set2)"
      ],
      "metadata": {
        "colab": {
          "base_uri": "https://localhost:8080/"
        },
        "id": "LrLDoAF56zhs",
        "outputId": "5791002d-ae83-47f8-85c9-6a8bd86ac48e"
      },
      "id": "LrLDoAF56zhs",
      "execution_count": 47,
      "outputs": [
        {
          "output_type": "stream",
          "name": "stdout",
          "text": [
            "{1, 2, 'p'}\n"
          ]
        }
      ]
    },
    {
      "cell_type": "markdown",
      "source": [
        "Ako želimo napraviti prazan skup, moramo koristiti naredbu set(), jer su prazne vitičaste zagrade rezervisane za pravljenje praznog rečnika."
      ],
      "metadata": {
        "id": "-ngIlQVi7Hl5"
      },
      "id": "-ngIlQVi7Hl5"
    },
    {
      "cell_type": "code",
      "source": [
        "prazan_skup=set()\n",
        "print(prazan_skup)"
      ],
      "metadata": {
        "colab": {
          "base_uri": "https://localhost:8080/"
        },
        "id": "0DoZQz4y7XwO",
        "outputId": "6145f25f-a35f-4c2f-8e20-f7f1852e9b39"
      },
      "id": "0DoZQz4y7XwO",
      "execution_count": 48,
      "outputs": [
        {
          "output_type": "stream",
          "name": "stdout",
          "text": [
            "set()\n"
          ]
        }
      ]
    },
    {
      "cell_type": "markdown",
      "source": [
        "Da biste dodali elemente u skup, koristite metod add(). Ovaj metod dodaje samo jedan element u skup, a ako element već postoji, neće se promeniti."
      ],
      "metadata": {
        "id": "dOeLauZt7qGk"
      },
      "id": "dOeLauZt7qGk"
    },
    {
      "cell_type": "code",
      "source": [
        "set2.add(1)\n",
        "print(set2)\n",
        "set2.add(51)\n",
        "print(set2)"
      ],
      "metadata": {
        "colab": {
          "base_uri": "https://localhost:8080/"
        },
        "id": "3zVkMYPd7tDi",
        "outputId": "eb409548-49bd-427d-fc28-7052775ea59e"
      },
      "id": "3zVkMYPd7tDi",
      "execution_count": 49,
      "outputs": [
        {
          "output_type": "stream",
          "name": "stdout",
          "text": [
            "{1, 2, 'p'}\n",
            "{1, 2, 51, 'p'}\n"
          ]
        }
      ]
    },
    {
      "cell_type": "markdown",
      "source": [
        "Postoji nekoliko metoda za brisanje elemenata iz skupa."
      ],
      "metadata": {
        "id": "-_xX7wGV8Um7"
      },
      "id": "-_xX7wGV8Um7"
    },
    {
      "cell_type": "markdown",
      "source": [
        "Metod remove() briše element, ali ako element ne postoji, Python će baciti grešku (KeyError)."
      ],
      "metadata": {
        "id": "Exghk1Uy8Xv0"
      },
      "id": "Exghk1Uy8Xv0"
    },
    {
      "cell_type": "code",
      "source": [
        "set2.remove('p')\n",
        "print(set2)"
      ],
      "metadata": {
        "colab": {
          "base_uri": "https://localhost:8080/"
        },
        "id": "cWKIuIKg7HOJ",
        "outputId": "86a8dac1-7862-4290-d289-d13bab48f0cf"
      },
      "id": "cWKIuIKg7HOJ",
      "execution_count": 50,
      "outputs": [
        {
          "output_type": "stream",
          "name": "stdout",
          "text": [
            "{1, 2, 51}\n"
          ]
        }
      ]
    },
    {
      "cell_type": "code",
      "source": [
        "set2.remove('p')\n",
        "print(set2)"
      ],
      "metadata": {
        "colab": {
          "base_uri": "https://localhost:8080/",
          "height": 159
        },
        "id": "aQfyWcSQ817R",
        "outputId": "c0562b30-d78e-4a75-e9e3-9241a87c8f67"
      },
      "id": "aQfyWcSQ817R",
      "execution_count": 52,
      "outputs": [
        {
          "output_type": "error",
          "ename": "KeyError",
          "evalue": "'p'",
          "traceback": [
            "\u001b[0;31m---------------------------------------------------------------------------\u001b[0m",
            "\u001b[0;31mKeyError\u001b[0m                                  Traceback (most recent call last)",
            "\u001b[0;32m<ipython-input-52-d5322126ae52>\u001b[0m in \u001b[0;36m<cell line: 0>\u001b[0;34m()\u001b[0m\n\u001b[0;32m----> 1\u001b[0;31m \u001b[0mset2\u001b[0m\u001b[0;34m.\u001b[0m\u001b[0mremove\u001b[0m\u001b[0;34m(\u001b[0m\u001b[0;34m'p'\u001b[0m\u001b[0;34m)\u001b[0m\u001b[0;34m\u001b[0m\u001b[0;34m\u001b[0m\u001b[0m\n\u001b[0m\u001b[1;32m      2\u001b[0m \u001b[0mprint\u001b[0m\u001b[0;34m(\u001b[0m\u001b[0mset2\u001b[0m\u001b[0;34m)\u001b[0m\u001b[0;34m\u001b[0m\u001b[0;34m\u001b[0m\u001b[0m\n",
            "\u001b[0;31mKeyError\u001b[0m: 'p'"
          ]
        }
      ]
    },
    {
      "cell_type": "markdown",
      "source": [
        "Metod discard() briše element, ali ako element ne postoji, ne baca grešku (nije toliko strogo kao remove())."
      ],
      "metadata": {
        "id": "VbVdjjdQ9BDa"
      },
      "id": "VbVdjjdQ9BDa"
    },
    {
      "cell_type": "markdown",
      "source": [
        "Metod pop() briše i vraća jedan slučajan element iz skupa (po principu “prvi koji se nađe”, jer skupovi nisu uređeni). Ako je skup prazan, bacit će grešku KeyError."
      ],
      "metadata": {
        "id": "qd0zj4Dg9H63"
      },
      "id": "qd0zj4Dg9H63"
    },
    {
      "cell_type": "code",
      "source": [
        "slucajan=set2.pop()\n",
        "print(slucajan)"
      ],
      "metadata": {
        "colab": {
          "base_uri": "https://localhost:8080/"
        },
        "id": "uV_yB8619Nbf",
        "outputId": "56b7a9e7-d9f4-4899-a7bb-aa1578180957"
      },
      "id": "uV_yB8619Nbf",
      "execution_count": 53,
      "outputs": [
        {
          "output_type": "stream",
          "name": "stdout",
          "text": [
            "1\n"
          ]
        }
      ]
    },
    {
      "cell_type": "markdown",
      "source": [
        "Metod clear() briše sve elemente iz skupa."
      ],
      "metadata": {
        "id": "o0vhaBPJ9a6t"
      },
      "id": "o0vhaBPJ9a6t"
    },
    {
      "cell_type": "code",
      "source": [
        "set2.clear()\n",
        "print(set2)"
      ],
      "metadata": {
        "colab": {
          "base_uri": "https://localhost:8080/"
        },
        "id": "VxyXWeh-9g1T",
        "outputId": "ac488da6-4b08-4d40-a2a8-17207b5389b2"
      },
      "id": "VxyXWeh-9g1T",
      "execution_count": 54,
      "outputs": [
        {
          "output_type": "stream",
          "name": "stdout",
          "text": [
            "set()\n"
          ]
        }
      ]
    },
    {
      "cell_type": "markdown",
      "source": [
        "Možemo proveriti da li se određeni element nalazi u skupu koristeći in i not in."
      ],
      "metadata": {
        "id": "lpfXv1QQ-HsA"
      },
      "id": "lpfXv1QQ-HsA"
    },
    {
      "cell_type": "code",
      "source": [
        "print(1 in set2)\n",
        "print(1 not in set2)"
      ],
      "metadata": {
        "colab": {
          "base_uri": "https://localhost:8080/"
        },
        "id": "G4gqBL0Y-Jvy",
        "outputId": "ec94cac4-ca59-497c-ebf8-d75130a4dca3"
      },
      "id": "G4gqBL0Y-Jvy",
      "execution_count": 55,
      "outputs": [
        {
          "output_type": "stream",
          "name": "stdout",
          "text": [
            "False\n",
            "True\n"
          ]
        }
      ]
    },
    {
      "cell_type": "markdown",
      "id": "eede1c11-6e64-4cdb-9b1b-746f3968687a",
      "metadata": {
        "id": "eede1c11-6e64-4cdb-9b1b-746f3968687a"
      },
      "source": [
        "Skupovi podržavaju operacije unije (|), preseka (&) i razlike (-). Za više informacija o skupovima upoterbite naredbu help(set)."
      ]
    },
    {
      "cell_type": "markdown",
      "id": "a299220b-12a5-438e-ba79-4d225c8bc762",
      "metadata": {
        "id": "a299220b-12a5-438e-ba79-4d225c8bc762"
      },
      "source": [
        "### **Rečnici (Dictionaries)** {ključ : vrednost}"
      ]
    },
    {
      "cell_type": "markdown",
      "id": "25d14763-e75d-4355-a144-21fce503cdf2",
      "metadata": {
        "id": "25d14763-e75d-4355-a144-21fce503cdf2"
      },
      "source": [
        "Rečnici su neuređeni, promenljivi skupovi podataka koji sadrže parove\n",
        "> ključ : vrednost\n",
        "\n",
        "Ključevi u rečnicima moraju biti jedinstveni i nepromenljivi (immutable), dok vrednosti mogu biti bilo kog tipa podataka."
      ]
    },
    {
      "cell_type": "markdown",
      "id": "27e0f618-c295-4dfc-a22c-7e820147ba5b",
      "metadata": {
        "id": "27e0f618-c295-4dfc-a22c-7e820147ba5b"
      },
      "source": [
        "Možemo ih definisati na dva načina. Prvi je pomoću vitičaste zagrade"
      ]
    },
    {
      "cell_type": "code",
      "execution_count": 56,
      "id": "6a0cd515-8e99-42b8-8c42-4ae2ee82c3ef",
      "metadata": {
        "id": "6a0cd515-8e99-42b8-8c42-4ae2ee82c3ef"
      },
      "outputs": [],
      "source": [
        "dict1 = {\n",
        "    \"student\": \"Marko\",\n",
        "    \"godina\": 2025,\n",
        "    \"kurs\": \"UNM\"\n",
        "}"
      ]
    },
    {
      "cell_type": "markdown",
      "id": "902a15ce-aec0-4896-8694-187fd8752b2c",
      "metadata": {
        "id": "902a15ce-aec0-4896-8694-187fd8752b2c"
      },
      "source": [
        "A drugi je pomoću funkcije dict():"
      ]
    },
    {
      "cell_type": "code",
      "execution_count": 57,
      "id": "55a3e6d6-c915-4ce0-ae63-d458088ffd9d",
      "metadata": {
        "id": "55a3e6d6-c915-4ce0-ae63-d458088ffd9d"
      },
      "outputs": [],
      "source": [
        "dict2 = dict(student=\"Ana\", godina=2025, kurs=\"UNM\")"
      ]
    },
    {
      "cell_type": "markdown",
      "source": [
        "Rečnicima se pristupa putem ključeva. Da bismo dobili vrednost za određeni ključ, koristimo sintaksu:"
      ],
      "metadata": {
        "id": "56zCxqjj_tUK"
      },
      "id": "56zCxqjj_tUK"
    },
    {
      "cell_type": "code",
      "source": [
        "print(dict1[\"student\"])"
      ],
      "metadata": {
        "colab": {
          "base_uri": "https://localhost:8080/"
        },
        "id": "otuGbRjq_sc2",
        "outputId": "6abf4f77-c3be-40ab-d83e-6fdf50b67481"
      },
      "id": "otuGbRjq_sc2",
      "execution_count": 58,
      "outputs": [
        {
          "output_type": "stream",
          "name": "stdout",
          "text": [
            "Marko\n"
          ]
        }
      ]
    },
    {
      "cell_type": "markdown",
      "source": [
        "Ako pokušamo da pristupimo ključeve koji ne postoje, Python će baciti grešku KeyError."
      ],
      "metadata": {
        "id": "QpUKKTol_7S4"
      },
      "id": "QpUKKTol_7S4"
    },
    {
      "cell_type": "code",
      "source": [
        "print(dict1[\"nema_kljuca\"])"
      ],
      "metadata": {
        "colab": {
          "base_uri": "https://localhost:8080/",
          "height": 141
        },
        "id": "Pkjr8cza53be",
        "outputId": "bfbf7c4f-9c99-42db-9526-2e3a463eb18a"
      },
      "id": "Pkjr8cza53be",
      "execution_count": 59,
      "outputs": [
        {
          "output_type": "error",
          "ename": "KeyError",
          "evalue": "'nema_kljuca'",
          "traceback": [
            "\u001b[0;31m---------------------------------------------------------------------------\u001b[0m",
            "\u001b[0;31mKeyError\u001b[0m                                  Traceback (most recent call last)",
            "\u001b[0;32m<ipython-input-59-de61d5be7dc7>\u001b[0m in \u001b[0;36m<cell line: 0>\u001b[0;34m()\u001b[0m\n\u001b[0;32m----> 1\u001b[0;31m \u001b[0mprint\u001b[0m\u001b[0;34m(\u001b[0m\u001b[0mdict1\u001b[0m\u001b[0;34m[\u001b[0m\u001b[0;34m\"nema_kljuca\"\u001b[0m\u001b[0;34m]\u001b[0m\u001b[0;34m)\u001b[0m\u001b[0;34m\u001b[0m\u001b[0;34m\u001b[0m\u001b[0m\n\u001b[0m",
            "\u001b[0;31mKeyError\u001b[0m: 'nema_kljuca'"
          ]
        }
      ]
    },
    {
      "cell_type": "markdown",
      "source": [
        "Rečnici imaju nekoliko korisnih metoda koje olakšavaju rad sa podacima:\n",
        "- get() omogućava pristup vrednostima bez izbacivanja greške ako ključ ne postoji. Ako ključ ne postoji, vraća None, ali možemo i navesti koju vrednost da vrati.\n",
        "- keys() vraća sve ključeve rečnika.\n",
        "- values() vraća sve vrednosti rečnika.\n",
        "- items() vraća listu parova (ključ, vrednost)."
      ],
      "metadata": {
        "id": "EdPIz4wEAg9p"
      },
      "id": "EdPIz4wEAg9p"
    },
    {
      "cell_type": "markdown",
      "source": [
        "Novu vrednost u rečniku dodajemo na sledeći način"
      ],
      "metadata": {
        "id": "3jSNrCC2BXeX"
      },
      "id": "3jSNrCC2BXeX"
    },
    {
      "cell_type": "code",
      "source": [
        "dict2[\"novi_kljuc\"] = \"nova_vrednost\"\n",
        "print(dict2)"
      ],
      "metadata": {
        "colab": {
          "base_uri": "https://localhost:8080/"
        },
        "id": "09BXnDTFBj8V",
        "outputId": "7cbc28cd-9b62-43f8-83ea-3e024f38ca41"
      },
      "id": "09BXnDTFBj8V",
      "execution_count": 60,
      "outputs": [
        {
          "output_type": "stream",
          "name": "stdout",
          "text": [
            "{'student': 'Ana', 'godina': 2025, 'kurs': 'UNM', 'novi_kljuc': 'nova_vrednost'}\n"
          ]
        }
      ]
    },
    {
      "cell_type": "markdown",
      "source": [
        "Metod del uklanja ključ i njegovu vrednost."
      ],
      "metadata": {
        "id": "g0NB6imkBxIV"
      },
      "id": "g0NB6imkBxIV"
    },
    {
      "cell_type": "code",
      "source": [
        "del dict2[\"novi_kljuc\"]\n",
        "print(dict2)"
      ],
      "metadata": {
        "colab": {
          "base_uri": "https://localhost:8080/"
        },
        "id": "DMp418BIAE0A",
        "outputId": "b0081c69-09f0-455a-9173-f8f25286f5fe"
      },
      "id": "DMp418BIAE0A",
      "execution_count": 61,
      "outputs": [
        {
          "output_type": "stream",
          "name": "stdout",
          "text": [
            "{'student': 'Ana', 'godina': 2025, 'kurs': 'UNM'}\n"
          ]
        }
      ]
    },
    {
      "cell_type": "markdown",
      "source": [
        "Metod pop() vraća vrednost za dati ključ i uklanja ga iz rečnika."
      ],
      "metadata": {
        "id": "RXhae2kfCEdP"
      },
      "id": "RXhae2kfCEdP"
    },
    {
      "cell_type": "code",
      "source": [
        "vrednost = dict2.pop(\"godina\")\n",
        "print(vrednost)\n",
        "print(dict2)"
      ],
      "metadata": {
        "colab": {
          "base_uri": "https://localhost:8080/"
        },
        "id": "r3P7KitfB71o",
        "outputId": "58319b17-d04b-4d5f-93c2-61cd4cd59378"
      },
      "id": "r3P7KitfB71o",
      "execution_count": 62,
      "outputs": [
        {
          "output_type": "stream",
          "name": "stdout",
          "text": [
            "2025\n",
            "{'student': 'Ana', 'kurs': 'UNM'}\n"
          ]
        }
      ]
    },
    {
      "cell_type": "markdown",
      "source": [
        "Metod clear() briše sve ključeve i vrednosti iz rečnika."
      ],
      "metadata": {
        "id": "iKCq14nFCUrL"
      },
      "id": "iKCq14nFCUrL"
    },
    {
      "cell_type": "code",
      "source": [
        "dict1.clear()\n",
        "print(dict1)"
      ],
      "metadata": {
        "colab": {
          "base_uri": "https://localhost:8080/"
        },
        "id": "CyNm-mi0CRyx",
        "outputId": "1efcc1ff-0178-43e9-cc4b-bbbff4037313"
      },
      "id": "CyNm-mi0CRyx",
      "execution_count": 63,
      "outputs": [
        {
          "output_type": "stream",
          "name": "stdout",
          "text": [
            "{}\n"
          ]
        }
      ]
    },
    {
      "cell_type": "markdown",
      "source": [
        "Pre Python 3.7, rečnici nisu garantovali redosled unosa, što znači da nije bilo sigurno da će elementi biti vraćeni u istom redosledu u kojem su dodati. Od Python 3.7, rečnici čuvaju redosled unosa, što znači da se elementi rečnika vraćaju u redosledu kojim su dodati."
      ],
      "metadata": {
        "id": "iZ53xWNeCitV"
      },
      "id": "iZ53xWNeCitV"
    }
  ],
  "metadata": {
    "kernelspec": {
      "display_name": "Python 3 (ipykernel)",
      "language": "python",
      "name": "python3"
    },
    "language_info": {
      "codemirror_mode": {
        "name": "ipython",
        "version": 3
      },
      "file_extension": ".py",
      "mimetype": "text/x-python",
      "name": "python",
      "nbconvert_exporter": "python",
      "pygments_lexer": "ipython3",
      "version": "3.11.5"
    },
    "colab": {
      "provenance": [],
      "toc_visible": true,
      "include_colab_link": true
    }
  },
  "nbformat": 4,
  "nbformat_minor": 5
}
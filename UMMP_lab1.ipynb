{
  "cells": [
    {
      "cell_type": "markdown",
      "metadata": {
        "id": "view-in-github",
        "colab_type": "text"
      },
      "source": [
        "<a href=\"https://colab.research.google.com/github/adelic-matf/UMMP/blob/main/UMMP_lab1.ipynb\" target=\"_parent\"><img src=\"https://colab.research.google.com/assets/colab-badge.svg\" alt=\"Open In Colab\"/></a>"
      ]
    },
    {
      "cell_type": "markdown",
      "id": "3f2263e9-5392-4fcf-b0fa-7273eca0a50a",
      "metadata": {
        "id": "3f2263e9-5392-4fcf-b0fa-7273eca0a50a"
      },
      "source": [
        "# **Uvod u Python (prvi deo)**"
      ]
    },
    {
      "cell_type": "markdown",
      "id": "9a1a27ba-bcd3-4b1c-8b18-582d7e93db04",
      "metadata": {
        "id": "9a1a27ba-bcd3-4b1c-8b18-582d7e93db04"
      },
      "source": [
        "Prva komanda sa kojom se obično upoznajemo u nekom programskom jeziku je komanda za štampu teksta:"
      ]
    },
    {
      "cell_type": "code",
      "execution_count": 3,
      "id": "97a3befc-ba0c-4dae-ad6d-f53e797af4d3",
      "metadata": {
        "id": "97a3befc-ba0c-4dae-ad6d-f53e797af4d3",
        "outputId": "83458dfc-9016-4298-d849-319029303859",
        "colab": {
          "base_uri": "https://localhost:8080/"
        }
      },
      "outputs": [
        {
          "output_type": "stream",
          "name": "stdout",
          "text": [
            "Zdravo\n"
          ]
        }
      ],
      "source": [
        "print('Zdravo')"
      ]
    },
    {
      "cell_type": "markdown",
      "id": "d4edc8bc-97f5-4541-802b-b09e9790ed29",
      "metadata": {
        "id": "d4edc8bc-97f5-4541-802b-b09e9790ed29"
      },
      "source": [
        "Koristićemo je često jer Python ne ispisuje automatski rezultat nakon dodeljivanja vrednosti promenljivoj ili sličnih operacija."
      ]
    },
    {
      "cell_type": "raw",
      "id": "b2abbe92-1571-4c80-a4b8-faf251138829",
      "metadata": {
        "id": "b2abbe92-1571-4c80-a4b8-faf251138829"
      },
      "source": [
        "Još jedna osnovna stvar je oznaka za komentar (#). U Jupyter sveskama je nećemo često koristit, jer one omogućavaju da pišemo beleške u posebnim ćelijama kao što je ova."
      ]
    },
    {
      "cell_type": "markdown",
      "id": "c1b5f3e7-018c-4c0d-89e0-f919c2e4fb33",
      "metadata": {
        "id": "c1b5f3e7-018c-4c0d-89e0-f919c2e4fb33"
      },
      "source": [
        "## **Osnovni tipovi podataka i inicijalizacija promenljivih**"
      ]
    },
    {
      "cell_type": "markdown",
      "id": "34a92f3d-1797-4149-a1a1-a6487bcd388c",
      "metadata": {
        "id": "34a92f3d-1797-4149-a1a1-a6487bcd388c"
      },
      "source": [
        "Tipovi podataka koji su nam dostupni u Python su\n",
        " - **numerički**:\n",
        "   - integer (celi brojevi)\n",
        "   - float (realni brojevi)\n",
        "   - kompleksni brojevi (koje nećemo koristiti)\n",
        " - **string** (tekstualni podaci)\n",
        " - **boolean** (logičke vrednosti: True i False)"
      ]
    },
    {
      "cell_type": "markdown",
      "id": "324a0433-42ab-43c0-a68d-040085246317",
      "metadata": {
        "id": "324a0433-42ab-43c0-a68d-040085246317"
      },
      "source": [
        "Python je dinamički tipiziran jezik, što znači da nije potrebno eksplicitno deklarisati tip promenljive. Dovoljno je samo dodeliti vrednost promenljivoj."
      ]
    },
    {
      "cell_type": "markdown",
      "source": [
        "**Primer: dodela celog broja promenljivoj**"
      ],
      "metadata": {
        "id": "PVSiJdIGmLsQ"
      },
      "id": "PVSiJdIGmLsQ"
    },
    {
      "cell_type": "code",
      "execution_count": 17,
      "id": "c58e3f58-3a6d-4fb3-adb8-ce777a3d3a07",
      "metadata": {
        "id": "c58e3f58-3a6d-4fb3-adb8-ce777a3d3a07"
      },
      "outputs": [],
      "source": [
        "a=5"
      ]
    },
    {
      "cell_type": "markdown",
      "id": "a52a4c7b-b387-45f4-9aa2-f8eee9d0ea6b",
      "metadata": {
        "id": "a52a4c7b-b387-45f4-9aa2-f8eee9d0ea6b"
      },
      "source": [
        "Python automatski prepoznaje da je a tipa int, što možemo proveriti komandom:"
      ]
    },
    {
      "cell_type": "code",
      "execution_count": 18,
      "id": "b8537541-b2d7-4444-8ca6-dc943adc8942",
      "metadata": {
        "id": "b8537541-b2d7-4444-8ca6-dc943adc8942",
        "outputId": "062864a3-f75c-4727-b1e3-8070cd6b563d",
        "colab": {
          "base_uri": "https://localhost:8080/"
        }
      },
      "outputs": [
        {
          "output_type": "execute_result",
          "data": {
            "text/plain": [
              "int"
            ]
          },
          "metadata": {},
          "execution_count": 18
        }
      ],
      "source": [
        "type(a)"
      ]
    },
    {
      "cell_type": "markdown",
      "source": [
        "**Realni brojevi (float)**"
      ],
      "metadata": {
        "id": "PR6h8lXGnVRY"
      },
      "id": "PR6h8lXGnVRY"
    },
    {
      "cell_type": "markdown",
      "id": "f11bf51a-df55-4121-9a19-e8ca61b45c30",
      "metadata": {
        "id": "f11bf51a-df55-4121-9a19-e8ca61b45c30"
      },
      "source": [
        "Ako želimo da broj 5 bude tretiran kao realan broj (float), inicijalizacija se vrši na sledeći način:"
      ]
    },
    {
      "cell_type": "code",
      "execution_count": 22,
      "id": "23b3472f-50a9-4cc5-a4a5-1119b7779d70",
      "metadata": {
        "id": "23b3472f-50a9-4cc5-a4a5-1119b7779d70",
        "outputId": "f2b9aaeb-eb9a-4b49-d735-555827d99201",
        "colab": {
          "base_uri": "https://localhost:8080/"
        }
      },
      "outputs": [
        {
          "output_type": "execute_result",
          "data": {
            "text/plain": [
              "float"
            ]
          },
          "metadata": {},
          "execution_count": 22
        }
      ],
      "source": [
        "b=5.0\n",
        "type(b)"
      ]
    },
    {
      "cell_type": "markdown",
      "id": "e906b0c0-93e6-4a4d-8d2a-9b1f603a0d12",
      "metadata": {
        "id": "e906b0c0-93e6-4a4d-8d2a-9b1f603a0d12"
      },
      "source": [
        "U Pythonu je float jedina klasa realnih brojeva i koristi 64-bitnu preciznost."
      ]
    },
    {
      "cell_type": "markdown",
      "source": [
        "**Ostali osnovni tipovi podataka:**"
      ],
      "metadata": {
        "id": "2fVmapP-nxRL"
      },
      "id": "2fVmapP-nxRL"
    },
    {
      "cell_type": "code",
      "execution_count": 13,
      "id": "c9b5a224-eee1-4d5b-8cdd-bc203749b732",
      "metadata": {
        "id": "c9b5a224-eee1-4d5b-8cdd-bc203749b732"
      },
      "outputs": [],
      "source": [
        "# string (tekst)\n",
        "s='Zdravo'\n",
        "# logicke vrednosti\n",
        "l=True"
      ]
    },
    {
      "cell_type": "markdown",
      "id": "692929df-00f0-436c-83f6-f2dabe8287ee",
      "metadata": {
        "id": "692929df-00f0-436c-83f6-f2dabe8287ee"
      },
      "source": [
        "## **Aritmetičke operacije**"
      ]
    },
    {
      "cell_type": "markdown",
      "id": "6dcc903c-fbe3-45ba-8f72-9bcd389046b7",
      "metadata": {
        "id": "6dcc903c-fbe3-45ba-8f72-9bcd389046b7"
      },
      "source": [
        "Python koristi iste aritmetičke operatore kao i drugi programski jezici, uz sledeće izuzetke:"
      ]
    },
    {
      "cell_type": "markdown",
      "source": [
        "**Celobrojno deljenje**\n",
        "\n",
        "Operator za celobrojno deljenje je //."
      ],
      "metadata": {
        "id": "8_JSQv_yqm2-"
      },
      "id": "8_JSQv_yqm2-"
    },
    {
      "cell_type": "code",
      "source": [
        "print(a//2)"
      ],
      "metadata": {
        "colab": {
          "base_uri": "https://localhost:8080/"
        },
        "id": "L80DjYuLqq_0",
        "outputId": "d8f03c64-edf2-4ba9-87a2-3279d9ee1766"
      },
      "id": "L80DjYuLqq_0",
      "execution_count": 21,
      "outputs": [
        {
          "output_type": "stream",
          "name": "stdout",
          "text": [
            "2\n"
          ]
        }
      ]
    },
    {
      "cell_type": "markdown",
      "source": [
        "\n",
        "\n",
        "Operator za deljenje / uvek vraća broj tipa float, čak i kada su oba operanda celobrojna. U mnogim drugim jezicima (kao što su C, C++ i Java), operator / vrši celobrojno deljenje kada su oba operanda celobrojna, dok daje decimalni rezultat ako je bar jedan operand realan broj."
      ],
      "metadata": {
        "id": "86gMGJMloVoy"
      },
      "id": "86gMGJMloVoy"
    },
    {
      "cell_type": "code",
      "execution_count": 20,
      "id": "31007634-2c45-4ae9-973e-f2014446de2a",
      "metadata": {
        "id": "31007634-2c45-4ae9-973e-f2014446de2a",
        "outputId": "6549706c-fea6-4896-ad04-c5ce870585e7",
        "colab": {
          "base_uri": "https://localhost:8080/"
        }
      },
      "outputs": [
        {
          "output_type": "execute_result",
          "data": {
            "text/plain": [
              "2.5"
            ]
          },
          "metadata": {},
          "execution_count": 20
        }
      ],
      "source": [
        "a / 2"
      ]
    },
    {
      "cell_type": "markdown",
      "source": [
        "Deljenje sa nulom izaziva grešku *ZeroDivisionError*."
      ],
      "metadata": {
        "id": "0wQVnrdhruaX"
      },
      "id": "0wQVnrdhruaX"
    },
    {
      "cell_type": "code",
      "source": [
        "a/0"
      ],
      "metadata": {
        "colab": {
          "base_uri": "https://localhost:8080/",
          "height": 141
        },
        "id": "zPamIi2arrT7",
        "outputId": "63c82782-6a41-4143-de2b-e9784f078b05"
      },
      "id": "zPamIi2arrT7",
      "execution_count": 24,
      "outputs": [
        {
          "output_type": "error",
          "ename": "ZeroDivisionError",
          "evalue": "division by zero",
          "traceback": [
            "\u001b[0;31m---------------------------------------------------------------------------\u001b[0m",
            "\u001b[0;31mZeroDivisionError\u001b[0m                         Traceback (most recent call last)",
            "\u001b[0;32m<ipython-input-24-deacdc4ccabc>\u001b[0m in \u001b[0;36m<cell line: 0>\u001b[0;34m()\u001b[0m\n\u001b[0;32m----> 1\u001b[0;31m \u001b[0ma\u001b[0m\u001b[0;34m/\u001b[0m\u001b[0;36m0\u001b[0m\u001b[0;34m\u001b[0m\u001b[0;34m\u001b[0m\u001b[0m\n\u001b[0m",
            "\u001b[0;31mZeroDivisionError\u001b[0m: division by zero"
          ]
        }
      ]
    },
    {
      "cell_type": "markdown",
      "id": "39ed9cca-26c2-401d-9227-1ad8fd342dc3",
      "metadata": {
        "id": "39ed9cca-26c2-401d-9227-1ad8fd342dc3"
      },
      "source": [
        "**Deljenje sa ostatkom**\n",
        "\n",
        "U Pythonu se koristi operator % za vraćanje ostatka pri deljenju."
      ]
    },
    {
      "cell_type": "code",
      "source": [
        "a%2"
      ],
      "metadata": {
        "colab": {
          "base_uri": "https://localhost:8080/"
        },
        "id": "ksSwHQWkrVBs",
        "outputId": "d72b0d7b-2f94-4405-afd4-d529561fb557"
      },
      "id": "ksSwHQWkrVBs",
      "execution_count": 23,
      "outputs": [
        {
          "output_type": "execute_result",
          "data": {
            "text/plain": [
              "1"
            ]
          },
          "metadata": {},
          "execution_count": 23
        }
      ]
    },
    {
      "cell_type": "markdown",
      "source": [
        "**Stepenovanje**\n",
        "Operator za stepenovanje je **."
      ],
      "metadata": {
        "id": "2yu-aA81sEAJ"
      },
      "id": "2yu-aA81sEAJ"
    },
    {
      "cell_type": "code",
      "execution_count": 25,
      "id": "542b1ea6-be82-4369-8289-3faba366ef78",
      "metadata": {
        "id": "542b1ea6-be82-4369-8289-3faba366ef78",
        "outputId": "3f4b50d7-5b89-42f0-8eb1-04638aa490d8",
        "colab": {
          "base_uri": "https://localhost:8080/"
        }
      },
      "outputs": [
        {
          "output_type": "stream",
          "name": "stdout",
          "text": [
            "125\n"
          ]
        }
      ],
      "source": [
        "print(a ** 3) # stepenovanje"
      ]
    },
    {
      "cell_type": "markdown",
      "id": "9982b312-eaac-4468-b82b-0026d8149bb5",
      "metadata": {
        "id": "9982b312-eaac-4468-b82b-0026d8149bb5"
      },
      "source": [
        "## **Strukture podataka**"
      ]
    },
    {
      "cell_type": "markdown",
      "id": "31a3c582-8ee9-49ad-a669-9a2cb392bb8f",
      "metadata": {
        "id": "31a3c582-8ee9-49ad-a669-9a2cb392bb8f"
      },
      "source": [
        "Ako želimo upisati neki skup podataka u jednu promenljivu, možemo koristiti sledeće strukture podataka:"
      ]
    },
    {
      "cell_type": "markdown",
      "id": "8b24f262-d203-476d-8e13-f53de99c7628",
      "metadata": {
        "id": "8b24f262-d203-476d-8e13-f53de99c7628"
      },
      "source": [
        "- Liste (lists)\n",
        "- Torke (tuple)\n",
        "- Skupovi (sets)\n",
        "- Rečnici (disctionaries)"
      ]
    },
    {
      "cell_type": "markdown",
      "id": "b2cbbc09-70b3-4b70-87ee-15041b101380",
      "metadata": {
        "id": "b2cbbc09-70b3-4b70-87ee-15041b101380"
      },
      "source": [
        "### **Liste** [   ]"
      ]
    },
    {
      "cell_type": "markdown",
      "id": "e3bc378f-893d-47d5-8985-38df161ec2c9",
      "metadata": {
        "id": "e3bc378f-893d-47d5-8985-38df161ec2c9"
      },
      "source": [
        "Liste su promenljivi (mutable) uređeni skupovi podataka. Kreiraju se pomoću uglastih zagrada, a njihovi elementi mogu biti različiti tipovi podataka. Na primer, možemo kreirati listu lista1 na sledeći način:"
      ]
    },
    {
      "cell_type": "code",
      "execution_count": 27,
      "id": "71e892bb-d0b0-40e9-888e-52486f73c214",
      "metadata": {
        "id": "71e892bb-d0b0-40e9-888e-52486f73c214"
      },
      "outputs": [],
      "source": [
        "lista1= [1,2,3,4,a,b,'zdravo',1,1.0,5]"
      ]
    },
    {
      "cell_type": "code",
      "execution_count": 28,
      "id": "22b000d9-76e3-4e19-bb2a-6f9c73be0d22",
      "metadata": {
        "id": "22b000d9-76e3-4e19-bb2a-6f9c73be0d22",
        "outputId": "57e80877-f715-443a-b131-fd79cb8faf00",
        "colab": {
          "base_uri": "https://localhost:8080/"
        }
      },
      "outputs": [
        {
          "output_type": "stream",
          "name": "stdout",
          "text": [
            "[1, 2, 3, 4, 5, 5.0, 'zdravo', 1, 1.0, 5]\n"
          ]
        }
      ],
      "source": [
        "print(lista1)"
      ]
    },
    {
      "cell_type": "markdown",
      "id": "b83dfa9e-9d04-4010-becf-8eef13033d37",
      "metadata": {
        "id": "b83dfa9e-9d04-4010-becf-8eef13033d37"
      },
      "source": [
        "Elementima liste, i ostalim sličnim strukturama podataka, pristupamo koristeći uglaste zagrade. Prvi element u listi ima indeks 0:"
      ]
    },
    {
      "cell_type": "code",
      "execution_count": 29,
      "id": "97b0200e-03db-46d4-9bd7-949666c41bf6",
      "metadata": {
        "id": "97b0200e-03db-46d4-9bd7-949666c41bf6",
        "outputId": "6cab03a7-a487-48c0-9603-31bbe07ed02c",
        "colab": {
          "base_uri": "https://localhost:8080/"
        }
      },
      "outputs": [
        {
          "output_type": "execute_result",
          "data": {
            "text/plain": [
              "1"
            ]
          },
          "metadata": {},
          "execution_count": 29
        }
      ],
      "source": [
        "lista1[0]"
      ]
    },
    {
      "cell_type": "markdown",
      "id": "554c95de-b6e7-482b-9487-8b8e22a028f8",
      "metadata": {
        "id": "554c95de-b6e7-482b-9487-8b8e22a028f8"
      },
      "source": [
        "Takođe, možemo pristupiti elementima koristeći negativne indekse, gde indeks -1 označava poslednji element u listi:"
      ]
    },
    {
      "cell_type": "code",
      "execution_count": null,
      "id": "b4b3ed9e-b939-4660-a2fc-084013bfca36",
      "metadata": {
        "id": "b4b3ed9e-b939-4660-a2fc-084013bfca36",
        "outputId": "9d01c898-4fde-4a5b-8645-231062fb683e"
      },
      "outputs": [
        {
          "data": {
            "text/plain": [
              "5"
            ]
          },
          "execution_count": 81,
          "metadata": {},
          "output_type": "execute_result"
        }
      ],
      "source": [
        " lista1[-1]"
      ]
    },
    {
      "cell_type": "markdown",
      "id": "0886aad7-0e0d-4de2-a0e2-7c4bc03e01a6",
      "metadata": {
        "id": "0886aad7-0e0d-4de2-a0e2-7c4bc03e01a6"
      },
      "source": [
        "Strukture podataka imaju pridružene metode (funkcije) za rad sa njima. Pa tako, ako želimo dodati neki novi element u listu koristimo metod append gde kao argument navodimo vrednost koju dodajemo (na kraj) liste:"
      ]
    },
    {
      "cell_type": "code",
      "execution_count": 30,
      "id": "cc4eeae4-e49c-49ee-8ee7-42b11e4afbe1",
      "metadata": {
        "id": "cc4eeae4-e49c-49ee-8ee7-42b11e4afbe1",
        "outputId": "7a172d24-a3e0-4ba4-bdc8-523001b7b4a2",
        "colab": {
          "base_uri": "https://localhost:8080/"
        }
      },
      "outputs": [
        {
          "output_type": "stream",
          "name": "stdout",
          "text": [
            "[1, 2, 3, 4, 5, 5.0, 'zdravo', 1, 1.0, 5, 2]\n"
          ]
        }
      ],
      "source": [
        "lista1.append(2)\n",
        "print(lista1)"
      ]
    },
    {
      "cell_type": "markdown",
      "id": "ea3b9723-0c39-41f7-bede-cb37d2790d00",
      "metadata": {
        "id": "ea3b9723-0c39-41f7-bede-cb37d2790d00"
      },
      "source": [
        "Ako želimo da dodamo element na određeno mesto u listi, koristimo metod insert() koji prima dva argumenta: prvi je pozicija u listi, a drugi vrednost koju dodajemo:"
      ]
    },
    {
      "cell_type": "code",
      "execution_count": 31,
      "id": "a5abfeec-88d3-4ffd-aa6f-8da1ea0cc569",
      "metadata": {
        "id": "a5abfeec-88d3-4ffd-aa6f-8da1ea0cc569",
        "outputId": "08969159-63ae-46d0-f59f-350cb1710115",
        "colab": {
          "base_uri": "https://localhost:8080/"
        }
      },
      "outputs": [
        {
          "output_type": "stream",
          "name": "stdout",
          "text": [
            "[1, 2, 3, 4, 5, [7, 6], 5.0, 'zdravo', 1, 1.0, 5, 2]\n"
          ]
        }
      ],
      "source": [
        "lista1.insert(5,[7,6])\n",
        "print(lista1)"
      ]
    },
    {
      "cell_type": "markdown",
      "id": "19cd597f-712b-44a0-8eb8-df6b61cedbae",
      "metadata": {
        "id": "19cd597f-712b-44a0-8eb8-df6b61cedbae"
      },
      "source": [
        "Metod remove() briše prvi element sa zadatom vrednošću:"
      ]
    },
    {
      "cell_type": "code",
      "execution_count": 32,
      "id": "317b72fa-534f-48b8-8b24-5fe9500bb884",
      "metadata": {
        "id": "317b72fa-534f-48b8-8b24-5fe9500bb884",
        "outputId": "65d1a96a-e11d-4b91-de15-6c519156e1e4",
        "colab": {
          "base_uri": "https://localhost:8080/"
        }
      },
      "outputs": [
        {
          "output_type": "stream",
          "name": "stdout",
          "text": [
            "[1, 2, 3, 4, [7, 6], 5.0, 'zdravo', 1, 1.0, 5, 2]\n"
          ]
        }
      ],
      "source": [
        "lista1.remove(5) #brise element koji ima vrednost 1\n",
        "print(lista1)"
      ]
    },
    {
      "cell_type": "markdown",
      "id": "aeb3e9b8-ef7e-4807-b975-9c9497d42a87",
      "metadata": {
        "id": "aeb3e9b8-ef7e-4807-b975-9c9497d42a87"
      },
      "source": [
        "Za brisanje elementa sa određenim indeksom, koristimo metod pop(). Ako ne navedemo argument, ovaj metod briše poslednji element u listi:"
      ]
    },
    {
      "cell_type": "code",
      "execution_count": 33,
      "id": "f9e37f75-f379-4076-8ea4-d05c54f117ed",
      "metadata": {
        "id": "f9e37f75-f379-4076-8ea4-d05c54f117ed",
        "outputId": "054893b8-0c60-451b-83bf-792d6f917658",
        "colab": {
          "base_uri": "https://localhost:8080/"
        }
      },
      "outputs": [
        {
          "output_type": "stream",
          "name": "stdout",
          "text": [
            "[2, 3, 4, [7, 6], 5.0, 'zdravo', 1, 1.0, 5, 2]\n",
            "[2, 3, 4, [7, 6], 5.0, 'zdravo', 1, 1.0, 5]\n"
          ]
        }
      ],
      "source": [
        "lista1.pop(0)\n",
        "print(lista1)\n",
        "lista1.pop() # iako su prazne zagrade, navesti ih obavezno\n",
        "print(lista1)"
      ]
    },
    {
      "cell_type": "markdown",
      "id": "4fdc1fc3-ab86-402b-ba24-fa6da8397a46",
      "metadata": {
        "id": "4fdc1fc3-ab86-402b-ba24-fa6da8397a46"
      },
      "source": [
        "Često ćemo želeti da kopiramo listu. Imajte na umu da naredba:"
      ]
    },
    {
      "cell_type": "code",
      "execution_count": 34,
      "id": "8cb9bd19-edf6-47a2-9406-de25c6687707",
      "metadata": {
        "id": "8cb9bd19-edf6-47a2-9406-de25c6687707"
      },
      "outputs": [],
      "source": [
        "lista2=lista1"
      ]
    },
    {
      "cell_type": "markdown",
      "id": "af3d8802-ea8d-4ddf-b996-a78a0725b2ed",
      "metadata": {
        "id": "af3d8802-ea8d-4ddf-b996-a78a0725b2ed"
      },
      "source": [
        "ne kopira sadržaj liste, već lista2 samo referencira na lista1. Sve izmene na jednom objektu utiču i na drugi. Na primer:"
      ]
    },
    {
      "cell_type": "code",
      "execution_count": 36,
      "id": "95a7f086-a8f0-4f79-a54d-d2291112aa44",
      "metadata": {
        "id": "95a7f086-a8f0-4f79-a54d-d2291112aa44",
        "outputId": "4314ee37-947d-44e9-da6c-95ca0f6e7009",
        "colab": {
          "base_uri": "https://localhost:8080/"
        }
      },
      "outputs": [
        {
          "output_type": "stream",
          "name": "stdout",
          "text": [
            "['pera', 3, 4, [7, 6], 5.0, 'zdravo', 1, 1.0, 5]\n"
          ]
        }
      ],
      "source": [
        "lista2[0]='pera'\n",
        "print(lista1)"
      ]
    },
    {
      "cell_type": "markdown",
      "id": "0a26cb9c-d271-49bd-8d89-9d8970013321",
      "metadata": {
        "id": "0a26cb9c-d271-49bd-8d89-9d8970013321"
      },
      "source": [
        "izmenili smo i lista1"
      ]
    },
    {
      "cell_type": "code",
      "execution_count": 38,
      "id": "f3301957-4bdc-4419-aae5-1195dabfc8d3",
      "metadata": {
        "id": "f3301957-4bdc-4419-aae5-1195dabfc8d3",
        "outputId": "5487b6d9-8749-4e41-fef4-b62b30155858",
        "colab": {
          "base_uri": "https://localhost:8080/"
        }
      },
      "outputs": [
        {
          "output_type": "stream",
          "name": "stdout",
          "text": [
            "['pera', 3, 4, [7, 6], 5.0, 'zdravo', 1, 1.0, 5]\n"
          ]
        }
      ],
      "source": [
        "print(lista1)"
      ]
    },
    {
      "cell_type": "markdown",
      "id": "b40bf9a3-9930-406c-a360-6fa6b7da10a7",
      "metadata": {
        "id": "b40bf9a3-9930-406c-a360-6fa6b7da10a7"
      },
      "source": [
        "Da bismo napravili pravu kopiju liste, koristimo metod copy():"
      ]
    },
    {
      "cell_type": "code",
      "execution_count": 39,
      "id": "c3f420ac-da0f-422d-a8cd-01a338b7ffc7",
      "metadata": {
        "id": "c3f420ac-da0f-422d-a8cd-01a338b7ffc7",
        "outputId": "2c0967a4-8371-4ba4-bd40-1341e85b0a1b",
        "colab": {
          "base_uri": "https://localhost:8080/"
        }
      },
      "outputs": [
        {
          "output_type": "stream",
          "name": "stdout",
          "text": [
            "['pera', 3, 4, [7, 6], 5.0, 'zdravo', 1, 1.0, 5]\n"
          ]
        }
      ],
      "source": [
        "lista3=lista1.copy()\n",
        "print(lista3)"
      ]
    },
    {
      "cell_type": "markdown",
      "id": "e2b349ee-bb3c-4288-b276-f3469547dd6c",
      "metadata": {
        "id": "e2b349ee-bb3c-4288-b276-f3469547dd6c"
      },
      "source": [
        "Sada možemo slobodno manipulisati elementima lista3, a promene neće uticati na lista1:"
      ]
    },
    {
      "cell_type": "code",
      "execution_count": 40,
      "id": "35854303-b762-4130-b744-52be9ca757fe",
      "metadata": {
        "id": "35854303-b762-4130-b744-52be9ca757fe",
        "outputId": "fee359e6-de42-4536-99c8-0e4955c5bd5d",
        "colab": {
          "base_uri": "https://localhost:8080/"
        }
      },
      "outputs": [
        {
          "output_type": "stream",
          "name": "stdout",
          "text": [
            "[1, 3, 4, [7, 6], 5.0, 'zdravo', 1, 1.0, 5]\n",
            "['pera', 3, 4, [7, 6], 5.0, 'zdravo', 1, 1.0, 5]\n"
          ]
        }
      ],
      "source": [
        "lista3[0]=1\n",
        "print(lista3)\n",
        "print(lista1)"
      ]
    },
    {
      "cell_type": "markdown",
      "id": "4257219a-a94a-4879-9b2d-46d26782f030",
      "metadata": {
        "id": "4257219a-a94a-4879-9b2d-46d26782f030"
      },
      "source": [
        "Međutim, ako pristupamo vrednostima liste, onda možemo koristiti znak = da ih upišemo u novu promenljivu. Tako da kopiranje cele liste možemo uraditi i na sledeći način"
      ]
    },
    {
      "cell_type": "code",
      "execution_count": 41,
      "id": "c40222a2-a5ea-451d-ae09-e8f2b3549eb5",
      "metadata": {
        "id": "c40222a2-a5ea-451d-ae09-e8f2b3549eb5",
        "outputId": "0f68da81-7d2b-48bf-e4ba-7cbeca6e97f5",
        "colab": {
          "base_uri": "https://localhost:8080/"
        }
      },
      "outputs": [
        {
          "output_type": "stream",
          "name": "stdout",
          "text": [
            "['pera', 3, 4, [7, 6], 5.0, 'zdravo', 1, 1.0, 5]\n",
            "['pera', 3, 4, [7, 6], 5.0, 'zdravo', 1, 1.0, 0.0]\n",
            "['pera', 3, 4, [7, 6], 5.0, 'zdravo', 1, 1.0, 5]\n"
          ]
        }
      ],
      "source": [
        "lista4=lista1[:]\n",
        "print(lista4)\n",
        "lista4[-1]= 0.0 # izmenimo poslednji element i nakon toga proverimo liste\n",
        "print(lista4)\n",
        "print(lista1)"
      ]
    },
    {
      "cell_type": "raw",
      "id": "688f4b98-417a-46ed-ad74-b72049f558dc",
      "metadata": {
        "id": "688f4b98-417a-46ed-ad74-b72049f558dc"
      },
      "source": [
        "Sa [ : ] pristupamo svim elementima liste lista1, od prvog do poslednjeg. U opštem slučaju, uzastopnim elementima liste pristupamo sa [indeks_pocetak: indeks_kraj+1]. Tako da, ako želimo uzeti prva tri elementa,naredba glasi"
      ]
    },
    {
      "cell_type": "code",
      "execution_count": 45,
      "id": "b3592e7a-94e7-43f6-a2ea-b971b465310e",
      "metadata": {
        "id": "b3592e7a-94e7-43f6-a2ea-b971b465310e",
        "outputId": "96c7ceaf-8e9a-4403-cecf-cb98805f0f5a",
        "colab": {
          "base_uri": "https://localhost:8080/"
        }
      },
      "outputs": [
        {
          "output_type": "stream",
          "name": "stdout",
          "text": [
            "['pera', 3, 4]\n"
          ]
        }
      ],
      "source": [
        "pom=lista1[0:3]\n",
        "print(pom)"
      ]
    },
    {
      "cell_type": "raw",
      "id": "11fe4518-1a6f-4824-846e-0e4b56549eeb",
      "metadata": {
        "id": "11fe4518-1a6f-4824-846e-0e4b56549eeb"
      },
      "source": [
        "Da bismo uzeli svaki drugi element, koristimo sledeći oblik [indeks_pocetak: indeks_kraj+1: korak]"
      ]
    },
    {
      "cell_type": "code",
      "execution_count": 46,
      "id": "cb0d0c6b-108d-4dfb-9b48-2f9446a47395",
      "metadata": {
        "id": "cb0d0c6b-108d-4dfb-9b48-2f9446a47395",
        "outputId": "bd468bf1-87ab-4a52-eb88-a4d409c7e3cf",
        "colab": {
          "base_uri": "https://localhost:8080/"
        }
      },
      "outputs": [
        {
          "output_type": "stream",
          "name": "stdout",
          "text": [
            "['pera', 3, 4, [7, 6], 5.0, 'zdravo', 1, 1.0, 5]\n"
          ]
        },
        {
          "output_type": "execute_result",
          "data": {
            "text/plain": [
              "['pera', 4, 5.0, 1, 5]"
            ]
          },
          "metadata": {},
          "execution_count": 46
        }
      ],
      "source": [
        "print(lista1)\n",
        "lista1[0::2]\n"
      ]
    },
    {
      "cell_type": "markdown",
      "id": "32bb9c70-1552-4119-bbe4-d5587453a501",
      "metadata": {
        "id": "32bb9c70-1552-4119-bbe4-d5587453a501"
      },
      "source": [
        "što je ekvivalentno sa"
      ]
    },
    {
      "cell_type": "code",
      "execution_count": 47,
      "id": "3b7a9f5a-4f20-4919-8c3e-276c13c45a0f",
      "metadata": {
        "id": "3b7a9f5a-4f20-4919-8c3e-276c13c45a0f",
        "outputId": "73348148-7d31-43ef-e59a-b1e03daf508b",
        "colab": {
          "base_uri": "https://localhost:8080/"
        }
      },
      "outputs": [
        {
          "output_type": "execute_result",
          "data": {
            "text/plain": [
              "['pera', 4, 5.0, 1, 5]"
            ]
          },
          "metadata": {},
          "execution_count": 47
        }
      ],
      "source": [
        "lista1[::2]"
      ]
    },
    {
      "cell_type": "markdown",
      "id": "641ed6a3-1295-44c4-932f-b4900dfe6819",
      "metadata": {
        "id": "641ed6a3-1295-44c4-932f-b4900dfe6819"
      },
      "source": [
        "ali ne i sa"
      ]
    },
    {
      "cell_type": "code",
      "execution_count": 48,
      "id": "4cfd355f-3c81-4162-b371-4fd244a09dfa",
      "metadata": {
        "id": "4cfd355f-3c81-4162-b371-4fd244a09dfa",
        "outputId": "ccc235da-22d5-4f37-ff96-61b8f228a6fb",
        "colab": {
          "base_uri": "https://localhost:8080/"
        }
      },
      "outputs": [
        {
          "output_type": "execute_result",
          "data": {
            "text/plain": [
              "['pera', 4, 5.0, 1]"
            ]
          },
          "metadata": {},
          "execution_count": 48
        }
      ],
      "source": [
        "lista1[0:-1:2]"
      ]
    },
    {
      "cell_type": "markdown",
      "source": [
        "jer indeks -1 označava poslednji element u listi."
      ],
      "metadata": {
        "id": "KMd067J8xYlP"
      },
      "id": "KMd067J8xYlP"
    },
    {
      "cell_type": "markdown",
      "id": "e6609edf-8217-40b9-84fd-76f9e96dad03",
      "metadata": {
        "id": "e6609edf-8217-40b9-84fd-76f9e96dad03"
      },
      "source": [
        "Dužinu liste možemo proveriti koristeći funkciju len():"
      ]
    },
    {
      "cell_type": "code",
      "execution_count": null,
      "id": "03532dbf-b2ad-44f7-84dc-89749cfec9d4",
      "metadata": {
        "id": "03532dbf-b2ad-44f7-84dc-89749cfec9d4",
        "outputId": "2458b5d1-5e41-4131-add6-fcb54b45ec0a"
      },
      "outputs": [
        {
          "data": {
            "text/plain": [
              "5"
            ]
          },
          "execution_count": 42,
          "metadata": {},
          "output_type": "execute_result"
        }
      ],
      "source": [
        "len(lista1)"
      ]
    },
    {
      "cell_type": "markdown",
      "id": "eea7a2da-0c95-4ae6-a12b-3a7c64c41fff",
      "metadata": {
        "id": "eea7a2da-0c95-4ae6-a12b-3a7c64c41fff"
      },
      "source": [
        "Za više informacija o metodama lista, možemo koristiti funkciju help(list)."
      ]
    },
    {
      "cell_type": "markdown",
      "id": "bc85d615-abad-48a9-aa91-d097830d8657",
      "metadata": {
        "id": "bc85d615-abad-48a9-aa91-d097830d8657"
      },
      "source": [
        "### **Torke (Tuples)**  (  )"
      ]
    },
    {
      "cell_type": "markdown",
      "id": "02b08771-97f3-48a3-9afe-b373dcb11139",
      "metadata": {
        "id": "02b08771-97f3-48a3-9afe-b373dcb11139"
      },
      "source": [
        "Za razliku od listi, torke su nepromenljivi (immutable) uređeni skupovi podataka. Definišu se pomoću malih zagrada. Na primer:"
      ]
    },
    {
      "cell_type": "code",
      "execution_count": 59,
      "id": "1581bb09-5232-47a4-8318-78e4e780c513",
      "metadata": {
        "id": "1581bb09-5232-47a4-8318-78e4e780c513"
      },
      "outputs": [],
      "source": [
        "torka1=(1,2,[1,2], 'zdravo')"
      ]
    },
    {
      "cell_type": "code",
      "execution_count": 60,
      "id": "cd040f23-0450-493f-b619-aaf44a0ec890",
      "metadata": {
        "id": "cd040f23-0450-493f-b619-aaf44a0ec890",
        "outputId": "317295a3-3818-4b31-fcfd-020a6918af30",
        "colab": {
          "base_uri": "https://localhost:8080/"
        }
      },
      "outputs": [
        {
          "output_type": "stream",
          "name": "stdout",
          "text": [
            "(1, 2, [1, 2], 'zdravo')\n"
          ]
        }
      ],
      "source": [
        "print(torka1)"
      ]
    },
    {
      "cell_type": "markdown",
      "source": [
        "Kada želimo da kreiramo torku sa samo jednim elementom, potrebno je da dodamo zarez nakon vrednosti da bi Python prepoznao da je to torka, a ne običan broj ili neki drugi tip podatka."
      ],
      "metadata": {
        "id": "9ZpRb3Ic3X2b"
      },
      "id": "9ZpRb3Ic3X2b"
    },
    {
      "cell_type": "code",
      "execution_count": 61,
      "id": "db009ac9-6047-4907-bac2-89829d9ab2bd",
      "metadata": {
        "id": "db009ac9-6047-4907-bac2-89829d9ab2bd",
        "colab": {
          "base_uri": "https://localhost:8080/"
        },
        "outputId": "97026421-2e28-4b96-a67d-612997b8f4c5"
      },
      "outputs": [
        {
          "output_type": "stream",
          "name": "stdout",
          "text": [
            "(1,)\n",
            "<class 'tuple'>\n"
          ]
        }
      ],
      "source": [
        "torka2=(1,) # torka sa jednim elementom\n",
        "print(torka2)\n",
        "print(type(torka2))"
      ]
    },
    {
      "cell_type": "markdown",
      "id": "b80f6c77-2a1d-45c9-b74b-fec6345d41c0",
      "metadata": {
        "id": "b80f6c77-2a1d-45c9-b74b-fec6345d41c0"
      },
      "source": [
        "Pošto je torka nepromenljiv skup podataka, pokušaj izmene vrednosti u torki izaziva grešku:"
      ]
    },
    {
      "cell_type": "code",
      "execution_count": 62,
      "id": "e771f772-c0a9-4923-b31a-32bf0faee066",
      "metadata": {
        "id": "e771f772-c0a9-4923-b31a-32bf0faee066",
        "outputId": "78bff9a1-45df-45e7-e0f1-6cf43ec10ee0",
        "colab": {
          "base_uri": "https://localhost:8080/",
          "height": 159
        }
      },
      "outputs": [
        {
          "output_type": "error",
          "ename": "TypeError",
          "evalue": "'tuple' object does not support item assignment",
          "traceback": [
            "\u001b[0;31m---------------------------------------------------------------------------\u001b[0m",
            "\u001b[0;31mTypeError\u001b[0m                                 Traceback (most recent call last)",
            "\u001b[0;32m<ipython-input-62-c4fb70d00468>\u001b[0m in \u001b[0;36m<cell line: 0>\u001b[0;34m()\u001b[0m\n\u001b[0;32m----> 1\u001b[0;31m \u001b[0mtorka1\u001b[0m\u001b[0;34m[\u001b[0m\u001b[0;36m0\u001b[0m\u001b[0;34m]\u001b[0m\u001b[0;34m=\u001b[0m\u001b[0;36m10\u001b[0m\u001b[0;34m\u001b[0m\u001b[0;34m\u001b[0m\u001b[0m\n\u001b[0m\u001b[1;32m      2\u001b[0m \u001b[0mprint\u001b[0m\u001b[0;34m(\u001b[0m\u001b[0mtroka1\u001b[0m\u001b[0;34m)\u001b[0m\u001b[0;34m\u001b[0m\u001b[0;34m\u001b[0m\u001b[0m\n",
            "\u001b[0;31mTypeError\u001b[0m: 'tuple' object does not support item assignment"
          ]
        }
      ],
      "source": [
        "torka1[0]=10\n",
        "print(troka1)"
      ]
    },
    {
      "cell_type": "markdown",
      "id": "db2cc6af-0cd7-4c0a-9c14-8a8e1c3c19da",
      "metadata": {
        "id": "db2cc6af-0cd7-4c0a-9c14-8a8e1c3c19da"
      },
      "source": [
        "Torke se koriste kada želimo da obezbedimo da podaci ne budu menjani tokom izvršavanja programa. Torku možemo konvertovati u listu pomoću sledeće komande:"
      ]
    },
    {
      "cell_type": "code",
      "execution_count": 63,
      "id": "8f799ae5-56ab-44d9-b6dc-caf74a767440",
      "metadata": {
        "id": "8f799ae5-56ab-44d9-b6dc-caf74a767440",
        "colab": {
          "base_uri": "https://localhost:8080/"
        },
        "outputId": "de08c005-851c-4a86-d534-5c9471a1e9c6"
      },
      "outputs": [
        {
          "output_type": "stream",
          "name": "stdout",
          "text": [
            "(1, 2, [1, 2], 'zdravo')\n",
            "[1, 2, [1, 2], 'zdravo']\n"
          ]
        }
      ],
      "source": [
        "lista4=list(torka1)\n",
        "print(torka1)\n",
        "print(lista4)"
      ]
    },
    {
      "cell_type": "markdown",
      "id": "ac72cfc9-b82e-4dc6-b0ac-16bc613eba70",
      "metadata": {
        "id": "ac72cfc9-b82e-4dc6-b0ac-16bc613eba70"
      },
      "source": [
        "### **Skupovi  (Sets)** {  }"
      ]
    },
    {
      "cell_type": "markdown",
      "id": "325397c6-be09-4570-827b-dffc37c59a27",
      "metadata": {
        "id": "325397c6-be09-4570-827b-dffc37c59a27"
      },
      "source": [
        "Skupovi su kolekcije jedinstvenih elemenata koji nemaju uređen redosled. Skup se definiše pomoću vitičastih zagrada:"
      ]
    },
    {
      "cell_type": "code",
      "execution_count": 67,
      "id": "962720ab-0334-4f66-9153-1377e7e6926d",
      "metadata": {
        "id": "962720ab-0334-4f66-9153-1377e7e6926d",
        "colab": {
          "base_uri": "https://localhost:8080/"
        },
        "outputId": "bcc171e2-b7e9-49a6-cd06-e8e3efc8ff6f"
      },
      "outputs": [
        {
          "output_type": "stream",
          "name": "stdout",
          "text": [
            "{1, 2, 3, 'p', 'petar'}\n"
          ]
        }
      ],
      "source": [
        "set1={1,1,2,3,1,'p','petar'}\n",
        "print(set1)"
      ]
    },
    {
      "cell_type": "markdown",
      "source": [
        "Može se definisati i na drugi način, pomoću funckije set(), ako želimo da konvertujemo listu u skup."
      ],
      "metadata": {
        "id": "k6VTVCj-6m-i"
      },
      "id": "k6VTVCj-6m-i"
    },
    {
      "cell_type": "code",
      "source": [
        "set2 = set([1, 2, 2, 'p','p'])\n",
        "print(set2)"
      ],
      "metadata": {
        "colab": {
          "base_uri": "https://localhost:8080/"
        },
        "id": "LrLDoAF56zhs",
        "outputId": "c5bb1b1c-1648-4f62-9688-6101b9913f84"
      },
      "id": "LrLDoAF56zhs",
      "execution_count": 86,
      "outputs": [
        {
          "output_type": "stream",
          "name": "stdout",
          "text": [
            "{1, 2, 'p'}\n"
          ]
        }
      ]
    },
    {
      "cell_type": "markdown",
      "source": [
        "Ako želimo napraviti prazan skup, moramo koristiti naredbu set(), jer su prazne vitičaste zagrade rezervisane za pravljenje praznog rečnika."
      ],
      "metadata": {
        "id": "-ngIlQVi7Hl5"
      },
      "id": "-ngIlQVi7Hl5"
    },
    {
      "cell_type": "code",
      "source": [
        "prazan_skup=set()\n",
        "print(prazan_skup)"
      ],
      "metadata": {
        "colab": {
          "base_uri": "https://localhost:8080/"
        },
        "id": "0DoZQz4y7XwO",
        "outputId": "e3276ce7-6e14-44be-fe38-0f2ebc5df0b5"
      },
      "id": "0DoZQz4y7XwO",
      "execution_count": 87,
      "outputs": [
        {
          "output_type": "stream",
          "name": "stdout",
          "text": [
            "set()\n"
          ]
        }
      ]
    },
    {
      "cell_type": "markdown",
      "source": [
        "Da biste dodali elemente u skup, koristite metod add(). Ovaj metod dodaje samo jedan element u skup, a ako element već postoji, neće se promeniti."
      ],
      "metadata": {
        "id": "dOeLauZt7qGk"
      },
      "id": "dOeLauZt7qGk"
    },
    {
      "cell_type": "code",
      "source": [
        "set2.add(1)\n",
        "print(set2)\n",
        "set2.add(51)\n",
        "print(set2)"
      ],
      "metadata": {
        "colab": {
          "base_uri": "https://localhost:8080/"
        },
        "id": "3zVkMYPd7tDi",
        "outputId": "2019cd26-3655-4279-cf23-7d534bf47cfa"
      },
      "id": "3zVkMYPd7tDi",
      "execution_count": 88,
      "outputs": [
        {
          "output_type": "stream",
          "name": "stdout",
          "text": [
            "{1, 2, 'p'}\n",
            "{1, 2, 51, 'p'}\n"
          ]
        }
      ]
    },
    {
      "cell_type": "markdown",
      "source": [
        "Postoji nekoliko metoda za brisanje elemenata iz skupa."
      ],
      "metadata": {
        "id": "-_xX7wGV8Um7"
      },
      "id": "-_xX7wGV8Um7"
    },
    {
      "cell_type": "markdown",
      "source": [
        "Metod remove() briše element, ali ako element ne postoji, Python će baciti grešku (KeyError)."
      ],
      "metadata": {
        "id": "Exghk1Uy8Xv0"
      },
      "id": "Exghk1Uy8Xv0"
    },
    {
      "cell_type": "code",
      "source": [
        "set2.remove('p')\n",
        "print(set2)"
      ],
      "metadata": {
        "colab": {
          "base_uri": "https://localhost:8080/"
        },
        "id": "cWKIuIKg7HOJ",
        "outputId": "d46bd7e1-3435-43c4-e391-f11aff52aa79"
      },
      "id": "cWKIuIKg7HOJ",
      "execution_count": 89,
      "outputs": [
        {
          "output_type": "stream",
          "name": "stdout",
          "text": [
            "{1, 2, 51}\n"
          ]
        }
      ]
    },
    {
      "cell_type": "code",
      "source": [
        "set2.remove('p')\n",
        "print(set2)"
      ],
      "metadata": {
        "colab": {
          "base_uri": "https://localhost:8080/",
          "height": 159
        },
        "id": "aQfyWcSQ817R",
        "outputId": "ef4dded5-0230-409a-87e7-96324891fc0c"
      },
      "id": "aQfyWcSQ817R",
      "execution_count": 90,
      "outputs": [
        {
          "output_type": "error",
          "ename": "KeyError",
          "evalue": "'p'",
          "traceback": [
            "\u001b[0;31m---------------------------------------------------------------------------\u001b[0m",
            "\u001b[0;31mKeyError\u001b[0m                                  Traceback (most recent call last)",
            "\u001b[0;32m<ipython-input-90-d5322126ae52>\u001b[0m in \u001b[0;36m<cell line: 0>\u001b[0;34m()\u001b[0m\n\u001b[0;32m----> 1\u001b[0;31m \u001b[0mset2\u001b[0m\u001b[0;34m.\u001b[0m\u001b[0mremove\u001b[0m\u001b[0;34m(\u001b[0m\u001b[0;34m'p'\u001b[0m\u001b[0;34m)\u001b[0m\u001b[0;34m\u001b[0m\u001b[0;34m\u001b[0m\u001b[0m\n\u001b[0m\u001b[1;32m      2\u001b[0m \u001b[0mprint\u001b[0m\u001b[0;34m(\u001b[0m\u001b[0mset2\u001b[0m\u001b[0;34m)\u001b[0m\u001b[0;34m\u001b[0m\u001b[0;34m\u001b[0m\u001b[0m\n",
            "\u001b[0;31mKeyError\u001b[0m: 'p'"
          ]
        }
      ]
    },
    {
      "cell_type": "markdown",
      "source": [
        "Metod discard() briše element, ali ako element ne postoji, ne baca grešku (nije toliko strogo kao remove())."
      ],
      "metadata": {
        "id": "VbVdjjdQ9BDa"
      },
      "id": "VbVdjjdQ9BDa"
    },
    {
      "cell_type": "markdown",
      "source": [
        "Metod pop() briše i vraća jedan slučajan element iz skupa (po principu “prvi koji se nađe”, jer skupovi nisu uređeni). Ako je skup prazan, bacit će grešku KeyError."
      ],
      "metadata": {
        "id": "qd0zj4Dg9H63"
      },
      "id": "qd0zj4Dg9H63"
    },
    {
      "cell_type": "code",
      "source": [
        "slucajan=set2.pop()\n",
        "print(slucajan)"
      ],
      "metadata": {
        "colab": {
          "base_uri": "https://localhost:8080/"
        },
        "id": "uV_yB8619Nbf",
        "outputId": "c1f32fe7-1aac-47b8-beb2-bb09f6f6e4ce"
      },
      "id": "uV_yB8619Nbf",
      "execution_count": 92,
      "outputs": [
        {
          "output_type": "stream",
          "name": "stdout",
          "text": [
            "2\n"
          ]
        }
      ]
    },
    {
      "cell_type": "markdown",
      "source": [
        "Metod clear() briše sve elemente iz skupa."
      ],
      "metadata": {
        "id": "o0vhaBPJ9a6t"
      },
      "id": "o0vhaBPJ9a6t"
    },
    {
      "cell_type": "code",
      "source": [
        "set2.clear()\n",
        "print(set2)"
      ],
      "metadata": {
        "colab": {
          "base_uri": "https://localhost:8080/"
        },
        "id": "VxyXWeh-9g1T",
        "outputId": "ae1c0879-20a1-4a48-eca9-9e3e32ac2b18"
      },
      "id": "VxyXWeh-9g1T",
      "execution_count": 93,
      "outputs": [
        {
          "output_type": "stream",
          "name": "stdout",
          "text": [
            "set()\n"
          ]
        }
      ]
    },
    {
      "cell_type": "markdown",
      "source": [
        "Možemo proveriti da li se određeni element nalazi u skupu koristeći in i not in."
      ],
      "metadata": {
        "id": "lpfXv1QQ-HsA"
      },
      "id": "lpfXv1QQ-HsA"
    },
    {
      "cell_type": "code",
      "source": [
        "print(1 in set2)\n",
        "print(1 not in set2)"
      ],
      "metadata": {
        "colab": {
          "base_uri": "https://localhost:8080/"
        },
        "id": "G4gqBL0Y-Jvy",
        "outputId": "878d4c79-98bb-4d2e-fe21-738be3ce9ad7"
      },
      "id": "G4gqBL0Y-Jvy",
      "execution_count": 100,
      "outputs": [
        {
          "output_type": "stream",
          "name": "stdout",
          "text": [
            "False\n",
            "True\n"
          ]
        }
      ]
    },
    {
      "cell_type": "markdown",
      "id": "eede1c11-6e64-4cdb-9b1b-746f3968687a",
      "metadata": {
        "id": "eede1c11-6e64-4cdb-9b1b-746f3968687a"
      },
      "source": [
        "Skupovi podržavaju operacije unije (|), preseka (&) i razlike (-). Za više informacija o skupovima upoterbite naredbu help(set)."
      ]
    },
    {
      "cell_type": "markdown",
      "id": "a299220b-12a5-438e-ba79-4d225c8bc762",
      "metadata": {
        "id": "a299220b-12a5-438e-ba79-4d225c8bc762"
      },
      "source": [
        "### **Rečnici (Dictionaries)** {ključ : vrednost}"
      ]
    },
    {
      "cell_type": "markdown",
      "id": "25d14763-e75d-4355-a144-21fce503cdf2",
      "metadata": {
        "id": "25d14763-e75d-4355-a144-21fce503cdf2"
      },
      "source": [
        "Rečnici su neuređeni, promenljivi skupovi podataka koji sadrže parove\n",
        "> ključ : vrednost\n",
        "\n",
        "Ključevi u rečnicima moraju biti jedinstveni i nepromenljivi (immutable), dok vrednosti mogu biti bilo kog tipa podataka."
      ]
    },
    {
      "cell_type": "markdown",
      "id": "27e0f618-c295-4dfc-a22c-7e820147ba5b",
      "metadata": {
        "id": "27e0f618-c295-4dfc-a22c-7e820147ba5b"
      },
      "source": [
        "Možemo ih definisati na dva načina. Prvi je pomoću vitičaste zagrade"
      ]
    },
    {
      "cell_type": "code",
      "execution_count": 102,
      "id": "6a0cd515-8e99-42b8-8c42-4ae2ee82c3ef",
      "metadata": {
        "id": "6a0cd515-8e99-42b8-8c42-4ae2ee82c3ef"
      },
      "outputs": [],
      "source": [
        "dict1 = {\n",
        "    \"student\": \"Marko\",\n",
        "    \"godina\": 2025,\n",
        "    \"kurs\": \"UNM\"\n",
        "}"
      ]
    },
    {
      "cell_type": "markdown",
      "id": "902a15ce-aec0-4896-8694-187fd8752b2c",
      "metadata": {
        "id": "902a15ce-aec0-4896-8694-187fd8752b2c"
      },
      "source": [
        "A drugi je pomoću funkcije dict():"
      ]
    },
    {
      "cell_type": "code",
      "execution_count": 103,
      "id": "55a3e6d6-c915-4ce0-ae63-d458088ffd9d",
      "metadata": {
        "id": "55a3e6d6-c915-4ce0-ae63-d458088ffd9d"
      },
      "outputs": [],
      "source": [
        "dict2 = dict(student=\"Ana\", godina=2025, kurs=\"UNM\")"
      ]
    },
    {
      "cell_type": "markdown",
      "source": [
        "Rečnicima se pristupa putem ključeva. Da bismo dobili vrednost za određeni ključ, koristimo sintaksu:"
      ],
      "metadata": {
        "id": "56zCxqjj_tUK"
      },
      "id": "56zCxqjj_tUK"
    },
    {
      "cell_type": "code",
      "source": [
        "print(dict1[\"student\"])"
      ],
      "metadata": {
        "colab": {
          "base_uri": "https://localhost:8080/"
        },
        "id": "otuGbRjq_sc2",
        "outputId": "2eb21053-11e8-4ebc-e4f3-f5bf52ba2897"
      },
      "id": "otuGbRjq_sc2",
      "execution_count": 104,
      "outputs": [
        {
          "output_type": "stream",
          "name": "stdout",
          "text": [
            "Marko\n"
          ]
        }
      ]
    },
    {
      "cell_type": "markdown",
      "source": [
        "Ako pokušamo da pristupimo ključeve koji ne postoje, Python će baciti grešku KeyError."
      ],
      "metadata": {
        "id": "QpUKKTol_7S4"
      },
      "id": "QpUKKTol_7S4"
    },
    {
      "cell_type": "code",
      "source": [
        "print(dict1[\"nema_kljuca\"])"
      ],
      "metadata": {
        "colab": {
          "base_uri": "https://localhost:8080/",
          "height": 141
        },
        "id": "Pkjr8cza53be",
        "outputId": "69387be8-7402-4b2e-efc5-a2f5f5923144"
      },
      "id": "Pkjr8cza53be",
      "execution_count": 105,
      "outputs": [
        {
          "output_type": "error",
          "ename": "KeyError",
          "evalue": "'nema_kljuca'",
          "traceback": [
            "\u001b[0;31m---------------------------------------------------------------------------\u001b[0m",
            "\u001b[0;31mKeyError\u001b[0m                                  Traceback (most recent call last)",
            "\u001b[0;32m<ipython-input-105-de61d5be7dc7>\u001b[0m in \u001b[0;36m<cell line: 0>\u001b[0;34m()\u001b[0m\n\u001b[0;32m----> 1\u001b[0;31m \u001b[0mprint\u001b[0m\u001b[0;34m(\u001b[0m\u001b[0mdict1\u001b[0m\u001b[0;34m[\u001b[0m\u001b[0;34m\"nema_kljuca\"\u001b[0m\u001b[0;34m]\u001b[0m\u001b[0;34m)\u001b[0m\u001b[0;34m\u001b[0m\u001b[0;34m\u001b[0m\u001b[0m\n\u001b[0m",
            "\u001b[0;31mKeyError\u001b[0m: 'nema_kljuca'"
          ]
        }
      ]
    },
    {
      "cell_type": "markdown",
      "source": [
        "Rečnici imaju nekoliko korisnih metoda koje olakšavaju rad sa podacima:\n",
        "- get() omogućava pristup vrednostima bez izbacivanja greške ako ključ ne postoji. Ako ključ ne postoji, vraća None, ali možemo i navesti koju vrednost da vrati.\n",
        "- keys() vraća sve ključeve rečnika.\n",
        "- values() vraća sve vrednosti rečnika.\n",
        "- items() vraća listu parova (ključ, vrednost)."
      ],
      "metadata": {
        "id": "EdPIz4wEAg9p"
      },
      "id": "EdPIz4wEAg9p"
    },
    {
      "cell_type": "markdown",
      "source": [
        "Novu vrednost u rečniku dodajemo na sledeći način"
      ],
      "metadata": {
        "id": "3jSNrCC2BXeX"
      },
      "id": "3jSNrCC2BXeX"
    },
    {
      "cell_type": "code",
      "source": [
        "dict2[\"novi_kljuc\"] = \"nova_vrednost\"\n",
        "print(dict2)"
      ],
      "metadata": {
        "colab": {
          "base_uri": "https://localhost:8080/"
        },
        "id": "09BXnDTFBj8V",
        "outputId": "f862afe5-38be-4a8a-ebc7-330788439366"
      },
      "id": "09BXnDTFBj8V",
      "execution_count": 107,
      "outputs": [
        {
          "output_type": "stream",
          "name": "stdout",
          "text": [
            "{'student': 'Ana', 'godina': 2025, 'kurs': 'UNM', 'novi_kljuc': 'nova_vrednost'}\n"
          ]
        }
      ]
    },
    {
      "cell_type": "markdown",
      "source": [
        "Metod del uklanja ključ i njegovu vrednost."
      ],
      "metadata": {
        "id": "g0NB6imkBxIV"
      },
      "id": "g0NB6imkBxIV"
    },
    {
      "cell_type": "code",
      "source": [
        "del dict2[\"novi_kljuc\"]\n",
        "print(dict2)"
      ],
      "metadata": {
        "colab": {
          "base_uri": "https://localhost:8080/"
        },
        "id": "DMp418BIAE0A",
        "outputId": "6d6901c8-66d6-46b8-f444-9bb39ac1b866"
      },
      "id": "DMp418BIAE0A",
      "execution_count": 109,
      "outputs": [
        {
          "output_type": "stream",
          "name": "stdout",
          "text": [
            "{'student': 'Ana', 'godina': 2025, 'kurs': 'UNM'}\n"
          ]
        }
      ]
    },
    {
      "cell_type": "markdown",
      "source": [
        "Metod pop() vraća vrednost za dati ključ i uklanja ga iz rečnika."
      ],
      "metadata": {
        "id": "RXhae2kfCEdP"
      },
      "id": "RXhae2kfCEdP"
    },
    {
      "cell_type": "code",
      "source": [
        "vrednost = dict2.pop(\"godina\")\n",
        "print(vrednost)\n",
        "print(dict2)"
      ],
      "metadata": {
        "colab": {
          "base_uri": "https://localhost:8080/"
        },
        "id": "r3P7KitfB71o",
        "outputId": "26eb8c72-0fba-4e0b-8cc8-a85c66f2d78a"
      },
      "id": "r3P7KitfB71o",
      "execution_count": 110,
      "outputs": [
        {
          "output_type": "stream",
          "name": "stdout",
          "text": [
            "2025\n",
            "{'student': 'Ana', 'kurs': 'UNM'}\n"
          ]
        }
      ]
    },
    {
      "cell_type": "markdown",
      "source": [
        "Metod clear() briše sve ključeve i vrednosti iz rečnika."
      ],
      "metadata": {
        "id": "iKCq14nFCUrL"
      },
      "id": "iKCq14nFCUrL"
    },
    {
      "cell_type": "code",
      "source": [
        "dict1.clear()\n",
        "print(dict1)"
      ],
      "metadata": {
        "colab": {
          "base_uri": "https://localhost:8080/"
        },
        "id": "CyNm-mi0CRyx",
        "outputId": "01277f55-1d00-436c-aa2f-3f3c027cd6e8"
      },
      "id": "CyNm-mi0CRyx",
      "execution_count": 111,
      "outputs": [
        {
          "output_type": "stream",
          "name": "stdout",
          "text": [
            "{}\n"
          ]
        }
      ]
    },
    {
      "cell_type": "markdown",
      "source": [
        "Pre Python 3.7, rečnici nisu garantovali redosled unosa, što znači da nije bilo sigurno da će elementi biti vraćeni u istom redosledu u kojem su dodati. Od Python 3.7, rečnici čuvaju redosled unosa, što znači da se elementi rečnika vraćaju u redosledu kojim su dodati."
      ],
      "metadata": {
        "id": "iZ53xWNeCitV"
      },
      "id": "iZ53xWNeCitV"
    }
  ],
  "metadata": {
    "kernelspec": {
      "display_name": "Python 3 (ipykernel)",
      "language": "python",
      "name": "python3"
    },
    "language_info": {
      "codemirror_mode": {
        "name": "ipython",
        "version": 3
      },
      "file_extension": ".py",
      "mimetype": "text/x-python",
      "name": "python",
      "nbconvert_exporter": "python",
      "pygments_lexer": "ipython3",
      "version": "3.11.5"
    },
    "colab": {
      "provenance": [],
      "toc_visible": true,
      "include_colab_link": true
    }
  },
  "nbformat": 4,
  "nbformat_minor": 5
}
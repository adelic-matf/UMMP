{
  "cells": [
    {
      "cell_type": "markdown",
      "metadata": {
        "id": "view-in-github",
        "colab_type": "text"
      },
      "source": [
        "<a href=\"https://colab.research.google.com/github/adelic-matf/UMMP/blob/main/UMMP_lab2.ipynb\" target=\"_parent\"><img src=\"https://colab.research.google.com/assets/colab-badge.svg\" alt=\"Open In Colab\"/></a>"
      ]
    },
    {
      "cell_type": "markdown",
      "id": "b8559975-90ff-4bc2-a1d4-d0667cdb766c",
      "metadata": {
        "id": "b8559975-90ff-4bc2-a1d4-d0667cdb766c"
      },
      "source": [
        "# Kontrola toka"
      ]
    },
    {
      "cell_type": "markdown",
      "id": "00b0ee66-08ab-42c0-aff5-78914623ae85",
      "metadata": {
        "id": "00b0ee66-08ab-42c0-aff5-78914623ae85"
      },
      "source": [
        "## Grananje (if, elif, else)"
      ]
    },
    {
      "cell_type": "markdown",
      "id": "61362808-53cd-4b46-b405-5b617ea13443",
      "metadata": {
        "id": "61362808-53cd-4b46-b405-5b617ea13443"
      },
      "source": [
        "U Pajtonu se za određivanje blokova koda koristi **uvlačenje (indentation)**. Uslov u grananju završava se dvotačkom (:), nakon čega Pajton automatski uvlači sledeći red koda.  Evo kako funkcioniše if struktura i uvlačenje:"
      ]
    },
    {
      "cell_type": "code",
      "execution_count": 1,
      "id": "82720193-2276-4d8a-ad60-6dd381f6c24c",
      "metadata": {
        "id": "82720193-2276-4d8a-ad60-6dd381f6c24c",
        "outputId": "7188a655-13a8-4261-915f-8da6e6dcd8d4",
        "colab": {
          "base_uri": "https://localhost:8080/"
        }
      },
      "outputs": [
        {
          "output_type": "stream",
          "name": "stdout",
          "text": [
            "Broj je manji od 5\n"
          ]
        }
      ],
      "source": [
        "broj = 3\n",
        "\n",
        "if broj == 5:\n",
        "    print('Broj je jednak 5')\n",
        "elif broj > 5:\n",
        "    print('Broj je veci od 5!')\n",
        "else:\n",
        "    print('Broj je manji od 5')\n"
      ]
    },
    {
      "cell_type": "markdown",
      "id": "4ad2b37c-e03a-432a-a6be-ae89da3ad9db",
      "metadata": {
        "id": "4ad2b37c-e03a-432a-a6be-ae89da3ad9db"
      },
      "source": [
        "Ako želimo da proverimo da li broj nije jednak nekoj vrednosti, koristimo operator !="
      ]
    },
    {
      "cell_type": "code",
      "execution_count": 2,
      "id": "9c510410-1cd7-4bb1-a3c2-5f104652f1fe",
      "metadata": {
        "id": "9c510410-1cd7-4bb1-a3c2-5f104652f1fe",
        "outputId": "7e77fbc5-1f59-4181-b9c4-a7630bbe3df8",
        "colab": {
          "base_uri": "https://localhost:8080/"
        }
      },
      "outputs": [
        {
          "output_type": "stream",
          "name": "stdout",
          "text": [
            "Broj nije jednak 5.\n"
          ]
        }
      ],
      "source": [
        "if broj!=5:\n",
        "    print('Broj nije jednak 5.')"
      ]
    },
    {
      "cell_type": "markdown",
      "source": [
        "### Logički operatori u if izrazu"
      ],
      "metadata": {
        "id": "-j7_Yle0uwG1"
      },
      "id": "-j7_Yle0uwG1"
    },
    {
      "cell_type": "markdown",
      "id": "b48a0154-39c3-47fd-aeab-16537bf947a9",
      "metadata": {
        "id": "b48a0154-39c3-47fd-aeab-16537bf947a9"
      },
      "source": [
        "Navodim još jedna ilustrativan primer korišćenja logičkih operatora u Pythonu:"
      ]
    },
    {
      "cell_type": "code",
      "execution_count": 3,
      "id": "f398054d-1231-4e71-8b34-0e7e0e3e910d",
      "metadata": {
        "id": "f398054d-1231-4e71-8b34-0e7e0e3e910d",
        "outputId": "9ff1f59e-946b-4c46-94b8-670b2719a222",
        "colab": {
          "base_uri": "https://localhost:8080/"
        }
      },
      "outputs": [
        {
          "output_type": "stream",
          "name": "stdout",
          "text": [
            "Tacno je!\n",
            "I dalje je tacno!\n",
            "Kako god, tacno je!\n",
            "Tacno je opet....\n"
          ]
        }
      ],
      "source": [
        "tacno = True\n",
        "netacno = False\n",
        "if tacno:\n",
        "    print(\"Tacno je!\")\n",
        "if not netacno:\n",
        "    print(\"I dalje je tacno!\")\n",
        "if tacno and not netacno:\n",
        "    print(\"Kako god, tacno je!\")\n",
        "###\n",
        "if netacno or not tacno:\n",
        "    print(\"Nije tacno\")\n",
        "else:\n",
        "    print(\"Tacno je opet....\")"
      ]
    },
    {
      "cell_type": "markdown",
      "id": "8f9fecb8-7ef6-4f87-85b5-83a3408acdca",
      "metadata": {
        "id": "8f9fecb8-7ef6-4f87-85b5-83a3408acdca"
      },
      "source": [
        "## For petlja"
      ]
    },
    {
      "cell_type": "markdown",
      "id": "8c38a897-e2c0-4d3d-b5bb-540d52e374b1",
      "metadata": {
        "id": "8c38a897-e2c0-4d3d-b5bb-540d52e374b1"
      },
      "source": [
        "### Funkcija range()\n",
        "Za brojanje u for petlji često koristimo funkciju **range()**, koja generiše niz celih brojeva. Sintaksa je:\n",
        "   <center>  **range(start, stop, korak)**. <br><br>  </center>\n",
        "Ako navedemo samo jednu vrednost range(stop), generiše se niz od 0 do stop - 1 sa korakom 1."
      ]
    },
    {
      "cell_type": "code",
      "execution_count": 4,
      "id": "d31658f2-7b4c-4417-8fc8-a0adf93b1e40",
      "metadata": {
        "id": "d31658f2-7b4c-4417-8fc8-a0adf93b1e40",
        "outputId": "8a9582f9-d696-4dfd-cd68-0a6ea7a5193c",
        "colab": {
          "base_uri": "https://localhost:8080/"
        }
      },
      "outputs": [
        {
          "output_type": "stream",
          "name": "stdout",
          "text": [
            "range(0, 4)\n"
          ]
        },
        {
          "output_type": "execute_result",
          "data": {
            "text/plain": [
              "range"
            ]
          },
          "metadata": {},
          "execution_count": 4
        }
      ],
      "source": [
        "a=range(4)\n",
        "print(a)\n",
        "type(a)#tip objeka je range"
      ]
    },
    {
      "cell_type": "code",
      "execution_count": 5,
      "id": "56201c07-d0d0-45a2-b50f-77931e397c98",
      "metadata": {
        "id": "56201c07-d0d0-45a2-b50f-77931e397c98",
        "outputId": "0cdcc776-8f10-433d-b7d1-212af1ff4a1a",
        "colab": {
          "base_uri": "https://localhost:8080/"
        }
      },
      "outputs": [
        {
          "output_type": "stream",
          "name": "stdout",
          "text": [
            "[0, 1, 2, 3]\n"
          ]
        }
      ],
      "source": [
        "a=list(a) #mozemo ga konvertovati u listu\n",
        "print(a)"
      ]
    },
    {
      "cell_type": "markdown",
      "id": "83680970-78b1-4bbc-b799-1d473fdeaf6d",
      "metadata": {
        "id": "83680970-78b1-4bbc-b799-1d473fdeaf6d"
      },
      "source": [
        "Ako želimo neki drugi korak i drugi raspon brojeva:"
      ]
    },
    {
      "cell_type": "code",
      "execution_count": 6,
      "id": "a14954b1-e8b8-4ca5-82c1-8dd2c5a06468",
      "metadata": {
        "id": "a14954b1-e8b8-4ca5-82c1-8dd2c5a06468",
        "outputId": "0c0eccfb-32d4-47f1-a895-7c47cc7ef33f",
        "colab": {
          "base_uri": "https://localhost:8080/"
        }
      },
      "outputs": [
        {
          "output_type": "stream",
          "name": "stdout",
          "text": [
            "[-2, 0, 2]\n"
          ]
        }
      ],
      "source": [
        "print(list(range(-2,3,2)))"
      ]
    },
    {
      "cell_type": "markdown",
      "id": "dc51770e-82eb-4c1f-be65-983f79b5c98e",
      "metadata": {
        "id": "dc51770e-82eb-4c1f-be65-983f79b5c98e"
      },
      "source": [
        "Ako želimo brojanje unazad:"
      ]
    },
    {
      "cell_type": "code",
      "execution_count": 7,
      "id": "8593de71-5b47-416b-a6ec-554b7a8c0bd6",
      "metadata": {
        "id": "8593de71-5b47-416b-a6ec-554b7a8c0bd6",
        "outputId": "d484cde0-4b96-42b9-a87f-f8dd9c671eb4",
        "colab": {
          "base_uri": "https://localhost:8080/"
        }
      },
      "outputs": [
        {
          "output_type": "stream",
          "name": "stdout",
          "text": [
            "[15, 13, 11, 9, 7, 5, 3, 1]\n"
          ]
        }
      ],
      "source": [
        "print(list(range(15,0,-2)))"
      ]
    },
    {
      "cell_type": "markdown",
      "id": "ba103143-a510-43d4-9c7f-37bbc48293d4",
      "metadata": {
        "id": "ba103143-a510-43d4-9c7f-37bbc48293d4"
      },
      "source": []
    },
    {
      "cell_type": "markdown",
      "id": "463e3951-5408-4725-bdce-b6ac8df13e0b",
      "metadata": {
        "id": "463e3951-5408-4725-bdce-b6ac8df13e0b"
      },
      "source": [
        "### For petlja sa funkcijom range()\n"
      ]
    },
    {
      "cell_type": "code",
      "execution_count": 8,
      "id": "d61db639-5342-4f83-9c0a-f861d7742719",
      "metadata": {
        "id": "d61db639-5342-4f83-9c0a-f861d7742719",
        "outputId": "c9737d5d-8383-450c-8f24-630eb0df25d3",
        "colab": {
          "base_uri": "https://localhost:8080/"
        }
      },
      "outputs": [
        {
          "output_type": "stream",
          "name": "stdout",
          "text": [
            "0\n",
            "1\n",
            "2\n",
            "3\n",
            "4\n"
          ]
        }
      ],
      "source": [
        "for i in range(5):\n",
        "    print(i)"
      ]
    },
    {
      "cell_type": "markdown",
      "id": "2064e617-dcdb-4419-a3d1-5a1dca741c5b",
      "metadata": {
        "id": "2064e617-dcdb-4419-a3d1-5a1dca741c5b"
      },
      "source": [
        "### Iteriranje kroz string"
      ]
    },
    {
      "cell_type": "code",
      "execution_count": 9,
      "id": "913bc88f-fb57-4aa3-88f5-3d80a3ad7075",
      "metadata": {
        "id": "913bc88f-fb57-4aa3-88f5-3d80a3ad7075",
        "outputId": "0861a070-4360-44fb-fabd-01c3bfa368ac",
        "colab": {
          "base_uri": "https://localhost:8080/"
        }
      },
      "outputs": [
        {
          "output_type": "stream",
          "name": "stdout",
          "text": [
            "z\n",
            "d\n",
            "r\n",
            "a\n",
            "v\n",
            "o\n"
          ]
        }
      ],
      "source": [
        "pozdrav='zdravo'\n",
        "\n",
        "for s in pozdrav:\n",
        "    print(s)"
      ]
    },
    {
      "cell_type": "markdown",
      "id": "6f44ac7d-d92d-4d8b-a033-02945a173a0e",
      "metadata": {
        "id": "6f44ac7d-d92d-4d8b-a033-02945a173a0e"
      },
      "source": [
        "Iteriranje kroz recnike"
      ]
    },
    {
      "cell_type": "code",
      "execution_count": 10,
      "id": "33a5abaa-b686-4b63-b3f5-dc407e68f593",
      "metadata": {
        "id": "33a5abaa-b686-4b63-b3f5-dc407e68f593"
      },
      "outputs": [],
      "source": [
        "recnik1={'ime':'Petar', 'godina':1, 'kurs':['modeliranje', 'masinsko ucenje']}"
      ]
    },
    {
      "cell_type": "code",
      "execution_count": 11,
      "id": "e6823225-8caf-46f1-8c15-5c3ada54364f",
      "metadata": {
        "id": "e6823225-8caf-46f1-8c15-5c3ada54364f",
        "outputId": "64206008-550e-4a48-dcfb-d4bcdfb73b97",
        "colab": {
          "base_uri": "https://localhost:8080/"
        }
      },
      "outputs": [
        {
          "output_type": "stream",
          "name": "stdout",
          "text": [
            "ime\n",
            "godina\n",
            "kurs\n"
          ]
        }
      ],
      "source": [
        "#iteriranje kroz kljuceve\n",
        "for kljuc in recnik1:\n",
        "    print(kljuc)"
      ]
    },
    {
      "cell_type": "code",
      "execution_count": 12,
      "id": "daf1231f-e219-450d-9233-db2bb2311083",
      "metadata": {
        "id": "daf1231f-e219-450d-9233-db2bb2311083",
        "outputId": "f926b20d-6631-4f8a-d4b7-ef035598448a",
        "colab": {
          "base_uri": "https://localhost:8080/"
        }
      },
      "outputs": [
        {
          "output_type": "stream",
          "name": "stdout",
          "text": [
            "Petar\n",
            "1\n",
            "['modeliranje', 'masinsko ucenje']\n"
          ]
        }
      ],
      "source": [
        "#iteriranje kroz vrednosti kljuceva\n",
        "for vrednost in recnik1.values():\n",
        "    print(vrednost)"
      ]
    },
    {
      "cell_type": "code",
      "execution_count": 13,
      "id": "017d0eb3-9b5f-42fd-b47a-301f0d0b7fbc",
      "metadata": {
        "id": "017d0eb3-9b5f-42fd-b47a-301f0d0b7fbc",
        "outputId": "e60d9274-81c3-4b1c-b708-cb420cfd4bc4",
        "colab": {
          "base_uri": "https://localhost:8080/"
        }
      },
      "outputs": [
        {
          "output_type": "stream",
          "name": "stdout",
          "text": [
            "('ime', 'Petar')\n",
            "('godina', 1)\n",
            "('kurs', ['modeliranje', 'masinsko ucenje'])\n",
            "<class 'tuple'>\n"
          ]
        }
      ],
      "source": [
        "# iteriranje kroz kljic i vrednost\n",
        "for  element in recnik1.items():\n",
        "    print(element)\n",
        "print(type(element))"
      ]
    },
    {
      "cell_type": "markdown",
      "source": [
        "ili"
      ],
      "metadata": {
        "id": "PfoWUuvUzFkN"
      },
      "id": "PfoWUuvUzFkN"
    },
    {
      "cell_type": "code",
      "source": [
        "# iteriranje kroz kljic i vrednost\n",
        "for  kluc, vrednost in recnik1.items():\n",
        "    print(f\"{kljuc}: {vrednost}\")\n"
      ],
      "metadata": {
        "colab": {
          "base_uri": "https://localhost:8080/"
        },
        "id": "yZcGxEzVzEgh",
        "outputId": "e969b089-686f-4df5-be8f-b77f6d0c6b11"
      },
      "id": "yZcGxEzVzEgh",
      "execution_count": 14,
      "outputs": [
        {
          "output_type": "stream",
          "name": "stdout",
          "text": [
            "kurs: Petar\n",
            "kurs: 1\n",
            "kurs: ['modeliranje', 'masinsko ucenje']\n"
          ]
        }
      ]
    },
    {
      "cell_type": "markdown",
      "id": "b7cac166-526c-4b31-ac80-b57f91fbf94e",
      "metadata": {
        "id": "b7cac166-526c-4b31-ac80-b57f91fbf94e"
      },
      "source": [
        "Ovde smo koristili funkciju print u obliku\n",
        "```python\n",
        "print(f\" Neki tekst {promenljiva}\"),\n"
      ]
    },
    {
      "cell_type": "markdown",
      "id": "b03db068-b6f6-4cba-9d58-29f2bb3deb45",
      "metadata": {
        "id": "b03db068-b6f6-4cba-9d58-29f2bb3deb45"
      },
      "source": [
        "što nam  omogućava umetanje promenljivih direktno u string koristeći {} kako bismo naznačili da želimo da se štampa vrednost promenljive."
      ]
    },
    {
      "cell_type": "markdown",
      "id": "a7c45d76-3b74-4324-9984-c2838c0502c7",
      "metadata": {
        "id": "a7c45d76-3b74-4324-9984-c2838c0502c7"
      },
      "source": [
        "## While petlja"
      ]
    },
    {
      "cell_type": "markdown",
      "id": "56a7cc17-b869-4e66-9d1e-34f97f315ce7",
      "metadata": {
        "id": "56a7cc17-b869-4e66-9d1e-34f97f315ce7"
      },
      "source": [
        "Sintaksa while petlje glasi"
      ]
    },
    {
      "cell_type": "markdown",
      "id": "9666cc7a-ae6e-46be-a9b6-177c646e1fa0",
      "metadata": {
        "id": "9666cc7a-ae6e-46be-a9b6-177c646e1fa0"
      },
      "source": [
        "```python\n",
        "while uslov:\n",
        "    komanda\n",
        "```"
      ]
    },
    {
      "cell_type": "markdown",
      "id": "97055f61-5e97-48cf-92f0-0de6676975b2",
      "metadata": {
        "id": "97055f61-5e97-48cf-92f0-0de6676975b2"
      },
      "source": [
        "Ilustrujmo na primeru:"
      ]
    },
    {
      "cell_type": "code",
      "execution_count": 15,
      "id": "abe354b9-13cf-4e61-a730-b03319583129",
      "metadata": {
        "id": "abe354b9-13cf-4e61-a730-b03319583129",
        "outputId": "dbee730f-ddf8-45ac-e78b-6cce99cecf48",
        "colab": {
          "base_uri": "https://localhost:8080/"
        }
      },
      "outputs": [
        {
          "output_type": "stream",
          "name": "stdout",
          "text": [
            "Brojač: 0\n",
            "Brojač: 1\n",
            "Brojač: 2\n",
            "Brojač: 3\n"
          ]
        }
      ],
      "source": [
        "brojac = 0\n",
        "while brojac<4:\n",
        "    print(\"Brojač:\", brojac)\n",
        "    brojac += 1"
      ]
    },
    {
      "cell_type": "code",
      "execution_count": 16,
      "id": "b0f202a2-c790-49eb-ac63-57f26ba49e4f",
      "metadata": {
        "id": "b0f202a2-c790-49eb-ac63-57f26ba49e4f",
        "outputId": "c786bbb8-9e9f-443a-f7dc-271405a7152a",
        "colab": {
          "base_uri": "https://localhost:8080/"
        }
      },
      "outputs": [
        {
          "output_type": "stream",
          "name": "stdout",
          "text": [
            "Brojac je jednak 0.\n",
            "Brojac je jednak 1.\n",
            "Brojac je jednak 2.\n",
            "Brojac je jednak 3.\n"
          ]
        }
      ],
      "source": [
        "# isto samo na drugi nacin\n",
        "brojac=0;\n",
        "while 1:\n",
        "    if brojac==4:\n",
        "        break\n",
        "    print(f\"Brojac je jednak {brojac}.\")\n",
        "    brojac+=1\n"
      ]
    },
    {
      "cell_type": "markdown",
      "id": "706e986a-5c4e-4b5f-a236-f811f0eb9cc2",
      "metadata": {
        "id": "706e986a-5c4e-4b5f-a236-f811f0eb9cc2"
      },
      "source": [
        "# Funkcije u Pajtonu"
      ]
    },
    {
      "cell_type": "markdown",
      "id": "886de6ff-5b75-4af5-bcbd-2b16a1da5348",
      "metadata": {
        "id": "886de6ff-5b75-4af5-bcbd-2b16a1da5348"
      },
      "source": [
        "U Pajtonu se funkcija definiše na sledeći način:"
      ]
    },
    {
      "cell_type": "markdown",
      "id": "40bf3873-ee3c-4f38-9047-0a14b57754a1",
      "metadata": {
        "id": "40bf3873-ee3c-4f38-9047-0a14b57754a1"
      },
      "source": [
        "```python\n",
        "def ime_funkcije(argumenti):\n",
        "    komanda1\n",
        "    komanda2...\n",
        "    return povratna_vrednost\n",
        "    "
      ]
    },
    {
      "cell_type": "markdown",
      "id": "23290c15-3ab4-46c1-8374-f14e04d66b66",
      "metadata": {
        "id": "23290c15-3ab4-46c1-8374-f14e04d66b66"
      },
      "source": [
        "Funkcije mogu imati i predefinisane argumente (podrazumevane vrednosti), ali oni moraju biti poslednji navedeni."
      ]
    },
    {
      "cell_type": "code",
      "execution_count": 17,
      "id": "efd708d4-e4d7-4f62-a1a8-c4c34fd7acde",
      "metadata": {
        "id": "efd708d4-e4d7-4f62-a1a8-c4c34fd7acde",
        "outputId": "4b40dec6-a847-4a1f-a9d4-549fdb0c8c0f",
        "colab": {
          "base_uri": "https://localhost:8080/"
        }
      },
      "outputs": [
        {
          "output_type": "stream",
          "name": "stdout",
          "text": [
            "100\n",
            "1000\n"
          ]
        }
      ],
      "source": [
        "def stepenovanje(v, p=2):\n",
        "    return v ** p\n",
        "\n",
        "print(stepenovanje(10))\n",
        "print(stepenovanje(10, 3))"
      ]
    },
    {
      "cell_type": "markdown",
      "source": [
        "### \\*args i \\**kwargs"
      ],
      "metadata": {
        "id": "Fbs8h_hI0_bl"
      },
      "id": "Fbs8h_hI0_bl"
    },
    {
      "cell_type": "markdown",
      "id": "56d77858-a79b-4f9c-83e6-1c61f0e4661c",
      "metadata": {
        "id": "56d77858-a79b-4f9c-83e6-1c61f0e4661c"
      },
      "source": [
        "U Pythonu, \\*args i \\**kwargs omogućavaju fleksibilan način za prosljeđivanje promenljivog broja argumenata funkciji.\n",
        "\n",
        "Argument *args se koristi kada želimo funkciji da prosleđujemo promenljiv broj ulaznih argumenata.\n",
        "U suštini, *args pakuje sve dodatne ulazne argumente u tokru (tuple) koji se zatim može koristiti unutar funkcije."
      ]
    },
    {
      "cell_type": "code",
      "execution_count": 18,
      "id": "af44ff21-d9f7-48e2-a95d-ecf5f83ac88f",
      "metadata": {
        "id": "af44ff21-d9f7-48e2-a95d-ecf5f83ac88f",
        "outputId": "4985a57d-8619-42f6-c706-fb9117203426",
        "colab": {
          "base_uri": "https://localhost:8080/"
        }
      },
      "outputs": [
        {
          "output_type": "stream",
          "name": "stdout",
          "text": [
            "6\n",
            "100\n"
          ]
        }
      ],
      "source": [
        "def zbir(*args):\n",
        "    return sum(args)\n",
        "\n",
        "print(zbir(1, 2, 3))\n",
        "print(zbir(10, 20, 30, 40))"
      ]
    },
    {
      "cell_type": "markdown",
      "id": "f82e6c39-1287-4404-90f7-872dc3bca404",
      "metadata": {
        "id": "f82e6c39-1287-4404-90f7-872dc3bca404"
      },
      "source": [
        "Argument \\*\\*kwargs se koristi za prosleđivanje promenljivog broja **imenovanih** argumenata (tzv. ključeva).\n",
        "**kwargs pakuje te argumente u rečnik (dictionary), gde su ključevi imena argumenata, a vrednosti su vrednosti tih argumenata."
      ]
    },
    {
      "cell_type": "code",
      "execution_count": 19,
      "id": "c7b503d6-1f33-4dac-81dc-90b463a3156d",
      "metadata": {
        "id": "c7b503d6-1f33-4dac-81dc-90b463a3156d",
        "outputId": "aa814bdd-2f2b-41ee-94fa-2d5cb98021a4",
        "colab": {
          "base_uri": "https://localhost:8080/"
        }
      },
      "outputs": [
        {
          "output_type": "stream",
          "name": "stdout",
          "text": [
            "ime: Ana\n",
            "godine: 25\n",
            "grad: Beograd\n"
          ]
        }
      ],
      "source": [
        "def info_o_osobi(**kwargs):\n",
        "    for key, value in kwargs.items():\n",
        "        print(f\"{key}: {value}\")\n",
        "\n",
        "info_o_osobi(ime=\"Ana\", godine=25, grad=\"Beograd\")"
      ]
    },
    {
      "cell_type": "code",
      "execution_count": 20,
      "id": "4e957080-8dea-48eb-930c-a3a1443e51ca",
      "metadata": {
        "id": "4e957080-8dea-48eb-930c-a3a1443e51ca",
        "outputId": "ca5d83c1-bed4-4b1a-e215-bebdaf477d6e",
        "colab": {
          "base_uri": "https://localhost:8080/"
        }
      },
      "outputs": [
        {
          "output_type": "stream",
          "name": "stdout",
          "text": [
            "Pozicioni argumenti: (1, 2, 3)\n",
            "Imenovani argumenti: {'ime': 'Marko', 'godine': 30}\n"
          ]
        }
      ],
      "source": [
        "def kombinovana_funkcija(*args, **kwargs):\n",
        "    print(\"Pozicioni argumenti:\", args)\n",
        "    print(\"Imenovani argumenti:\", kwargs)\n",
        "\n",
        "kombinovana_funkcija(1, 2, 3, ime=\"Marko\", godine=30)"
      ]
    },
    {
      "cell_type": "markdown",
      "id": "5795eb82-7bb1-432a-a5b8-3bac5f1ae8b0",
      "metadata": {
        "id": "5795eb82-7bb1-432a-a5b8-3bac5f1ae8b0"
      },
      "source": [
        "### Globalne i lokalne promenljive\n",
        "Kada definišemo funkciju, ona može imati pristup promenljivim vrednostima koje su definisane u globalnom okruženju, ali to zavisi od toga kako funkcija koristi te promenljive.\n",
        "\n",
        "Ako funkcija ne redefiniše promenljivu unutar sebe, koristiće vrednost iz globalnog okruženja:\n"
      ]
    },
    {
      "cell_type": "code",
      "execution_count": 21,
      "id": "d035a54f-09c8-4b40-89e0-df8693c806b6",
      "metadata": {
        "id": "d035a54f-09c8-4b40-89e0-df8693c806b6",
        "outputId": "56ce47f6-89bf-460c-d198-9b93d8b8d13c",
        "colab": {
          "base_uri": "https://localhost:8080/"
        }
      },
      "outputs": [
        {
          "output_type": "stream",
          "name": "stdout",
          "text": [
            "10\n"
          ]
        }
      ],
      "source": [
        "# Globalna promenljiva\n",
        "x = 10\n",
        "\n",
        "def f():\n",
        "    print(x)  # Funkcija koristi x iz globalnog okruženja\n",
        "\n",
        "f()  # Ispisuje 10"
      ]
    },
    {
      "cell_type": "markdown",
      "id": "8c3af8e5-c094-4702-a4b9-0ebebe71a086",
      "metadata": {
        "id": "8c3af8e5-c094-4702-a4b9-0ebebe71a086"
      },
      "source": [
        "Ako želimo da funkcija menja vrednost globalne promenljive, moramo koristiti ključnu reč global:"
      ]
    },
    {
      "cell_type": "code",
      "execution_count": 22,
      "id": "650823eb-f31b-433d-8d95-27f41ab9c15d",
      "metadata": {
        "id": "650823eb-f31b-433d-8d95-27f41ab9c15d",
        "outputId": "e2d49d77-8deb-41c1-d677-eda382040686",
        "colab": {
          "base_uri": "https://localhost:8080/"
        }
      },
      "outputs": [
        {
          "output_type": "stream",
          "name": "stdout",
          "text": [
            "20\n"
          ]
        }
      ],
      "source": [
        "x = 10\n",
        "\n",
        "def f():\n",
        "    global x\n",
        "    x = 20  # Menja globalnu promenljivu x\n",
        "\n",
        "f()\n",
        "print(x)  # Ispisuje 20"
      ]
    },
    {
      "cell_type": "markdown",
      "id": "2942baf3-a4b9-4ac3-a8b8-5fdaa51e26fc",
      "metadata": {
        "id": "2942baf3-a4b9-4ac3-a8b8-5fdaa51e26fc"
      },
      "source": [
        "# Biblioteke"
      ]
    },
    {
      "cell_type": "markdown",
      "id": "a8452591-c685-498a-9870-294b2eeab30b",
      "metadata": {
        "id": "a8452591-c685-498a-9870-294b2eeab30b"
      },
      "source": [
        "Python sadrži mnogo biblioteka namenjenih za različite probleme. Jedna od najosnovnijih je biblioteka math. Biblioteke u učitavamo pomoću komande import:"
      ]
    },
    {
      "cell_type": "code",
      "execution_count": 23,
      "id": "96d6ccaa-8f0a-4b31-ab22-ea4c2d7c0cfc",
      "metadata": {
        "id": "96d6ccaa-8f0a-4b31-ab22-ea4c2d7c0cfc"
      },
      "outputs": [],
      "source": [
        "import math"
      ]
    },
    {
      "cell_type": "markdown",
      "id": "e6406c88-6f7a-4afc-9543-5cb69d59906f",
      "metadata": {
        "id": "e6406c88-6f7a-4afc-9543-5cb69d59906f"
      },
      "source": [
        "Ovo je biblioteka za rad sa realnim brojevima, pa se funkcije ne mogu koristi za kompleksne brojeve. Listu svih dostupnih funkcija i konstanti možemo videti pomoću komande help(math)"
      ]
    },
    {
      "cell_type": "code",
      "execution_count": 24,
      "id": "bd0b6a2f-c38b-44f1-9a18-e7266bf73505",
      "metadata": {
        "id": "bd0b6a2f-c38b-44f1-9a18-e7266bf73505"
      },
      "outputs": [],
      "source": [
        "#help(math)"
      ]
    },
    {
      "cell_type": "markdown",
      "id": "ac8a0e82-c2c3-4ba5-a6ff-fa27b19b0e11",
      "metadata": {
        "id": "ac8a0e82-c2c3-4ba5-a6ff-fa27b19b0e11"
      },
      "source": [
        "Svakoj od funkcija pristupamo navodeći prvo ime biblioteke, kao što pristupamo metodama klase. Pa tako ako želimo učitati promenljivu pi, pozivamo je sa"
      ]
    },
    {
      "cell_type": "code",
      "execution_count": 25,
      "id": "847e2ab0-260d-4c7a-9d09-091c60ef5a6b",
      "metadata": {
        "id": "847e2ab0-260d-4c7a-9d09-091c60ef5a6b",
        "outputId": "2ec23b1a-0093-4863-a50b-8ff7898dac86",
        "colab": {
          "base_uri": "https://localhost:8080/"
        }
      },
      "outputs": [
        {
          "output_type": "stream",
          "name": "stdout",
          "text": [
            "3.141592653589793\n"
          ]
        }
      ],
      "source": [
        "a=math.pi\n",
        "print(a)"
      ]
    },
    {
      "cell_type": "markdown",
      "id": "35d9fc4d-2e01-4f2c-91fb-ac55abab5d38",
      "metadata": {
        "id": "35d9fc4d-2e01-4f2c-91fb-ac55abab5d38"
      },
      "source": [
        "Izračunavanje sinusa u pi/2 onda možemo izvršiti sa"
      ]
    },
    {
      "cell_type": "code",
      "execution_count": 26,
      "id": "40faf989-7b33-47cd-b872-5bad8c394486",
      "metadata": {
        "id": "40faf989-7b33-47cd-b872-5bad8c394486",
        "outputId": "051aade6-5a03-44e2-87d7-b7784233f2ed",
        "colab": {
          "base_uri": "https://localhost:8080/"
        }
      },
      "outputs": [
        {
          "output_type": "execute_result",
          "data": {
            "text/plain": [
              "1.0"
            ]
          },
          "metadata": {},
          "execution_count": 26
        }
      ],
      "source": [
        "math.sin(a/2)"
      ]
    },
    {
      "cell_type": "markdown",
      "id": "dcfafeac-94e5-4182-bec7-f3356e2d76bf",
      "metadata": {
        "id": "dcfafeac-94e5-4182-bec7-f3356e2d76bf"
      },
      "source": [
        "Primetimo da u Pajtonu imamo ugrađenu promenljivu e!"
      ]
    },
    {
      "cell_type": "code",
      "execution_count": 27,
      "id": "c6095211-8b22-468c-8082-d1fce8ff69d5",
      "metadata": {
        "id": "c6095211-8b22-468c-8082-d1fce8ff69d5",
        "outputId": "a928fdef-32fb-4bff-ecf1-bd19846efa4c",
        "colab": {
          "base_uri": "https://localhost:8080/"
        }
      },
      "outputs": [
        {
          "output_type": "stream",
          "name": "stdout",
          "text": [
            "2.718281828459045\n"
          ]
        }
      ],
      "source": [
        "b=math.e\n",
        "print(b)"
      ]
    },
    {
      "cell_type": "markdown",
      "id": "6f88460f-811f-4049-9c64-4093a9727799",
      "metadata": {
        "id": "6f88460f-811f-4049-9c64-4093a9727799"
      },
      "source": [
        "Međutim, funkcije iz biblioteka math rade samo sa konstantama, tj. ne mogu se primeniti na matricu (kao u Matlabu). Zbog toga je razvijena druga biblioteka koja ima sve mogućnosti kao i math i još više od toga. To je biblioteka Numpy."
      ]
    },
    {
      "cell_type": "markdown",
      "id": "6ca20cf3-1abb-46cd-8bf9-690d8fa78cee",
      "metadata": {
        "id": "6ca20cf3-1abb-46cd-8bf9-690d8fa78cee"
      },
      "source": [
        "### Numpy biblioteka"
      ]
    },
    {
      "cell_type": "markdown",
      "id": "3d018c80-c630-4697-8e97-a2407f9f3240",
      "metadata": {
        "id": "3d018c80-c630-4697-8e97-a2407f9f3240"
      },
      "source": [
        "Za implementaciju numeričkih metoda neophodne su matrice. Ako želimo definisati matricu u Pythonu koristeći osnovne strukture podataka tada bi je definisali kao listu u listi, tj. kao dvodimenzionu listu"
      ]
    },
    {
      "cell_type": "code",
      "execution_count": 28,
      "id": "ffd07583-0c48-4fc1-90e0-be7642bc89dc",
      "metadata": {
        "id": "ffd07583-0c48-4fc1-90e0-be7642bc89dc",
        "outputId": "be85f335-54e7-4d4d-c274-9208b60ab230",
        "colab": {
          "base_uri": "https://localhost:8080/"
        }
      },
      "outputs": [
        {
          "output_type": "stream",
          "name": "stdout",
          "text": [
            "[[1, 2], [3, 4]]\n"
          ]
        }
      ],
      "source": [
        "A=[[1,2],[3,4]]\n",
        "print(A)"
      ]
    },
    {
      "cell_type": "markdown",
      "id": "c3217b5f-81b4-4374-b4ec-36b3612367bb",
      "metadata": {
        "id": "c3217b5f-81b4-4374-b4ec-36b3612367bb"
      },
      "source": [
        "i njenim elementima pristupali bi sa"
      ]
    },
    {
      "cell_type": "code",
      "execution_count": 29,
      "id": "d6454949-73f5-426f-aee3-ffb7c90ddad2",
      "metadata": {
        "id": "d6454949-73f5-426f-aee3-ffb7c90ddad2",
        "outputId": "f79c491f-7137-4457-8a54-6c03910c70a6",
        "colab": {
          "base_uri": "https://localhost:8080/"
        }
      },
      "outputs": [
        {
          "output_type": "execute_result",
          "data": {
            "text/plain": [
              "1"
            ]
          },
          "metadata": {},
          "execution_count": 29
        }
      ],
      "source": [
        "A[0][0]"
      ]
    },
    {
      "cell_type": "code",
      "execution_count": 30,
      "id": "e648145b-1b64-4a6d-b894-e6ae4a0b8ab5",
      "metadata": {
        "id": "e648145b-1b64-4a6d-b894-e6ae4a0b8ab5",
        "outputId": "88599353-3eef-4a8a-c1d8-9d3d31f397b4",
        "colab": {
          "base_uri": "https://localhost:8080/"
        }
      },
      "outputs": [
        {
          "output_type": "execute_result",
          "data": {
            "text/plain": [
              "2"
            ]
          },
          "metadata": {},
          "execution_count": 30
        }
      ],
      "source": [
        "A[0][1]"
      ]
    },
    {
      "cell_type": "markdown",
      "id": "64515e97-cdf4-4e18-9db1-1f797ec2d260",
      "metadata": {
        "id": "64515e97-cdf4-4e18-9db1-1f797ec2d260"
      },
      "source": [
        "Operacija, kao što je sabiranje matrica nije dostupna, već bi rezultat sabiranja dve liste bio nadovezivanjetih listi:"
      ]
    },
    {
      "cell_type": "code",
      "execution_count": 31,
      "id": "f61f14a3-1004-471e-a5b5-51f5c43991f4",
      "metadata": {
        "id": "f61f14a3-1004-471e-a5b5-51f5c43991f4",
        "outputId": "018e421f-5dfe-43ee-ebcb-f73130f72c39",
        "colab": {
          "base_uri": "https://localhost:8080/"
        }
      },
      "outputs": [
        {
          "output_type": "execute_result",
          "data": {
            "text/plain": [
              "[[1, 2], [3, 4], [1, 2], [3, 4]]"
            ]
          },
          "metadata": {},
          "execution_count": 31
        }
      ],
      "source": [
        "A+A"
      ]
    },
    {
      "cell_type": "markdown",
      "id": "50b25a41-d2fa-4adf-a593-49b0fc27c163",
      "metadata": {
        "id": "50b25a41-d2fa-4adf-a593-49b0fc27c163"
      },
      "source": [
        "Zbog toga je kreirana posebna biblioteka za rad sa matricama sa nazivom **Numpy**. Ona pruža podršku za rad s nizovima (arrays) i matricama, kao\n",
        "i funkcije visokih performansi za matematičke operacije nad tim strukturama podataka. Takođe, omogućava efikasno računanje sa višedimenzionim nizovima i uključuje veliki broj alata za linearno algebru, statistiku i druge matematičke operacije."
      ]
    },
    {
      "cell_type": "markdown",
      "id": "53895219-b436-4ff3-b944-4816199a0fd7",
      "metadata": {
        "id": "53895219-b436-4ff3-b944-4816199a0fd7"
      },
      "source": [
        "Učitavamo je analogno kao i druge sa **import numpy**, ali kako je ime nešto duže, u praksi se ova biblioteka preimenuje u **np** na sledeći način:"
      ]
    },
    {
      "cell_type": "code",
      "execution_count": 32,
      "id": "735c7607-faeb-4576-b807-a1165f924411",
      "metadata": {
        "id": "735c7607-faeb-4576-b807-a1165f924411"
      },
      "outputs": [],
      "source": [
        "import numpy as np"
      ]
    },
    {
      "cell_type": "markdown",
      "id": "ed4e2ea9-a1af-4669-96f7-13ff974dc72f",
      "metadata": {
        "id": "ed4e2ea9-a1af-4669-96f7-13ff974dc72f"
      },
      "source": [
        "Sada umesto da promenljivim i metodama pristupamo sa numpy.xxx, to radimo sa np.xxx"
      ]
    },
    {
      "cell_type": "markdown",
      "id": "d6fb0505-0f87-4262-af20-add591ddbc23",
      "metadata": {
        "id": "d6fb0505-0f87-4262-af20-add591ddbc23"
      },
      "source": [
        "Objekti ove biblioteke su **homogeni** višedimenzioni nizovi. Najčešće se koristi za rad sa matricama, a elementi su indeksirani torkama nenegativnih celih brojeva."
      ]
    },
    {
      "cell_type": "markdown",
      "id": "067db4c2-465a-46bf-bf15-8315b525da48",
      "metadata": {
        "id": "067db4c2-465a-46bf-bf15-8315b525da48"
      },
      "source": [
        "Dvodimenzionu listu možemo konvertovati u dvodimenzioni np niz sa komandom np.array(lista)."
      ]
    },
    {
      "cell_type": "code",
      "execution_count": 33,
      "id": "2668116e-a9ae-4424-be0a-56e28f32e829",
      "metadata": {
        "id": "2668116e-a9ae-4424-be0a-56e28f32e829",
        "outputId": "919beb73-1275-4771-92ed-6743035d296f",
        "colab": {
          "base_uri": "https://localhost:8080/"
        }
      },
      "outputs": [
        {
          "output_type": "stream",
          "name": "stdout",
          "text": [
            "[[1 2]\n",
            " [3 4]]\n"
          ]
        }
      ],
      "source": [
        "B=np.array(A)\n",
        "print(B) #uporedimo izgled sa listom"
      ]
    },
    {
      "cell_type": "code",
      "execution_count": 34,
      "id": "16945637-1588-4975-b9dd-bc518bf1d55a",
      "metadata": {
        "id": "16945637-1588-4975-b9dd-bc518bf1d55a",
        "outputId": "9fa12605-a3bf-4326-f580-574f833903e7",
        "colab": {
          "base_uri": "https://localhost:8080/"
        }
      },
      "outputs": [
        {
          "output_type": "execute_result",
          "data": {
            "text/plain": [
              "numpy.ndarray"
            ]
          },
          "metadata": {},
          "execution_count": 34
        }
      ],
      "source": [
        "type(B)#proverimo tip podataka"
      ]
    },
    {
      "cell_type": "markdown",
      "id": "08afe010-985d-4a34-abbc-d36dbe6e6a8d",
      "metadata": {
        "id": "08afe010-985d-4a34-abbc-d36dbe6e6a8d"
      },
      "source": [
        "Sada matrice možemo direktno sabirati:"
      ]
    },
    {
      "cell_type": "code",
      "execution_count": 35,
      "id": "6771435b-19e8-448b-9c7a-f64df6edecf9",
      "metadata": {
        "id": "6771435b-19e8-448b-9c7a-f64df6edecf9",
        "outputId": "169d87a4-c719-4855-a183-30eec329a180",
        "colab": {
          "base_uri": "https://localhost:8080/"
        }
      },
      "outputs": [
        {
          "output_type": "execute_result",
          "data": {
            "text/plain": [
              "array([[2, 4],\n",
              "       [6, 8]])"
            ]
          },
          "metadata": {},
          "execution_count": 35
        }
      ],
      "source": [
        "B+B"
      ]
    },
    {
      "cell_type": "markdown",
      "id": "de1f2573-db6b-436d-922b-e1d69d5a93a6",
      "metadata": {
        "id": "de1f2573-db6b-436d-922b-e1d69d5a93a6"
      },
      "source": [
        "Napomenimo da **operator * u pajtonu označava elementno množenje dva niza**, pri čemu se svaki element prvog niza množi odgovarajućim elementom drugog niza"
      ]
    },
    {
      "cell_type": "code",
      "execution_count": 36,
      "id": "bc80f71f-b23a-409d-b24a-df19a5769386",
      "metadata": {
        "id": "bc80f71f-b23a-409d-b24a-df19a5769386",
        "outputId": "322a298b-3e78-40a0-d159-669246ad41ce",
        "colab": {
          "base_uri": "https://localhost:8080/"
        }
      },
      "outputs": [
        {
          "output_type": "execute_result",
          "data": {
            "text/plain": [
              "array([[ 1,  4],\n",
              "       [ 9, 16]])"
            ]
          },
          "metadata": {},
          "execution_count": 36
        }
      ],
      "source": [
        "B*B"
      ]
    },
    {
      "cell_type": "markdown",
      "id": "94bc5894-3d5d-44d7-8b38-d8be74bba7a1",
      "metadata": {
        "id": "94bc5894-3d5d-44d7-8b38-d8be74bba7a1"
      },
      "source": [
        "kao i steprenovanje"
      ]
    },
    {
      "cell_type": "code",
      "execution_count": 37,
      "id": "3cf1ef30-84df-42d6-8394-3635302c7ba1",
      "metadata": {
        "id": "3cf1ef30-84df-42d6-8394-3635302c7ba1",
        "outputId": "805fa1aa-288a-4ead-be71-7c7d68052dcb",
        "colab": {
          "base_uri": "https://localhost:8080/"
        }
      },
      "outputs": [
        {
          "output_type": "execute_result",
          "data": {
            "text/plain": [
              "array([[ 1,  8],\n",
              "       [27, 64]])"
            ]
          },
          "metadata": {},
          "execution_count": 37
        }
      ],
      "source": [
        "B**3"
      ]
    },
    {
      "cell_type": "markdown",
      "id": "c6e580a4-9983-4d63-a0de-6cc2eddf70e1",
      "metadata": {
        "id": "c6e580a4-9983-4d63-a0de-6cc2eddf70e1"
      },
      "source": [
        "Ako želimo matrično množenje, tada koristimo metod matmul()"
      ]
    },
    {
      "cell_type": "code",
      "execution_count": 38,
      "id": "4c7c49bc-804c-4932-b833-4a370e12a37c",
      "metadata": {
        "id": "4c7c49bc-804c-4932-b833-4a370e12a37c",
        "outputId": "5903f018-404c-4c08-ec30-e7b351ef59f1",
        "colab": {
          "base_uri": "https://localhost:8080/"
        }
      },
      "outputs": [
        {
          "output_type": "execute_result",
          "data": {
            "text/plain": [
              "array([[ 7, 10],\n",
              "       [15, 22]])"
            ]
          },
          "metadata": {},
          "execution_count": 38
        }
      ],
      "source": [
        "np.matmul(B,B)"
      ]
    },
    {
      "cell_type": "markdown",
      "id": "cc3dd7b8-ddb7-40a3-a593-6c6c484edb64",
      "metadata": {
        "id": "cc3dd7b8-ddb7-40a3-a593-6c6c484edb64"
      },
      "source": [
        "ili operaotr @"
      ]
    },
    {
      "cell_type": "code",
      "execution_count": 39,
      "id": "f79edeee-3c3b-4ef8-9f83-0805c958d227",
      "metadata": {
        "id": "f79edeee-3c3b-4ef8-9f83-0805c958d227",
        "outputId": "d13cb3de-47cb-4f30-e3b4-abc91ee5f22d",
        "colab": {
          "base_uri": "https://localhost:8080/"
        }
      },
      "outputs": [
        {
          "output_type": "execute_result",
          "data": {
            "text/plain": [
              "array([[ 7, 10],\n",
              "       [15, 22]])"
            ]
          },
          "metadata": {},
          "execution_count": 39
        }
      ],
      "source": [
        "B@B"
      ]
    },
    {
      "cell_type": "markdown",
      "id": "36563c37-12a6-4d67-a645-1f8691a74774",
      "metadata": {
        "id": "36563c37-12a6-4d67-a645-1f8691a74774"
      },
      "source": [
        "a možemo koristiti i dot() metod koji je inače za skalarno množenje vektora"
      ]
    },
    {
      "cell_type": "code",
      "execution_count": 40,
      "id": "f0ae6aed-be70-4285-97ca-5d18d092f10d",
      "metadata": {
        "id": "f0ae6aed-be70-4285-97ca-5d18d092f10d",
        "outputId": "c228843c-8e59-412b-ee86-3a6bef9c89ae",
        "colab": {
          "base_uri": "https://localhost:8080/"
        }
      },
      "outputs": [
        {
          "output_type": "execute_result",
          "data": {
            "text/plain": [
              "array([[ 7, 10],\n",
              "       [15, 22]])"
            ]
          },
          "metadata": {},
          "execution_count": 40
        }
      ],
      "source": [
        "np.dot(B,B)"
      ]
    },
    {
      "cell_type": "markdown",
      "id": "3936b745-ee65-4c44-ab14-28cd76016eb5",
      "metadata": {
        "id": "3936b745-ee65-4c44-ab14-28cd76016eb5"
      },
      "source": [
        "Elementima np niza pristupamo sa uglastim zagradama. Ponovo napomenimo da indeksiranje kreće od nule:"
      ]
    },
    {
      "cell_type": "code",
      "execution_count": 41,
      "id": "2fae055e-9d5c-4bc1-af94-fbf2ffdf969a",
      "metadata": {
        "id": "2fae055e-9d5c-4bc1-af94-fbf2ffdf969a",
        "outputId": "843cdfbb-6b27-49af-ba64-77ac34576853",
        "colab": {
          "base_uri": "https://localhost:8080/"
        }
      },
      "outputs": [
        {
          "output_type": "execute_result",
          "data": {
            "text/plain": [
              "1"
            ]
          },
          "metadata": {},
          "execution_count": 41
        }
      ],
      "source": [
        "B[0,0]"
      ]
    },
    {
      "cell_type": "markdown",
      "id": "75dc918d-0717-4d05-a46c-c05ab34e9b9c",
      "metadata": {
        "id": "75dc918d-0717-4d05-a46c-c05ab34e9b9c"
      },
      "source": [
        "što je isto kao"
      ]
    },
    {
      "cell_type": "code",
      "execution_count": 42,
      "id": "08c4abed-41c6-46e8-8d30-f670f04603ee",
      "metadata": {
        "id": "08c4abed-41c6-46e8-8d30-f670f04603ee",
        "outputId": "5e9d254e-a3cf-45bd-d067-0d6fe19f607b",
        "colab": {
          "base_uri": "https://localhost:8080/"
        }
      },
      "outputs": [
        {
          "output_type": "execute_result",
          "data": {
            "text/plain": [
              "1"
            ]
          },
          "metadata": {},
          "execution_count": 42
        }
      ],
      "source": [
        "B[0][0]"
      ]
    },
    {
      "cell_type": "markdown",
      "id": "b54085a0-58f7-4cc3-b1be-e8a31db21414",
      "metadata": {
        "id": "b54085a0-58f7-4cc3-b1be-e8a31db21414"
      },
      "source": [
        "Često će nam biti potrebna dimenzija matrice/niza. U strukturi tipa numpy.ndarray ova informacija se čuva u promenljivoj shape koja je torka (tuple):"
      ]
    },
    {
      "cell_type": "code",
      "execution_count": 43,
      "id": "2b305209-f52d-455a-9ca0-5d16a6878aa8",
      "metadata": {
        "id": "2b305209-f52d-455a-9ca0-5d16a6878aa8",
        "outputId": "572c047a-a1fd-446c-bd7f-33fc0007e377",
        "colab": {
          "base_uri": "https://localhost:8080/"
        }
      },
      "outputs": [
        {
          "output_type": "execute_result",
          "data": {
            "text/plain": [
              "(2, 2)"
            ]
          },
          "metadata": {},
          "execution_count": 43
        }
      ],
      "source": [
        "# dimenzija matrice/niza\n",
        "B.shape"
      ]
    },
    {
      "cell_type": "markdown",
      "id": "5c8ecf98-fdc7-415d-8d2d-14799870f0be",
      "metadata": {
        "id": "5c8ecf98-fdc7-415d-8d2d-14799870f0be"
      },
      "source": [
        "Ako znamo da je to dvodimenzioni niz, tj. matrica, tada broj vrsta i kolona možemo učitati i direktno navodeći dve promenljive"
      ]
    },
    {
      "cell_type": "code",
      "execution_count": 44,
      "id": "35a4ab29-89bd-4bf7-875c-52571394962e",
      "metadata": {
        "id": "35a4ab29-89bd-4bf7-875c-52571394962e",
        "outputId": "23a6024b-4836-4515-b49a-6fe4ca611d3b",
        "colab": {
          "base_uri": "https://localhost:8080/"
        }
      },
      "outputs": [
        {
          "output_type": "stream",
          "name": "stdout",
          "text": [
            "2\n",
            "2\n"
          ]
        }
      ],
      "source": [
        "n,m=B.shape\n",
        "print(n)\n",
        "print(m)"
      ]
    },
    {
      "cell_type": "markdown",
      "id": "4076afad-0ff5-4ecb-9624-fe08addddf2c",
      "metadata": {
        "id": "4076afad-0ff5-4ecb-9624-fe08addddf2c"
      },
      "source": [
        "Slično, torku možemo upisati i u jednu promenljivu, pa njenim elementima pristupati pojedinačno"
      ]
    },
    {
      "cell_type": "code",
      "execution_count": 45,
      "id": "84df56a4-a7b9-42af-9555-1422e858aee6",
      "metadata": {
        "id": "84df56a4-a7b9-42af-9555-1422e858aee6",
        "outputId": "91be9e06-22a5-4999-a87c-2da2f65117e8",
        "colab": {
          "base_uri": "https://localhost:8080/"
        }
      },
      "outputs": [
        {
          "output_type": "stream",
          "name": "stdout",
          "text": [
            "(2, 2)\n"
          ]
        }
      ],
      "source": [
        "dim=B.shape\n",
        "print(dim)"
      ]
    },
    {
      "cell_type": "code",
      "execution_count": 46,
      "id": "20b5806b-4b91-4108-859f-d70d61091c99",
      "metadata": {
        "id": "20b5806b-4b91-4108-859f-d70d61091c99",
        "outputId": "4dc05630-305d-47ee-fc8c-c3be6c4cdbec",
        "colab": {
          "base_uri": "https://localhost:8080/"
        }
      },
      "outputs": [
        {
          "output_type": "stream",
          "name": "stdout",
          "text": [
            "2\n",
            "2\n"
          ]
        }
      ],
      "source": [
        "print(dim[0])\n",
        "print(dim[1])"
      ]
    },
    {
      "cell_type": "markdown",
      "id": "6352e4ad-1a1a-4cf3-9f1c-9dc0e4c5747b",
      "metadata": {
        "id": "6352e4ad-1a1a-4cf3-9f1c-9dc0e4c5747b"
      },
      "source": [
        "Navodim još neke korisne funkcije, na koje smo navikli i u Matlabu. Definisanje matrice popunjene nulama:"
      ]
    },
    {
      "cell_type": "code",
      "execution_count": 47,
      "id": "8fb1360e-285a-419e-a3f0-6f6fad9577e7",
      "metadata": {
        "id": "8fb1360e-285a-419e-a3f0-6f6fad9577e7",
        "outputId": "088091a5-d1cd-48f1-e456-b0840888e13a",
        "colab": {
          "base_uri": "https://localhost:8080/"
        }
      },
      "outputs": [
        {
          "output_type": "execute_result",
          "data": {
            "text/plain": [
              "array([0., 0., 0.])"
            ]
          },
          "metadata": {},
          "execution_count": 47
        }
      ],
      "source": [
        "np.zeros(3)"
      ]
    },
    {
      "cell_type": "markdown",
      "id": "7cbe2c94-be3b-401d-af89-4e5dd149c269",
      "metadata": {
        "id": "7cbe2c94-be3b-401d-af89-4e5dd149c269"
      },
      "source": [
        "Ovim smo dobili **jednodimenzioni niz**!"
      ]
    },
    {
      "cell_type": "code",
      "execution_count": 48,
      "id": "f2a98bb4-329f-4bda-8a8e-7c2d30a42880",
      "metadata": {
        "id": "f2a98bb4-329f-4bda-8a8e-7c2d30a42880",
        "outputId": "49b375c3-4420-4aea-d72a-f5c558885de2",
        "colab": {
          "base_uri": "https://localhost:8080/"
        }
      },
      "outputs": [
        {
          "output_type": "execute_result",
          "data": {
            "text/plain": [
              "(3,)"
            ]
          },
          "metadata": {},
          "execution_count": 48
        }
      ],
      "source": [
        "Z=np.zeros(3)\n",
        "Z.shape"
      ]
    },
    {
      "cell_type": "markdown",
      "id": "e470d0ba-6185-4eb4-bfc1-ef3c83d4ef45",
      "metadata": {
        "id": "e470d0ba-6185-4eb4-bfc1-ef3c83d4ef45"
      },
      "source": [
        "Ako želimo da je to vektor vrsta ili vektor kolona, tada moramo navesti i drugu dimenziju:"
      ]
    },
    {
      "cell_type": "code",
      "execution_count": 49,
      "id": "ff3934ab-9a2a-4e8a-8de6-acb690898e64",
      "metadata": {
        "id": "ff3934ab-9a2a-4e8a-8de6-acb690898e64",
        "outputId": "4c245031-15f0-45be-ae02-0153b7eadff5",
        "colab": {
          "base_uri": "https://localhost:8080/"
        }
      },
      "outputs": [
        {
          "output_type": "stream",
          "name": "stdout",
          "text": [
            "[[0.]\n",
            " [0.]\n",
            " [0.]]\n",
            "[[0. 0. 0.]]\n"
          ]
        }
      ],
      "source": [
        "Z1=np.zeros([3,1])#vektor kolona\n",
        "print(Z1)\n",
        "Z1=np.zeros([1,3])#vektor vrsta\n",
        "print(Z1)"
      ]
    },
    {
      "cell_type": "markdown",
      "id": "a93c2586-66e9-4331-b761-7fc0a31f6b17",
      "metadata": {
        "id": "a93c2586-66e9-4331-b761-7fc0a31f6b17"
      },
      "source": [
        "Primetimo da funkcije zeros (a isto važi i za ostale slične funkcije u numpy) nema promenljivi broj argumenata, tj. dvodimenzionu matricu ne možemo definisati sa"
      ]
    },
    {
      "cell_type": "code",
      "execution_count": 50,
      "id": "9a5690f2-3800-4314-8f5a-2e0b7d3522b6",
      "metadata": {
        "id": "9a5690f2-3800-4314-8f5a-2e0b7d3522b6",
        "outputId": "3a2b4090-eb08-41bd-d655-4a07270c48fe",
        "colab": {
          "base_uri": "https://localhost:8080/",
          "height": 141
        }
      },
      "outputs": [
        {
          "output_type": "error",
          "ename": "TypeError",
          "evalue": "Cannot interpret '5' as a data type",
          "traceback": [
            "\u001b[0;31m---------------------------------------------------------------------------\u001b[0m",
            "\u001b[0;31mTypeError\u001b[0m                                 Traceback (most recent call last)",
            "\u001b[0;32m<ipython-input-50-25c3f14ba1b8>\u001b[0m in \u001b[0;36m<cell line: 0>\u001b[0;34m()\u001b[0m\n\u001b[0;32m----> 1\u001b[0;31m \u001b[0mnp\u001b[0m\u001b[0;34m.\u001b[0m\u001b[0mzeros\u001b[0m\u001b[0;34m(\u001b[0m\u001b[0;36m3\u001b[0m\u001b[0;34m,\u001b[0m\u001b[0;36m5\u001b[0m\u001b[0;34m)\u001b[0m\u001b[0;34m\u001b[0m\u001b[0;34m\u001b[0m\u001b[0m\n\u001b[0m",
            "\u001b[0;31mTypeError\u001b[0m: Cannot interpret '5' as a data type"
          ]
        }
      ],
      "source": [
        "np.zeros(3,5)"
      ]
    },
    {
      "cell_type": "markdown",
      "id": "640990d0-2307-48bd-99c0-afd7162347b6",
      "metadata": {
        "id": "640990d0-2307-48bd-99c0-afd7162347b6"
      },
      "source": [
        "već broj vrsta i kolona moramo proslediti kao listu ili kao torku"
      ]
    },
    {
      "cell_type": "code",
      "execution_count": 51,
      "id": "70d58fc9-2814-4b18-80b5-416b18977b7d",
      "metadata": {
        "id": "70d58fc9-2814-4b18-80b5-416b18977b7d",
        "outputId": "094eafba-870b-46af-b9f2-438015b6fd77",
        "colab": {
          "base_uri": "https://localhost:8080/"
        }
      },
      "outputs": [
        {
          "output_type": "execute_result",
          "data": {
            "text/plain": [
              "array([[1., 1., 1.],\n",
              "       [1., 1., 1.],\n",
              "       [1., 1., 1.]])"
            ]
          },
          "metadata": {},
          "execution_count": 51
        }
      ],
      "source": [
        "np.ones([3,3])"
      ]
    },
    {
      "cell_type": "markdown",
      "id": "fc61a82f-d807-4ecb-8fea-ff433eb1f61c",
      "metadata": {
        "id": "fc61a82f-d807-4ecb-8fea-ff433eb1f61c"
      },
      "source": [
        "Navodim još neke korisne funkcije:"
      ]
    },
    {
      "cell_type": "code",
      "execution_count": 52,
      "id": "a82f48b5-a647-46df-ab7b-1e4feac1cfdf",
      "metadata": {
        "id": "a82f48b5-a647-46df-ab7b-1e4feac1cfdf",
        "outputId": "e11513d4-70fb-4280-c570-09569ad1b409",
        "colab": {
          "base_uri": "https://localhost:8080/"
        }
      },
      "outputs": [
        {
          "output_type": "execute_result",
          "data": {
            "text/plain": [
              "array([[0.],\n",
              "       [0.],\n",
              "       [0.]])"
            ]
          },
          "metadata": {},
          "execution_count": 52
        }
      ],
      "source": [
        "Z1.T # transponovanje"
      ]
    },
    {
      "cell_type": "code",
      "execution_count": 53,
      "id": "f00d6f20-5361-487b-8f2e-56bae92318b2",
      "metadata": {
        "id": "f00d6f20-5361-487b-8f2e-56bae92318b2",
        "outputId": "db63acc1-98cd-4497-f732-c655ecaaa98f",
        "colab": {
          "base_uri": "https://localhost:8080/"
        }
      },
      "outputs": [
        {
          "output_type": "execute_result",
          "data": {
            "text/plain": [
              "array([0., 2., 4.])"
            ]
          },
          "metadata": {},
          "execution_count": 53
        }
      ],
      "source": [
        "np.linspace(0, 4, 3) # ravnomerno raspoređen zadati broj tačaka na zadatom intervalu"
      ]
    },
    {
      "cell_type": "code",
      "execution_count": 54,
      "id": "3d7a1850-123a-4492-b71c-acdd9abb1c08",
      "metadata": {
        "id": "3d7a1850-123a-4492-b71c-acdd9abb1c08",
        "outputId": "144dc31e-82d8-4a81-b2a9-9619ba094566",
        "colab": {
          "base_uri": "https://localhost:8080/"
        }
      },
      "outputs": [
        {
          "output_type": "stream",
          "name": "stdout",
          "text": [
            "[0.         1.57079633 3.14159265]\n"
          ]
        }
      ],
      "source": [
        "b = np.linspace(0, math.pi, 3)\n",
        "print(b)"
      ]
    },
    {
      "cell_type": "code",
      "execution_count": 55,
      "id": "bd191a0a-11a4-4614-94bd-ddaa0052e269",
      "metadata": {
        "id": "bd191a0a-11a4-4614-94bd-ddaa0052e269",
        "outputId": "7b891cd5-17ca-4b5d-90b4-a537f9afc572",
        "colab": {
          "base_uri": "https://localhost:8080/"
        }
      },
      "outputs": [
        {
          "output_type": "stream",
          "name": "stdout",
          "text": [
            "[[1. 1.]\n",
            " [1. 1.]]\n"
          ]
        }
      ],
      "source": [
        "J=np.ones([2,2])\n",
        "print(J)"
      ]
    },
    {
      "cell_type": "code",
      "execution_count": 56,
      "id": "e1c07dc6-36dd-4e15-bc7c-cb1be5501821",
      "metadata": {
        "id": "e1c07dc6-36dd-4e15-bc7c-cb1be5501821",
        "outputId": "2b4971d2-a624-431b-8b50-715f286279c5",
        "colab": {
          "base_uri": "https://localhost:8080/"
        }
      },
      "outputs": [
        {
          "output_type": "stream",
          "name": "stdout",
          "text": [
            "[[1. 0. 0.]\n",
            " [0. 1. 0.]\n",
            " [0. 0. 1.]]\n"
          ]
        }
      ],
      "source": [
        "E=np.identity(3)# kvadratna jedinicna matrica\n",
        "E=np.eye(3)# sto je isto\n",
        "print(E)"
      ]
    },
    {
      "cell_type": "code",
      "execution_count": 57,
      "id": "3d6be7d6-8889-4859-aadd-90607b9b9e69",
      "metadata": {
        "id": "3d6be7d6-8889-4859-aadd-90607b9b9e69",
        "outputId": "c72104f0-d8cc-45af-a2ff-4f06347be7d1",
        "colab": {
          "base_uri": "https://localhost:8080/"
        }
      },
      "outputs": [
        {
          "output_type": "stream",
          "name": "stdout",
          "text": [
            "[[1. 0.]\n",
            " [0. 1.]\n",
            " [0. 0.]\n",
            " [0. 0.]]\n"
          ]
        }
      ],
      "source": [
        "E=np.eye(4,2)# pravougaina matrica sa jedinicama na dijagonali\n",
        "print(E)"
      ]
    },
    {
      "cell_type": "markdown",
      "id": "6c69c376-9705-43cf-aa3f-8a10b2b3efc0",
      "metadata": {
        "id": "6c69c376-9705-43cf-aa3f-8a10b2b3efc0"
      },
      "source": [
        "### Matplotlib"
      ]
    },
    {
      "cell_type": "markdown",
      "id": "97d4b2e6-093d-41be-bca1-30d73e3f96cf",
      "metadata": {
        "id": "97d4b2e6-093d-41be-bca1-30d73e3f96cf"
      },
      "source": [
        "Biblioteka **matplotlib** je biblioteka za vizualizaciju podataka u Pajtonu. Mi ćemo koristiti jedan njen podmodul **matplotlib.pyplot**  koji se koristi za iscrtavanje grafova na jednostavan način, sličan interfejsu u MATLAB-u."
      ]
    },
    {
      "cell_type": "markdown",
      "id": "2744b9c8-7320-462b-b8de-03b71f480708",
      "metadata": {
        "id": "2744b9c8-7320-462b-b8de-03b71f480708"
      },
      "source": [
        "Ovaj podmodul nam omogućava crtanje grafika sa naprednim kontrolama kao što su oznake koordinatnih osa, legenda i slično. Obično ga učitavamo pod skraćenim imenom plt."
      ]
    },
    {
      "cell_type": "code",
      "execution_count": 58,
      "id": "d2fa9ff9-a3b3-4315-b319-9cc47c985d02",
      "metadata": {
        "id": "d2fa9ff9-a3b3-4315-b319-9cc47c985d02"
      },
      "outputs": [],
      "source": [
        "import matplotlib.pyplot as plt"
      ]
    },
    {
      "cell_type": "code",
      "execution_count": 59,
      "id": "5666b633-8d59-414e-8392-bcd8c4e47136",
      "metadata": {
        "id": "5666b633-8d59-414e-8392-bcd8c4e47136"
      },
      "outputs": [],
      "source": [
        "def nacrtaj_sin_cos(x):\n",
        "\n",
        "    ys = np.sin(x)\n",
        "    yc = np.cos(x)\n",
        "\n",
        "    plt.plot(x, ys, label='Sinus', marker='o', color='b')\n",
        "    plt.plot(x, yc, label='Kosinus', color='r')\n",
        "\n",
        "    plt.legend()\n",
        "    plt.xlabel('x')\n",
        "    plt.ylabel('y')\n",
        "    plt.title('Grafik funkcija sin(x) i cos(x)')\n",
        "    plt.grid()  # Dodavanje mreže na graf\n",
        "    plt.show() # ako nismo u Jypiter svesci ova komanda je neophodna da bi se grafik prikazao"
      ]
    },
    {
      "cell_type": "code",
      "execution_count": 60,
      "id": "6bca54ca-9124-4b9d-abcc-5097b11af676",
      "metadata": {
        "id": "6bca54ca-9124-4b9d-abcc-5097b11af676",
        "outputId": "652ae2b8-71e6-4022-bac3-baa4c38181d5",
        "colab": {
          "base_uri": "https://localhost:8080/",
          "height": 472
        }
      },
      "outputs": [
        {
          "output_type": "display_data",
          "data": {
            "text/plain": [
              "<Figure size 640x480 with 1 Axes>"
            ],
            "image/png": "[encoded data removed]"
          },
          "metadata": {}
        }
      ],
      "source": [
        "x = np.linspace(0, 2*np.pi, 100)\n",
        "nacrtaj_sin_cos(x)"
      ]
    }
  ],
  "metadata": {
    "kernelspec": {
      "display_name": "Python 3 (ipykernel)",
      "language": "python",
      "name": "python3"
    },
    "language_info": {
      "codemirror_mode": {
        "name": "ipython",
        "version": 3
      },
      "file_extension": ".py",
      "mimetype": "text/x-python",
      "name": "python",
      "nbconvert_exporter": "python",
      "pygments_lexer": "ipython3",
      "version": "3.11.5"
    },
    "colab": {
      "provenance": [],
      "toc_visible": true,
      "include_colab_link": true
    }
  },
  "nbformat": 4,
  "nbformat_minor": 5
}
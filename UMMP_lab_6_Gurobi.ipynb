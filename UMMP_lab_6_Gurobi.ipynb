{
  "nbformat": 4,
  "nbformat_minor": 0,
  "metadata": {
    "colab": {
      "provenance": [],
      "authorship_tag": "ABX9TyOgY3nqEICQi7oNgc+trW5H",
      "include_colab_link": true
    },
    "kernelspec": {
      "name": "python3",
      "display_name": "Python 3"
    },
    "language_info": {
      "name": "python"
    }
  },
  "cells": [
    {
      "cell_type": "markdown",
      "metadata": {
        "id": "view-in-github",
        "colab_type": "text"
      },
      "source": [
        "<a href=\"https://colab.research.google.com/github/adelic-matf/UMMP/blob/main/UMMP_lab_6_Gurobi.ipynb\" target=\"_parent\"><img src=\"https://colab.research.google.com/assets/colab-badge.svg\" alt=\"Open In Colab\"/></a>"
      ]
    },
    {
      "cell_type": "markdown",
      "source": [
        "# Softveri i biblioteke za rešavanje problema linearnog programiranja"
      ],
      "metadata": {
        "id": "hxtSDZll5nHv"
      }
    },
    {
      "cell_type": "markdown",
      "source": [
        "Za rešavanje problema linearnog programiranja, postoji mnogo softvera koji se koriste u akademske i industrijske svrhe. Najpoznatiji su:\n",
        "- Gurobi\n",
        "- CPLEX\n",
        "- Lingo\n",
        "- GLPK (GNU Linear Programming Kit) - otvorenog koda"
      ],
      "metadata": {
        "id": "1yj6HE0A5i4V"
      }
    },
    {
      "cell_type": "markdown",
      "source": [
        "Takođe, u Python-u postoje mnoge biblioteke za rešavanje optimizacionih problema. Neke od njih su:\n",
        "- PuLP\n",
        "- Pyomo\n",
        "- cvxpy"
      ],
      "metadata": {
        "id": "iI96fx1W8HUm"
      }
    },
    {
      "cell_type": "markdown",
      "source": [
        "Ne ovom kurstu upoznaćemo se sa radom u Gurobi softveru, koji je jedan od najbržih i najefikasnijih rešavača za linearno i celobrojno programiranje.\n",
        "Gurobi takođe može rešavati probleme sa kvadratnim funkcijama cilja i/ili kvadratnim ograničenjima, što je deo nelinearnih problema, ali generalno ne rešava probleme nelinearne optimizacije.\n",
        "\n",
        "\n",
        " Iako je komercijalan, Gurobi nudi mogućnost korišćenja besplatnih licenci za različite potrebe:\n",
        "\n",
        "- [Akademska licenca](https://www.gurobi.com/free-trial/) (besplatna za studente, nastavnike, istraživače) - obično nema ograničenja u broju promenljivih i ograničenja, samo zahteva validnu registraciju i dobijanje licence.\n",
        "- Size-Limited Trial License — Instalacija Gurobi paketa putem pip install gurobipy u Colab-u automatski uključuje ovu besplatnu licencu. Može rešavati modele sa najviše 2000 promenljivih i 2000 ograničenja. Ova licenca je namenjena samo za istraživanje i razvoj. Nije dozvoljeno korišćenje u komercijalne svrhe.\n"
      ],
      "metadata": {
        "id": "XGpqaM858sbT"
      }
    },
    {
      "cell_type": "markdown",
      "source": [
        "# Instalacija Gurobi-ja"
      ],
      "metadata": {
        "id": "60FhzQjGDBVv"
      }
    },
    {
      "cell_type": "code",
      "execution_count": 1,
      "metadata": {
        "colab": {
          "base_uri": "https://localhost:8080/"
        },
        "id": "_R8WdifC-yiU",
        "outputId": "78125b3d-6a1f-43e4-a512-576abc4c678e"
      },
      "outputs": [
        {
          "output_type": "stream",
          "name": "stdout",
          "text": [
            "Collecting gurobipy\n",
            "  Downloading gurobipy-12.0.2-cp311-cp311-manylinux2014_x86_64.manylinux_2_17_x86_64.whl.metadata (16 kB)\n",
            "Downloading gurobipy-12.0.2-cp311-cp311-manylinux2014_x86_64.manylinux_2_17_x86_64.whl (14.5 MB)\n",
            "\u001b[?25l   \u001b[90m━━━━━━━━━━━━━━━━━━━━━━━━━━━━━━━━━━━━━━━━\u001b[0m \u001b[32m0.0/14.5 MB\u001b[0m \u001b[31m?\u001b[0m eta \u001b[36m-:--:--\u001b[0m\r\u001b[2K   \u001b[91m━━━━━━━━━━━━━\u001b[0m\u001b[91m╸\u001b[0m\u001b[90m━━━━━━━━━━━━━━━━━━━━━━━━━━\u001b[0m \u001b[32m5.0/14.5 MB\u001b[0m \u001b[31m151.9 MB/s\u001b[0m eta \u001b[36m0:00:01\u001b[0m\r\u001b[2K   \u001b[91m━━━━━━━━━━━━━━━━━━━━━━━━━━━━━━━━━\u001b[0m\u001b[91m╸\u001b[0m\u001b[90m━━━━━━\u001b[0m \u001b[32m12.2/14.5 MB\u001b[0m \u001b[31m192.3 MB/s\u001b[0m eta \u001b[36m0:00:01\u001b[0m\r\u001b[2K   \u001b[91m━━━━━━━━━━━━━━━━━━━━━━━━━━━━━━━━━━━━━━━\u001b[0m\u001b[91m╸\u001b[0m \u001b[32m14.5/14.5 MB\u001b[0m \u001b[31m201.4 MB/s\u001b[0m eta \u001b[36m0:00:01\u001b[0m\r\u001b[2K   \u001b[90m━━━━━━━━━━━━━━━━━━━━━━━━━━━━━━━━━━━━━━━━\u001b[0m \u001b[32m14.5/14.5 MB\u001b[0m \u001b[31m101.0 MB/s\u001b[0m eta \u001b[36m0:00:00\u001b[0m\n",
            "\u001b[?25hInstalling collected packages: gurobipy\n",
            "Successfully installed gurobipy-12.0.2\n"
          ]
        }
      ],
      "source": [
        "!pip install gurobipy  # install gurobipy, if not already installed"
      ]
    },
    {
      "cell_type": "markdown",
      "source": [
        "## Učitavanje paketa i kreiranje optimizacionog modela"
      ],
      "metadata": {
        "id": "HS8kY-zCDh1G"
      }
    },
    {
      "cell_type": "markdown",
      "source": [
        "Učitajmo upravo insatlirani paket:"
      ],
      "metadata": {
        "id": "odXh5WVq9Fjc"
      }
    },
    {
      "cell_type": "code",
      "source": [
        "import gurobipy as gp\n"
      ],
      "metadata": {
        "id": "_NenHsIIDK7P"
      },
      "execution_count": 2,
      "outputs": []
    },
    {
      "cell_type": "markdown",
      "source": [
        "Paket gurobipy sadrži klasu pod nazivom [Model](https://docs.gurobi.com/projects/optimizer/en/current/reference/python/model.html). Pokretanjem komande:"
      ],
      "metadata": {
        "id": "6B8NqpdR-nnw"
      }
    },
    {
      "cell_type": "code",
      "source": [
        "prvigp_model = gp.Model()"
      ],
      "metadata": {
        "id": "HSuLJy3fFbEx",
        "colab": {
          "base_uri": "https://localhost:8080/"
        },
        "outputId": "17c55344-acdd-461e-bc5b-177ac23c5090"
      },
      "execution_count": 3,
      "outputs": [
        {
          "output_type": "stream",
          "name": "stdout",
          "text": [
            "Restricted license - for non-production use only - expires 2026-11-23\n"
          ]
        }
      ]
    },
    {
      "cell_type": "markdown",
      "source": [
        "kreira se objekat pod nazivom prvigp_model koji predstavlja jedan optimizacioni problem. To je osnovna klasa za definisanje i rešavanje optimizacionih modela u Gurobiju. Ona omogućava kreiranje promenljivih, dodavanje ograničenja i funkcije cilja, rešavanje problema i analiziranje rezultata.\n"
      ],
      "metadata": {
        "id": "Hrdg0QpH66P4"
      }
    },
    {
      "cell_type": "markdown",
      "source": [
        "Osim gurobipy paketa učitaćemo i [GRB modul](https://docs.gurobi.com/projects/optimizer/en/current/reference/python/grb.html):"
      ],
      "metadata": {
        "id": "K2uMw-e8PszK"
      }
    },
    {
      "cell_type": "code",
      "source": [
        "from gurobipy import GRB"
      ],
      "metadata": {
        "id": "7DjGlGHFPhO0"
      },
      "execution_count": 4,
      "outputs": []
    },
    {
      "cell_type": "markdown",
      "source": [
        " koji sadrži različite konstante koje nam koriste za definisanje modela:\n",
        "\n",
        "- tipove promenljivih (GRB.BINARY, GRB.CONTINUOUS, GRB.INTEGER, ...)\n",
        "\n",
        "- tipove funkcije cilja (GRB.MINIMIZE, GRB.MAXIMIZE)\n",
        "\n",
        "- statusne kodove (GRB.OPTIMAL, GRB.INFEASIBLE, ...)\n",
        "\n",
        "- parametre koji se mogu menjati (GRB.Param.TimeLimit, GRB.Param.MIPGap, ...)"
      ],
      "metadata": {
        "id": "HUQvc-xkPdmL"
      }
    },
    {
      "cell_type": "markdown",
      "source": [
        "## Definisanje promenljvih"
      ],
      "metadata": {
        "id": "ihOiJXanGSn5"
      }
    },
    {
      "cell_type": "markdown",
      "source": [
        "Za definisanje optimizacionih promenljivih objekta koji smo kreirali imamo na raspolaganju sledeće metode klase Model:\n",
        "- addVar() dodaje jednu promenljivu\n",
        "- addVars() za dodavanje većeg broja promenljivih"
      ],
      "metadata": {
        "id": "2c8Z9M0gHStS"
      }
    },
    {
      "cell_type": "markdown",
      "source": [
        "Metod addVar ima sledeći oblik:\n",
        "\n",
        "**addVar(lb=0.0, ub=float('inf'), obj=0.0, vtype=GRB.CONTINUOUS, name='', column=None)**\n",
        "\n",
        "Svi argumenti imaju podrazumevane vrednosti, pa se metoda može pozvati i bez navođenja bilo kog argumenta.\n",
        "\n",
        "Ipak, razjasnimo šta svaki od njih predstavlja:\n",
        "\n",
        "- lb - donja granica nove promenljive;\n",
        "\n",
        "- ub - gornja granica nove promenljive;\n",
        "\n",
        "- obj - koeficijent nove promenljive u funkciji cilja;\n",
        "\n",
        "- vtype - tip optimizacione promenljive (npr. GRB.CONTINUOUS, GRB.BINARY, GRB.INTEGER).\n",
        "\n",
        "- name - naziv promenljive (koristan za ispis i identifikaciju).\n",
        "\n",
        "- column - objekat tipa Column koji određuje u kojim ograničenjima učestvuje nova promenljiva i sa kojim koeficijentima."
      ],
      "metadata": {
        "id": "HuwgTwlz_DED"
      }
    },
    {
      "cell_type": "markdown",
      "source": [
        "Na primer, koristeći komande"
      ],
      "metadata": {
        "id": "FVSoxEYPK85p"
      }
    },
    {
      "cell_type": "code",
      "source": [
        "x = prvigp_model.addVar(name=\"x1\")\n",
        "y = prvigp_model.addVar(name=\"x2\")"
      ],
      "metadata": {
        "id": "ZKcZLmgxGYb-"
      },
      "execution_count": 5,
      "outputs": []
    },
    {
      "cell_type": "markdown",
      "source": [
        "dodajemo dve optimizacione promenljive u model.\n",
        "\n",
        "Argument name=\"x1\" i name=\"x2\" daje naziv tim promenljivama (što olakšava pregled i debagovanje modela kada ga kad ga ispišmo ili eksportujemo).\n",
        "\n",
        "Dakle:\n",
        "\n",
        "- x postaje Gurobi promenljiva sa imenom \"x1\";\n",
        "\n",
        "- y postaje Gurobi promenljiva sa imenom \"x2\".\n",
        "\n",
        "Kreirane promenljive x i y sada mogu učestvovati u ograničenjima i funkciji cilja modela. Po defaultu, one su kontinualne (GRB.CONTINUOUS), nenegativne (lb=0.0) i sa koeficijentom 0 u funkciji cilja (ako se ne navede drugačije). Dakle, ne moramo unositi ograničenje nenegativnosti promenljivih, ali ako optimizaciona promenljiva nema ograničenja, to moramo eksplicitno naglasiti:"
      ],
      "metadata": {
        "id": "RL30TjOTK_9s"
      }
    },
    {
      "cell_type": "code",
      "source": [
        "y = prvigp_model.addVar(lb=-GRB.INFINITY, ub=GRB.INFINITY, name=\"x2\")"
      ],
      "metadata": {
        "id": "vmUHttGpHsHi"
      },
      "execution_count": 6,
      "outputs": []
    },
    {
      "cell_type": "markdown",
      "source": [
        "Drugi metod **addVars()** se koristi kada želimo definisati veći broj promenljivih. Na primer"
      ],
      "metadata": {
        "id": "wVia5Fs6O3LH"
      }
    },
    {
      "cell_type": "code",
      "source": [
        "n=4; #broj optimizacionih promenljivih\n",
        "x = prvigp_model.addVars(n, name=\"x\")"
      ],
      "metadata": {
        "id": "UHCzMTlpKqZ7"
      },
      "execution_count": 7,
      "outputs": []
    },
    {
      "cell_type": "markdown",
      "source": [
        "Sada je x rečnik sa ključevima od 0 do n-1. Svakoj promenljivoj pristupamo preko $x[i]$, a u ispisu rezultata njeno ime će takođe biti $x[i]$. Proverimo i tip nove promenljive"
      ],
      "metadata": {
        "id": "aywcvZtfLaXI"
      }
    },
    {
      "cell_type": "code",
      "source": [
        "type(x)"
      ],
      "metadata": {
        "id": "mjGO_Ju7LlRE",
        "colab": {
          "base_uri": "https://localhost:8080/"
        },
        "outputId": "0ebbd0f2-4796-4043-d67c-ebc5b02c7122"
      },
      "execution_count": 8,
      "outputs": [
        {
          "output_type": "execute_result",
          "data": {
            "text/plain": [
              "gurobipy._core.tupledict"
            ]
          },
          "metadata": {},
          "execution_count": 8
        }
      ]
    },
    {
      "cell_type": "markdown",
      "source": [
        "Ako želimo da su ključevi indeksirani od 1 do n  onda možemo uraditi sledeće"
      ],
      "metadata": {
        "id": "8h7V2zTULpxX"
      }
    },
    {
      "cell_type": "code",
      "source": [
        "x = prvigp_model.addVars(range(1,n+1), name=\"x\")"
      ],
      "metadata": {
        "id": "q9OGw5eyLzSy"
      },
      "execution_count": 9,
      "outputs": []
    },
    {
      "cell_type": "markdown",
      "source": [
        "Za dalji rad u gurbipy iskoristimo zadatak, koji je rešen i u skripti"
      ],
      "metadata": {
        "id": "7QIL4E3sQbHF"
      }
    },
    {
      "cell_type": "markdown",
      "source": [
        "$$\n",
        "\\begin{array}\n",
        " \\text{(min)}\\quad &-2x_1+x_3\\\\\n",
        " \\\\\n",
        "  \\text{p.o.} \\quad  &x_1+x_2+x_3+x_4= 1\\\\\n",
        "     &x_2+2x_3+x_4= 2\\\\\n",
        "     &-3x_1-x_2+x_3-x_4= 1\\\\\n",
        "     &x_1,x_2,x_3,x_4\\geq 0.\n",
        "    \\end{array}\n",
        "  $$"
      ],
      "metadata": {
        "id": "45zeU1d0QnNf"
      }
    },
    {
      "cell_type": "markdown",
      "source": [
        "Sobzirom na to da smo u prethodnim koracima, dodali mnogo optimizacionih promenljivih koje nam ne trebaju za ovaj konkretan primer, definisaćemo ponovo model. Tako ćemo dobiti prazan objekat, pa ćemo ponovo definisati optimizacione promenljive.\n",
        "\n",
        "\n"
      ],
      "metadata": {
        "id": "E02uDBJ_eEuu"
      }
    },
    {
      "cell_type": "code",
      "source": [
        "prvigp_model = gp.Model()\n",
        "x = prvigp_model.addVars(range(1,n+1), name=\"x\")"
      ],
      "metadata": {
        "id": "EU5RtehDeM82"
      },
      "execution_count": 10,
      "outputs": []
    },
    {
      "cell_type": "markdown",
      "source": [
        "## Definisanje funkcije cilja\n",
        "\n",
        "Funkciju cilja definišemo pomoću metoda **setObjective()**:"
      ],
      "metadata": {
        "id": "jKlwZ1zQMdMS"
      }
    },
    {
      "cell_type": "code",
      "source": [
        "prvigp_model.setObjective(-2*x[1]+x[3], GRB.MINIMIZE)"
      ],
      "metadata": {
        "id": "ER7kjGHrMZNc"
      },
      "execution_count": 11,
      "outputs": []
    },
    {
      "cell_type": "markdown",
      "source": [
        "Zadatak koji rešavamo je problem minimizacije, što smo definisali navođenjem konstante GRB.MINIMIZE.\n",
        "\n",
        "Promenljive koje koristimo u zapisu funkcije cilja moraju biti prethodno definisane kao promenljive modela, inače će rašavač prijaviti grešku.\n",
        "\n",
        "Jedan model može imati samo jednu funkciju cilja, tj. ako pozovemo setObjective više puta, poslednji poziv će zameniti prethodni funkciju cilja.\n",
        "\n",
        "Funkcija cilja može biti izražena i preko izraza sa sumama, vektorima.\n",
        "Na primer, mogli smo je definisati i sa:"
      ],
      "metadata": {
        "id": "oVOizqsGdMxM"
      }
    },
    {
      "cell_type": "code",
      "source": [
        "c = [-2, 0, 1, 0] #lista koeficijenata funkcije cilja, indeksiranje ide od 0, za razliku od rečnika promenljivih x koje smo ranije definisali\n",
        "prvigp_model.setObjective(gp.quicksum(c[i-1] * x[i] for i in range(1,n+1)), GRB.MINIMIZE)"
      ],
      "metadata": {
        "id": "WajEAHngeGF5"
      },
      "execution_count": 12,
      "outputs": []
    },
    {
      "cell_type": "markdown",
      "source": [
        "## Dodavanje ograničenja\n",
        "\n",
        "Objektu klase Model ograničenja dodajemo metodom addConstr(). Gurobi interno prevodi ograničenja u standardni oblik koji rešavač koristi. Ograničenja mogu biti nejednakosti (<=, >=) i jednakosti (==). Imena ograničenja (name) nisu obavezna, ali mogu biti korisna kada se analiziraju rezultati."
      ],
      "metadata": {
        "id": "-ehWEXdyKx6l"
      }
    },
    {
      "cell_type": "code",
      "source": [
        "prvigp_model.addConstr(x[1] + x[2]+x[3]+x[4] == 1, name=\"ogr1\")\n",
        "prvigp_model.addConstr(x[2]+2*x[3]+x[4]==2, name=\"ogr2\")\n",
        "prvigp_model.addConstr(-3*x[1] - x[2]+x[3]-x[4] == 1, name=\"ogr3\")"
      ],
      "metadata": {
        "id": "s-ZvNe4cGZdB",
        "colab": {
          "base_uri": "https://localhost:8080/"
        },
        "outputId": "56052afa-bd54-4d49-c3bb-6fa9e6ded327"
      },
      "execution_count": 13,
      "outputs": [
        {
          "output_type": "execute_result",
          "data": {
            "text/plain": [
              "<gurobi.Constr *Awaiting Model Update*>"
            ]
          },
          "metadata": {},
          "execution_count": 13
        }
      ]
    },
    {
      "cell_type": "markdown",
      "source": [
        "Za dodavanje ograničenja možemo kosrititi i metodu **addConstrs()** ako želimo dodati više njih u petlji."
      ],
      "metadata": {
        "id": "k3k0ZD1rg4UB"
      }
    },
    {
      "cell_type": "markdown",
      "source": [
        "## Rešavanje LP problema\n",
        "\n",
        "Konačno, kada smo završili sa postavljanjem svih informacija u objektu, možemo ga rešiti koristeći metodu optimize():"
      ],
      "metadata": {
        "id": "Ycn8whzQMvEL"
      }
    },
    {
      "cell_type": "code",
      "source": [
        "prvigp_model.optimize()"
      ],
      "metadata": {
        "id": "s-yZ1OnGMuq2",
        "colab": {
          "base_uri": "https://localhost:8080/"
        },
        "outputId": "dec7a5c3-4a33-4533-e722-1037f868bb35"
      },
      "execution_count": 14,
      "outputs": [
        {
          "output_type": "stream",
          "name": "stdout",
          "text": [
            "Gurobi Optimizer version 12.0.2 build v12.0.2rc0 (linux64 - \"Ubuntu 22.04.4 LTS\")\n",
            "\n",
            "CPU model: Intel(R) Xeon(R) CPU @ 2.20GHz, instruction set [SSE2|AVX|AVX2]\n",
            "Thread count: 1 physical cores, 2 logical processors, using up to 2 threads\n",
            "\n",
            "Optimize a model with 3 rows, 4 columns and 11 nonzeros\n",
            "Model fingerprint: 0x966f2af4\n",
            "Coefficient statistics:\n",
            "  Matrix range     [1e+00, 3e+00]\n",
            "  Objective range  [1e+00, 2e+00]\n",
            "  Bounds range     [0e+00, 0e+00]\n",
            "  RHS range        [1e+00, 2e+00]\n",
            "Presolve removed 3 rows and 4 columns\n",
            "Presolve time: 0.01s\n",
            "Presolve: All rows and columns removed\n",
            "Iteration    Objective       Primal Inf.    Dual Inf.      Time\n",
            "       0    1.0000000e+00   0.000000e+00   0.000000e+00      0s\n",
            "\n",
            "Solved in 0 iterations and 0.02 seconds (0.00 work units)\n",
            "Optimal objective  1.000000000e+00\n"
          ]
        }
      ]
    },
    {
      "cell_type": "markdown",
      "source": [
        "Analizirajmo informacije koje smo dobili. Prvo su navedene informacije o verziji Gurobi-ja koja se koristi i sistemu na kome se rešava problem:\n",
        "- Verzija Gurobi-ja: 12.0.2\n",
        "- OS: Ubuntu 22.04.4 LTS\n",
        "- CPU: Intel Xeon, koristi SIMD instrukcije (SSE2, AVX, AVX2)\n",
        "- Thread count: koristi do 2 paralelna niti, iako CPU ima 1 fizičko jezgro i 2 logička (hyperthreading).\n",
        "\n"
      ],
      "metadata": {
        "id": "52wd_DrycQRB"
      }
    },
    {
      "cell_type": "markdown",
      "source": [
        "Zatim slede informacije o zadatku koji se rešava:\n",
        "*Optimize a model with 3 rows, 4 columns and 11 nonzeros*.\n",
        "\n",
        "Model ima:\n",
        "- 3 jednačine\n",
        "- 4 promenljive\n",
        "- 11 nenula elemenata u matrici A"
      ],
      "metadata": {
        "id": "RgzulqRvc9GY"
      }
    },
    {
      "cell_type": "markdown",
      "source": [
        "Model fingerprint: 0xa1c57cbf\n",
        "Hash vrednost modela (broj u heksadecimalnom formatu) i služi za identifikaciju modela.  Ako napravimo i najmanju promenu u modelu (npr. promenimo koeficijent u jednom ograničenju), vrednost fingerprinta će se promeniti."
      ],
      "metadata": {
        "id": "f-iv3BHapUc2"
      }
    },
    {
      "cell_type": "markdown",
      "source": [
        "\n",
        "Posle toga sledi karatka statistika o podacima:\n",
        "- Matrix range: najmanji i najveći koeficijenti u A\n",
        "- Objective range: najmanji i najveći koeficijenti u funkciji cilja\n",
        "- Bounds range: svi imaju iste granice (0)\n",
        "- RHS range: desne strane ograničenja (od 1 do 2)"
      ],
      "metadata": {
        "id": "Drh_VyYgt9ZY"
      }
    },
    {
      "cell_type": "markdown",
      "source": [
        "Dalje slede informacije o pripremnoj fazi modela. U okviru ove faze, rešavač proverava sistem jednačina uklanja očigledno redundantne ili rešenjem određene promenljive i ograničenja.\n",
        "\n",
        "U ovom slučaju ceo model je rešiv u presolve fazi, što znači da se optimalno rešenje može dobiti bez pokretanja iterativnog (simpleks) algoritma."
      ],
      "metadata": {
        "id": "ikMI0idnpnyg"
      }
    },
    {
      "cell_type": "markdown",
      "source": [
        "Nakon toga sledi tabela sa informacijama:\n",
        "- Iteration - u prvoj i jedinoj iteraciji je rešen problem\n",
        "- Objective - optimalna vrednost je jednaka 1\n",
        "- Primal Inf. = 0.0 - sve ograničenja zadovoljena\n",
        "- Dual Inf. = 0.0 - dualni uslovi optimalnosti takođe zadovoljeni\n",
        "- Time - vreme za koje je rešen problem"
      ],
      "metadata": {
        "id": "NQ2ydn2LptuK"
      }
    },
    {
      "cell_type": "markdown",
      "source": [],
      "metadata": {
        "id": "M9qDDJvL9Fp3"
      }
    },
    {
      "cell_type": "markdown",
      "source": [
        "## Prikazivanje rezultata i čuvanje podataka\n",
        "\n",
        "\n"
      ],
      "metadata": {
        "id": "HFEYUUmeOO9W"
      }
    },
    {
      "cell_type": "markdown",
      "source": [
        "Najjendostavniji način da prikažemo rezutlate jeste direktnim štampanjem u terminalu. Metod getVars() vraća listu svih promenljivih u modelu. Atributi promenljivih su:\n",
        "- VarName - ime promenljive\n",
        "- X - optimalna vrednost promenljive (dostupna samo nako što je problem rešen)\n",
        "- LB -donja granica promenljive\n",
        "- UB - gornja granica promenljive\n",
        "- Obj - odgovarajući koeficijent u funkciji cilja\n",
        "\n",
        "i još neke koje nećemo koristiti.\n",
        "\n",
        "Odštampajmo rezultate u terminali koristeći ove informacije:"
      ],
      "metadata": {
        "id": "j-DvleveTAQp"
      }
    },
    {
      "cell_type": "code",
      "source": [
        "if prvigp_model.status == GRB.OPTIMAL:\n",
        "    print(\"Optimalna vrednost funkcije cilja:\", prvigp_model.ObjVal)\n",
        "    print(\"Vrednosti promenljivih su:\")\n",
        "    for x in prvigp_model.getVars():\n",
        "        print(f\"{x.VarName} = {x.X}\")\n",
        "else:\n",
        "    print(\"Model nije uspešno rešen.\")"
      ],
      "metadata": {
        "id": "u3eOJfO-M4C7",
        "colab": {
          "base_uri": "https://localhost:8080/"
        },
        "outputId": "b53d26ce-0c75-4aee-c946-ba50f1c502ef"
      },
      "execution_count": 15,
      "outputs": [
        {
          "output_type": "stream",
          "name": "stdout",
          "text": [
            "Optimalna vrednost funkcije cilja: 1.0\n",
            "Vrednosti promenljivih su:\n",
            "x[1] = 0.0\n",
            "x[2] = 0.0\n",
            "x[3] = 1.0\n",
            "x[4] = 0.0\n"
          ]
        }
      ]
    },
    {
      "cell_type": "markdown",
      "source": [
        "Model i rezultate možemo upisati i u fajl. Uobičajeni način za čuvanje informacija o modelu je tekstualni fajl sa ekstenzijom .lp. Format je standardan za sve rešavače, pa ga mogu čitati i drugi softveri."
      ],
      "metadata": {
        "id": "372cYmrvZ9je"
      }
    },
    {
      "cell_type": "code",
      "source": [
        "prvigp_model.write(\"prvigp_model.lp\")"
      ],
      "metadata": {
        "id": "Zsu22aE6mpKA"
      },
      "execution_count": 16,
      "outputs": []
    },
    {
      "cell_type": "markdown",
      "source": [
        "Metod write će kreirati tekstulani fajl prvigp_model.lp i u njega upisati funkciju cilja i jednačine ograničanja na način koji je čoveku jednostavno čitljiv. Na Google Colabu, ovako kreiran fajl, možemo pronaći na levoj strani prozora, otvaranjem ikonice za folder."
      ],
      "metadata": {
        "id": "lG0RsfkpcN57"
      }
    },
    {
      "cell_type": "markdown",
      "source": [
        "Za tekstualni fajl sa rešenjima problema, Gurobi koristi svoj poseban format koji nije standardizovan, ali je jedostavan i čitljiv. Takav fajl dobijamo korišćenjem ekstenzije .sol."
      ],
      "metadata": {
        "id": "qizj1zEXcoyu"
      }
    },
    {
      "cell_type": "code",
      "source": [
        "prvigp_model.write(\"prvigp_model_rez.sol\")"
      ],
      "metadata": {
        "id": "csIRTk2TOpcm"
      },
      "execution_count": 17,
      "outputs": []
    },
    {
      "cell_type": "code",
      "source": [
        "p = prvigp_model.presolve()\n",
        "p.write(\"prvigp_model_presolve.lp\")\n"
      ],
      "metadata": {
        "colab": {
          "base_uri": "https://localhost:8080/"
        },
        "id": "Vv0aMecHndSA",
        "outputId": "9529b593-c82b-416f-8bfa-09327f62402b"
      },
      "execution_count": 18,
      "outputs": [
        {
          "output_type": "stream",
          "name": "stdout",
          "text": [
            "Gurobi Optimizer version 12.0.2 build v12.0.2rc0 (linux64 - \"Ubuntu 22.04.4 LTS\")\n",
            "\n",
            "CPU model: Intel(R) Xeon(R) CPU @ 2.20GHz, instruction set [SSE2|AVX|AVX2]\n",
            "Thread count: 1 physical cores, 2 logical processors, using up to 2 threads\n",
            "\n",
            "Presolve a model with 3 rows, 4 columns and 11 nonzeros\n",
            "Coefficient statistics:\n",
            "  Matrix range     [1e+00, 3e+00]\n",
            "  Objective range  [1e+00, 2e+00]\n",
            "  Bounds range     [0e+00, 0e+00]\n",
            "  RHS range        [1e+00, 2e+00]\n",
            "Presolve removed 3 rows and 4 columns\n"
          ]
        }
      ]
    },
    {
      "cell_type": "code",
      "source": [
        "prvigp_model.setParam(\"LogFile\",\"resavanje.log\")"
      ],
      "metadata": {
        "colab": {
          "base_uri": "https://localhost:8080/"
        },
        "id": "n200pKlG8USh",
        "outputId": "c3ba6913-6950-4f8c-f3c5-81b98efd1554"
      },
      "execution_count": 19,
      "outputs": [
        {
          "output_type": "stream",
          "name": "stdout",
          "text": [
            "Set parameter LogFile to value \"resavanje.log\"\n"
          ]
        }
      ]
    },
    {
      "cell_type": "markdown",
      "source": [
        "# Drugi primer"
      ],
      "metadata": {
        "id": "InBsftAx3Oiw"
      }
    },
    {
      "cell_type": "code",
      "source": [
        "model2=gp.Model()"
      ],
      "metadata": {
        "id": "zst7_q9c3RLY"
      },
      "execution_count": 20,
      "outputs": []
    },
    {
      "cell_type": "code",
      "source": [
        "n=4\n",
        "x = model2.addVars(range(1,n+1), name=\"x\")"
      ],
      "metadata": {
        "id": "BVpNmTlm3qjA"
      },
      "execution_count": 21,
      "outputs": []
    },
    {
      "cell_type": "code",
      "source": [
        "model2.setObjective(2*x[1]-x[2]+2*x[3]+x[4], GRB.MAXIMIZE)"
      ],
      "metadata": {
        "id": "hu_AAcJ833VB"
      },
      "execution_count": 22,
      "outputs": []
    },
    {
      "cell_type": "code",
      "source": [
        "model2.addConstr(x[1] +x[2]+2*x[3]-x[4]>= 9, name=\"ogr1\")\n",
        "model2.addConstr(x[1]+x[2] +x[3] <=10, name=\"ogr2\")\n",
        "model2.addConstr(x[2]+x[3]+x[4]  <= 9, name=\"ogr3\")"
      ],
      "metadata": {
        "id": "X4zkkIxB4AjJ",
        "colab": {
          "base_uri": "https://localhost:8080/"
        },
        "outputId": "a40039a9-fa0e-4c7a-eb50-ad3233f852d3"
      },
      "execution_count": 23,
      "outputs": [
        {
          "output_type": "execute_result",
          "data": {
            "text/plain": [
              "<gurobi.Constr *Awaiting Model Update*>"
            ]
          },
          "metadata": {},
          "execution_count": 23
        }
      ]
    },
    {
      "cell_type": "code",
      "source": [
        "model2.optimize()"
      ],
      "metadata": {
        "id": "mhY7874g4cDC",
        "colab": {
          "base_uri": "https://localhost:8080/"
        },
        "outputId": "692c5d7a-b412-4667-e018-e1a114a65bcd"
      },
      "execution_count": 24,
      "outputs": [
        {
          "output_type": "stream",
          "name": "stdout",
          "text": [
            "Gurobi Optimizer version 12.0.2 build v12.0.2rc0 (linux64 - \"Ubuntu 22.04.4 LTS\")\n",
            "\n",
            "CPU model: Intel(R) Xeon(R) CPU @ 2.20GHz, instruction set [SSE2|AVX|AVX2]\n",
            "Thread count: 1 physical cores, 2 logical processors, using up to 2 threads\n",
            "\n",
            "Optimize a model with 3 rows, 4 columns and 10 nonzeros\n",
            "Model fingerprint: 0x339f2fc1\n",
            "Coefficient statistics:\n",
            "  Matrix range     [1e+00, 2e+00]\n",
            "  Objective range  [1e+00, 2e+00]\n",
            "  Bounds range     [0e+00, 0e+00]\n",
            "  RHS range        [9e+00, 1e+01]\n",
            "Presolve time: 0.01s\n",
            "Presolved: 3 rows, 4 columns, 10 nonzeros\n",
            "\n",
            "Iteration    Objective       Primal Inf.    Dual Inf.      Time\n",
            "       0    5.0000000e+30   4.000000e+30   5.000000e+00      0s\n",
            "       4    2.5000000e+01   0.000000e+00   0.000000e+00      0s\n",
            "\n",
            "Solved in 4 iterations and 0.01 seconds (0.00 work units)\n",
            "Optimal objective  2.500000000e+01\n"
          ]
        }
      ]
    }
  ]
}